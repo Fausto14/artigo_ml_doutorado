{
 "cells": [
  {
   "cell_type": "code",
   "execution_count": 1,
   "metadata": {},
   "outputs": [],
   "source": [
    "#IMPORTAR BIBLIOTECAS UTILIZADAS\n",
    "\n",
    "import numpy as np\n",
    "import pandas as pd\n",
    "import random\n",
    "from collections import Counter\n",
    "from sklearn import metrics\n",
    "from sklearn.metrics import confusion_matrix\n",
    "from sklearn.model_selection import cross_val_score\n",
    "from sklearn.model_selection import GridSearchCV"
   ]
  },
  {
   "cell_type": "code",
   "execution_count": 2,
   "metadata": {},
   "outputs": [],
   "source": [
    "\"\"\"\n",
    "    Classe para processar o dataset\n",
    "    Obs: o dataset tem que ser para problemas de classificacao e nele tem que conter uma coluna Class\n",
    "\"\"\"\n",
    "import os\n",
    "import sys\n",
    "sys.path.insert(0, os.path.abspath('../Util'))\n",
    "from dados import ProcessarDados"
   ]
  },
  {
   "cell_type": "code",
   "execution_count": 3,
   "metadata": {},
   "outputs": [],
   "source": [
    "#IMPORTANDO DATASET\n",
    "\n",
    "dataset = ProcessarDados('../dataset/norm_bin_10_FEATURES_M17_CM6b_TH199.csv')"
   ]
  },
  {
   "cell_type": "code",
   "execution_count": 4,
   "metadata": {},
   "outputs": [],
   "source": [
    "# funcção que treina e testa o modelo armazenando as métricas\n",
    "# retorna um dicionário cotendo os valores das métricas de cada rodada\n",
    "\n",
    "def treinamento_teste(epocas = 10, k_folds = 5, exibir_matriz_confusao=False, exibir_metricas=False):\n",
    "    \n",
    "    #array para armazenar as das métricas de cada rodada\n",
    "    resultados_accuracy = []\n",
    "    resultados_precision = []\n",
    "    resultados_recall = []\n",
    "    resultados_f1 = []\n",
    "    #resultados_parametros = []\n",
    "    \n",
    "    #dicionário das métricas\n",
    "    resultados_gerais = {}\n",
    "\n",
    "    for i in range(epocas):\n",
    "        #SEPARAR DADOS DE TREINO E TESTE MANTENDO A MESMA PROPORÇÃO  (80% E 20%)\n",
    "        \n",
    "        X_treino, X_teste, y_treino, y_teste = dataset.holdout(0.2)\n",
    "        \n",
    "        #ALTERANDO DIMENSÃO DE Y PARA D=1\n",
    "\n",
    "        y_treino = y_treino.reshape(480,)\n",
    "        y_teste = y_teste.reshape(120,)\n",
    "                \n",
    "        #ADICIONAR ATRIBUTOS IGUAIS A 1 EM X0\n",
    "\n",
    "        X_treino = np.c_[np.ones(X_treino.shape[0]), X_treino]\n",
    "\n",
    "        X_teste = np.c_[np.ones(X_teste.shape[0]), X_teste]\n",
    "        \n",
    "        #DEFINIR FUNCAO LOGISTICA (SIGMOID) PARA PREVER A PROBABILIDADE \n",
    "\n",
    "        def sigmoid(w,X):\n",
    "            z = np.dot(X,w)\n",
    "            return 1 / (1 + np.exp(-z))\n",
    "        \n",
    "        #DEFINIR FUNCAO PARA CLASSIFICAR\n",
    "        \n",
    "        def classificar(y, limiar=0.5):\n",
    "            return (y > limiar)*1\n",
    "\n",
    "        #DEFINIR FUNCAO CUSTO UTILIZANDO ENTROPIA CRUZADA\n",
    "\n",
    "        def entropiaCruzada(previsto,y):\n",
    "            return (-y * np.log(previsto) - (1 - y) * np.log(1 - previsto)).mean()\n",
    "        \n",
    "        #DEFINIR FUNCAO GRADIENTE DESCENDENTE PARA ATUALIZAR OS PARAMÊTROS w\n",
    "\n",
    "        def gradienteDescendente(w, X, y, alpha):\n",
    "            previsto = sigmoid(w,X)\n",
    "            erro = previsto - y\n",
    "            gradiente = np.dot(X.T, erro) / len(X)\n",
    "            w -= alpha*gradiente\n",
    "\n",
    "        #INICIALIZAR W (THETA) DE FORMA RANDOMICA e OTIMIZAR PARÂMETROS \n",
    "\n",
    "        w = np.random.rand(X_treino.shape[1])\n",
    "        \n",
    "        for i in range(3000):\n",
    "            custo = entropiaCruzada(sigmoid(w,X_treino),y_treino)\n",
    "            \n",
    "            gradienteDescendente(w,X_treino,y_treino,0.01)\n",
    "        \n",
    "        #TREINANDO O MODELO\n",
    "        \n",
    "        classificados = classificar(sigmoid(w,X_treino))\n",
    "        \n",
    "        #TESTANDO O MODELO\n",
    "        \n",
    "        y_pred = classificar(sigmoid(w,X_teste))\n",
    "        \n",
    "        if exibir_matriz_confusao:\n",
    "            print(confusion_matrix(y_teste, y_pred))\n",
    "\n",
    "        # calculado as metricas\n",
    "        accuracy = metrics.accuracy_score(y_teste, y_pred)\n",
    "        precision = metrics.precision_score(y_teste, y_pred)\n",
    "        recall = metrics.recall_score(y_teste, y_pred)\n",
    "        f1_score = 2 * (precision * recall) / (precision + recall)\n",
    "        \n",
    "\n",
    "        # armazenando as métricas\n",
    "        resultados_accuracy.append(accuracy)\n",
    "        resultados_precision.append(precision)\n",
    "        resultados_recall.append(recall)\n",
    "        resultados_f1.append(f1_score)\n",
    "\n",
    "\n",
    "        if exibir_metricas:\n",
    "            print(\"Rodada: #\",i)\n",
    "            print(\"Accuracy:\",accuracy)\n",
    "            print(\"Precision:\",precision)\n",
    "            print(\"Recall:\",recall)\n",
    "            print(\"F1-Score:\",f1_score)\n",
    "            print(\"\\n\")\n",
    "\n",
    "            \n",
    "    resultados_gerais['accuracy'] = resultados_accuracy\n",
    "    resultados_gerais['precision'] = resultados_precision\n",
    "    resultados_gerais['recall'] = resultados_recall\n",
    "    resultados_gerais['f1'] = resultados_f1\n",
    "    \n",
    "    return resultados_gerais"
   ]
  },
  {
   "cell_type": "code",
   "execution_count": 5,
   "metadata": {},
   "outputs": [],
   "source": [
    "#TABELA COM RESULTADO DAS MÉTRICAS\n",
    "\n",
    "def tabelaMetricas(nome_modelo, dict_metricas, rodadas=False):\n",
    "    print (\"============================================== \"+nome_modelo+\" =================================================\")\n",
    "    print (\"=================================== TABELA DE MÉTRICAS DO MODELO ===================================\")\n",
    "    \n",
    "    if(rodadas==False):\n",
    "        print (\"\\t Accuracy \\t|\\t Precision \\t|\\t Recall \\t|\\t F1-Score\")\n",
    "        print (\"      %.2f +- %.2f\" % (np.mean(dict_metricas['accuracy'], axis=0), np.std(dict_metricas['accuracy'], axis=0)),end='       ')\n",
    "        print (\"      %.2f +- %.2f\" % (np.mean(dict_metricas['precision'], axis=0), np.std(dict_metricas['precision'], axis=0)),end='    ')\n",
    "        print (\"      %.2f +- %.2f\" % (np.mean(dict_metricas['recall'], axis=0), np.std(dict_metricas['recall'], axis=0)),end='       ')\n",
    "        print (\"      %.2f +- %.2f\" % (np.mean(dict_metricas['f1'], axis=0), np.std(dict_metricas['f1'], axis=0)))\n",
    "        print (\"====================================================================================================\")"
   ]
  },
  {
   "cell_type": "code",
   "execution_count": 6,
   "metadata": {},
   "outputs": [
    {
     "name": "stdout",
     "output_type": "stream",
     "text": [
      "============================================== REGRESSÃO LOGÍSTICA =================================================\n",
      "=================================== TABELA DE MÉTRICAS DO MODELO ===================================\n",
      "\t Accuracy \t|\t Precision \t|\t Recall \t|\t F1-Score\n",
      "      0.90 +- 0.02             0.92 +- 0.03          0.94 +- 0.02             0.93 +- 0.02\n",
      "====================================================================================================\n"
     ]
    }
   ],
   "source": [
    "#DEFININDO OS PARÂMETROS\n",
    "\n",
    "epocas = 50\n",
    "k_folds = 5\n",
    "exibir_matriz_confusao = False\n",
    "exibir_metricas = False\n",
    "\n",
    "# TREINANDO O MODELO E OBTENDO AS MÉTRICAS\n",
    "\n",
    "dict_metricas = treinamento_teste(epocas, k_folds, exibir_matriz_confusao, exibir_metricas)\n",
    "tabelaMetricas('REGRESSÃO LOGÍSTICA',dict_metricas)"
   ]
  },
  {
   "cell_type": "code",
   "execution_count": null,
   "metadata": {},
   "outputs": [],
   "source": []
  },
  {
   "cell_type": "code",
   "execution_count": null,
   "metadata": {},
   "outputs": [],
   "source": []
  },
  {
   "cell_type": "code",
   "execution_count": null,
   "metadata": {},
   "outputs": [],
   "source": []
  },
  {
   "cell_type": "code",
   "execution_count": null,
   "metadata": {},
   "outputs": [],
   "source": [
    "\n",
    "\n",
    "\n",
    "\n"
   ]
  },
  {
   "cell_type": "code",
   "execution_count": null,
   "metadata": {},
   "outputs": [],
   "source": []
  },
  {
   "cell_type": "code",
   "execution_count": null,
   "metadata": {},
   "outputs": [],
   "source": [
    "\n"
   ]
  },
  {
   "cell_type": "code",
   "execution_count": null,
   "metadata": {},
   "outputs": [],
   "source": []
  },
  {
   "cell_type": "code",
   "execution_count": null,
   "metadata": {},
   "outputs": [],
   "source": []
  },
  {
   "cell_type": "code",
   "execution_count": null,
   "metadata": {},
   "outputs": [],
   "source": []
  },
  {
   "cell_type": "code",
   "execution_count": null,
   "metadata": {},
   "outputs": [],
   "source": []
  }
 ],
 "metadata": {
  "kernelspec": {
   "display_name": "Python 3",
   "language": "python",
   "name": "python3"
  },
  "language_info": {
   "codemirror_mode": {
    "name": "ipython",
    "version": 3
   },
   "file_extension": ".py",
   "mimetype": "text/x-python",
   "name": "python",
   "nbconvert_exporter": "python",
   "pygments_lexer": "ipython3",
   "version": "3.7.7"
  }
 },
 "nbformat": 4,
 "nbformat_minor": 4
}
