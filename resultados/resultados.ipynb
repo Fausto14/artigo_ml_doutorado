{
 "cells": [
  {
   "cell_type": "code",
   "execution_count": 1,
   "metadata": {},
   "outputs": [],
   "source": [
    "import numpy as np\n",
    "import pandas as pd\n",
    "import matplotlib.pyplot as plt\n",
    "from numpy import load\n",
    "import time\n",
    "\n",
    "%matplotlib inline\n",
    "plt.rcParams.update({'figure.figsize':(5,4), 'figure.dpi':100})"
   ]
  },
  {
   "cell_type": "code",
   "execution_count": 2,
   "metadata": {},
   "outputs": [],
   "source": [
    "# load array\n",
    "array_accuracy = []\n",
    "array_f2 = []\n",
    "\n",
    "resultados_svm = load('resultados_svm.npy', allow_pickle=True)\n",
    "resultados_mlp = load('resultados_mlp.npy', allow_pickle=True)\n",
    "resultados_rl = load('resultados_rl.npy', allow_pickle=True)\n",
    "resultados_knn = load('resultados_knn.npy', allow_pickle=True)\n",
    "resultados_mlm = load('resultados_mlm.npy', allow_pickle=True)\n",
    "\n",
    "array_accuracy.append(resultados_svm.item().get('accuracy'))\n",
    "array_accuracy.append(resultados_mlp.item().get('accuracy'))\n",
    "array_accuracy.append(resultados_rl.item().get('accuracy'))\n",
    "array_accuracy.append(resultados_knn.item().get('accuracy'))\n",
    "array_accuracy.append(resultados_mlm.item().get('accuracy'))\n",
    "array_accuracy = np.asarray(array_accuracy).T\n",
    "#array_accuracy\n",
    "\n",
    "array_f2.append(resultados_svm.item().get('f2'))\n",
    "array_f2.append(resultados_mlp.item().get('f2'))\n",
    "array_f2.append(resultados_rl.item().get('f2'))\n",
    "array_f2.append(resultados_knn.item().get('f2'))\n",
    "array_f2.append(resultados_mlm.item().get('f2'))\n",
    "array_f2 = np.asarray(array_f2).T\n",
    "#array_f2"
   ]
  },
  {
   "cell_type": "code",
   "execution_count": 3,
   "metadata": {},
   "outputs": [
    {
     "data": {
      "image/png": "[encoded data removed]",
      "text/plain": [
       "<matplotlib.figure.Figure at 0x19621b891d0>"
      ]
     },
     "metadata": {},
     "output_type": "display_data"
    }
   ],
   "source": [
    "df_accuracy = pd.DataFrame(array_accuracy*100,columns=['SVM','MLP', 'RL', 'KNN', 'MLM'])\n",
    "boxplot_accuracy = df_accuracy.boxplot(column=['SVM','MLP', 'RL', 'KNN', 'MLM'])\n",
    "plt.ylabel('Acurácia (%)')\n",
    "plt.savefig('acuracia.pdf')"
   ]
  },
  {
   "cell_type": "code",
   "execution_count": 4,
   "metadata": {},
   "outputs": [
    {
     "data": {
      "image/png": "[encoded data removed]",
      "text/plain": [
       "<matplotlib.figure.Figure at 0x19621bda6a0>"
      ]
     },
     "metadata": {},
     "output_type": "display_data"
    }
   ],
   "source": [
    "df_f2 = pd.DataFrame(array_f2*100,columns=['SVM','MLP', 'RL',  'KNN', 'MLM'])\n",
    "boxplot_f2 = df_f2.boxplot(column=['SVM','MLP', 'RL', 'KNN', 'MLM'], grid = True)\n",
    "plt.ylabel('f(0.5)-score (%)')\n",
    "plt.savefig('f05_score.pdf')"
   ]
  },
  {
   "cell_type": "code",
   "execution_count": 5,
   "metadata": {},
   "outputs": [
    {
     "data": {
      "text/html": [
       "<div>\n",
       "<style scoped>\n",
       "    .dataframe tbody tr th:only-of-type {\n",
       "        vertical-align: middle;\n",
       "    }\n",
       "\n",
       "    .dataframe tbody tr th {\n",
       "        vertical-align: top;\n",
       "    }\n",
       "\n",
       "    .dataframe thead th {\n",
       "        text-align: right;\n",
       "    }\n",
       "</style>\n",
       "<table border=\"1\" class=\"dataframe\">\n",
       "  <thead>\n",
       "    <tr style=\"text-align: right;\">\n",
       "      <th></th>\n",
       "      <th>Acurácia</th>\n",
       "      <th>Especificidade</th>\n",
       "      <th>Precisão</th>\n",
       "      <th>Sensitividade</th>\n",
       "      <th>fb-score</th>\n",
       "    </tr>\n",
       "  </thead>\n",
       "  <tbody>\n",
       "    <tr>\n",
       "      <th>SVM</th>\n",
       "      <td>90.38 $\\pm$ 2.19</td>\n",
       "      <td>72.34 $\\pm$ 8.18</td>\n",
       "      <td>91.40 $\\pm$ 2.77</td>\n",
       "      <td>96.36 $\\pm$ 1.90</td>\n",
       "      <td>92.33 $\\pm$ 2.17</td>\n",
       "    </tr>\n",
       "    <tr>\n",
       "      <th>MLP</th>\n",
       "      <td>91.58 $\\pm$ 2.04</td>\n",
       "      <td>80.97 $\\pm$ 7.72</td>\n",
       "      <td>93.89 $\\pm$ 2.54</td>\n",
       "      <td>95.09 $\\pm$ 2.57</td>\n",
       "      <td>94.09 $\\pm$ 1.87</td>\n",
       "    </tr>\n",
       "    <tr>\n",
       "      <th>RL</th>\n",
       "      <td>89.72 $\\pm$ 2.53</td>\n",
       "      <td>73.97 $\\pm$ 9.71</td>\n",
       "      <td>91.72 $\\pm$ 3.36</td>\n",
       "      <td>95.01 $\\pm$ 2.69</td>\n",
       "      <td>92.32 $\\pm$ 2.58</td>\n",
       "    </tr>\n",
       "    <tr>\n",
       "      <th>KNN</th>\n",
       "      <td>89.85 $\\pm$ 2.81</td>\n",
       "      <td>72.05 $\\pm$ 9.36</td>\n",
       "      <td>91.28 $\\pm$ 3.00</td>\n",
       "      <td>95.73 $\\pm$ 2.37</td>\n",
       "      <td>92.11 $\\pm$ 2.44</td>\n",
       "    </tr>\n",
       "    <tr>\n",
       "      <th>MLM</th>\n",
       "      <td>92.77 $\\pm$ 2.35</td>\n",
       "      <td>79.35 $\\pm$ 8.76</td>\n",
       "      <td>93.51 $\\pm$ 2.91</td>\n",
       "      <td>97.21 $\\pm$ 1.47</td>\n",
       "      <td>94.20 $\\pm$ 2.33</td>\n",
       "    </tr>\n",
       "  </tbody>\n",
       "</table>\n",
       "</div>"
      ],
      "text/plain": [
       "             Acurácia    Especificidade          Precisão     Sensitividade  \\\n",
       "SVM  90.38 $\\pm$ 2.19  72.34 $\\pm$ 8.18  91.40 $\\pm$ 2.77  96.36 $\\pm$ 1.90   \n",
       "MLP  91.58 $\\pm$ 2.04  80.97 $\\pm$ 7.72  93.89 $\\pm$ 2.54  95.09 $\\pm$ 2.57   \n",
       "RL   89.72 $\\pm$ 2.53  73.97 $\\pm$ 9.71  91.72 $\\pm$ 3.36  95.01 $\\pm$ 2.69   \n",
       "KNN  89.85 $\\pm$ 2.81  72.05 $\\pm$ 9.36  91.28 $\\pm$ 3.00  95.73 $\\pm$ 2.37   \n",
       "MLM  92.77 $\\pm$ 2.35  79.35 $\\pm$ 8.76  93.51 $\\pm$ 2.91  97.21 $\\pm$ 1.47   \n",
       "\n",
       "             fb-score  \n",
       "SVM  92.33 $\\pm$ 2.17  \n",
       "MLP  94.09 $\\pm$ 1.87  \n",
       "RL   92.32 $\\pm$ 2.58  \n",
       "KNN  92.11 $\\pm$ 2.44  \n",
       "MLM  94.20 $\\pm$ 2.33  "
      ]
     },
     "execution_count": 5,
     "metadata": {},
     "output_type": "execute_result"
    }
   ],
   "source": [
    "metricas = {\n",
    "    'Acurácia': [\n",
    "        \"%.2f $\\pm$ %.2f\" % (np.mean(resultados_svm.item().get('accuracy'), axis=0)*100, np.std(resultados_svm.item().get('accuracy'), axis=0)*100),\n",
    "        \"%.2f $\\pm$ %.2f\" % (np.mean(resultados_mlp.item().get('accuracy'), axis=0)*100, np.std(resultados_mlp.item().get('accuracy'), axis=0)*100),\n",
    "        \"%.2f $\\pm$ %.2f\" % (np.mean(resultados_rl.item().get('accuracy'), axis=0)*100, np.std(resultados_rl.item().get('accuracy'), axis=0)*100),\n",
    "        \"%.2f $\\pm$ %.2f\" % (np.mean(resultados_knn.item().get('accuracy'), axis=0)*100, np.std(resultados_knn.item().get('accuracy'), axis=0)*100),\n",
    "        \"%.2f $\\pm$ %.2f\" % (np.mean(resultados_mlm.item().get('accuracy'), axis=0)*100, np.std(resultados_mlm.item().get('accuracy'), axis=0)*100)\n",
    "        \n",
    "    ],\n",
    "    'Precisão': [\n",
    "        \"%.2f $\\pm$ %.2f\" % (np.mean(resultados_svm.item().get('precision'), axis=0)*100, np.std(resultados_svm.item().get('precision'), axis=0)*100),\n",
    "        \"%.2f $\\pm$ %.2f\" % (np.mean(resultados_mlp.item().get('precision'), axis=0)*100, np.std(resultados_mlp.item().get('precision'), axis=0)*100),\n",
    "        \"%.2f $\\pm$ %.2f\" % (np.mean(resultados_rl.item().get('precision'), axis=0)*100, np.std(resultados_rl.item().get('precision'), axis=0)*100),\n",
    "        \"%.2f $\\pm$ %.2f\" % (np.mean(resultados_knn.item().get('precision'), axis=0)*100, np.std(resultados_knn.item().get('precision'), axis=0)*100),\n",
    "        \"%.2f $\\pm$ %.2f\" % (np.mean(resultados_mlm.item().get('precision'), axis=0)*100, np.std(resultados_mlm.item().get('precision'), axis=0)*100)\n",
    "    ],\n",
    "    'Sensitividade': [\n",
    "        \"%.2f $\\pm$ %.2f\" % (np.mean(resultados_svm.item().get('recall'), axis=0)*100, np.std(resultados_svm.item().get('recall'), axis=0)*100),\n",
    "        \"%.2f $\\pm$ %.2f\" % (np.mean(resultados_mlp.item().get('recall'), axis=0)*100, np.std(resultados_mlp.item().get('recall'), axis=0)*100),\n",
    "        \"%.2f $\\pm$ %.2f\" % (np.mean(resultados_rl.item().get('recall'), axis=0)*100, np.std(resultados_rl.item().get('recall'), axis=0)*100),\n",
    "        \"%.2f $\\pm$ %.2f\" % (np.mean(resultados_knn.item().get('recall'), axis=0)*100, np.std(resultados_knn.item().get('recall'), axis=0)*100),\n",
    "        \"%.2f $\\pm$ %.2f\" % (np.mean(resultados_mlm.item().get('recall'), axis=0)*100, np.std(resultados_mlm.item().get('recall'), axis=0)*100)\n",
    "        \n",
    "    ],\n",
    "    'Especificidade': [\n",
    "        \"%.2f $\\pm$ %.2f\" % (np.mean(resultados_svm.item().get('specificity'), axis=0)*100, np.std(resultados_svm.item().get('specificity'), axis=0)*100),\n",
    "        \"%.2f $\\pm$ %.2f\" % (np.mean(resultados_mlp.item().get('specificity'), axis=0)*100, np.std(resultados_mlp.item().get('specificity'), axis=0)*100),\n",
    "        \"%.2f $\\pm$ %.2f\" % (np.mean(resultados_rl.item().get('specificity'), axis=0)*100, np.std(resultados_rl.item().get('specificity'), axis=0)*100),\n",
    "        \"%.2f $\\pm$ %.2f\" % (np.mean(resultados_knn.item().get('specificity'), axis=0)*100, np.std(resultados_knn.item().get('specificity'), axis=0)*100),\n",
    "        \"%.2f $\\pm$ %.2f\" % (np.mean(resultados_mlm.item().get('specificity'), axis=0)*100, np.std(resultados_mlm.item().get('specificity'), axis=0)*100)\n",
    "        \n",
    "    ],\n",
    "    'fb-score': [\n",
    "        \"%.2f $\\pm$ %.2f\" % (np.mean(resultados_svm.item().get('f2'), axis=0)*100, np.std(resultados_svm.item().get('f2'), axis=0)*100),\n",
    "        \"%.2f $\\pm$ %.2f\" % (np.mean(resultados_mlp.item().get('f2'), axis=0)*100, np.std(resultados_mlp.item().get('f2'), axis=0)*100),\n",
    "        \"%.2f $\\pm$ %.2f\" % (np.mean(resultados_rl.item().get('f2'), axis=0)*100, np.std(resultados_rl.item().get('f2'), axis=0)*100),\n",
    "        \"%.2f $\\pm$ %.2f\" % (np.mean(resultados_knn.item().get('f2'), axis=0)*100, np.std(resultados_knn.item().get('f2'), axis=0)*100),\n",
    "        \"%.2f $\\pm$ %.2f\" % (np.mean(resultados_mlm.item().get('f2'), axis=0)*100, np.std(resultados_mlm.item().get('f2'), axis=0)*100)\n",
    "        \n",
    "    ]\n",
    "}\n",
    "indices=['SVM', 'MLP', 'RL', 'KNN', 'MLM']\n",
    "df = pd.DataFrame(data=metricas, index = indices)\n",
    "df"
   ]
  },
  {
   "cell_type": "code",
   "execution_count": 6,
   "metadata": {},
   "outputs": [],
   "source": [
    "#plt.boxplot(df_accuracy.T, labels=['SVM','MLP', 'RL', 'GBDT', 'KNN'], boxprops=dict(color='black'))\n",
    "#plt.title('Desempenho dos Modelos');\n",
    "#plt.xlabel('Algoritmo')\n",
    "#plt.ylabel('Acurácia (%)')\n",
    "#plt.savefig('acuracia.pdf')"
   ]
  },
  {
   "cell_type": "code",
   "execution_count": 7,
   "metadata": {},
   "outputs": [],
   "source": [
    "#plt.boxplot(df_f2.T, labels=['SVM','MLP', 'RL', 'GBDT', 'KNN'], boxprops=dict(color='black'))\n",
    "#plt.title('Desempenho dos Modelos');\n",
    "#plt.xlabel('Algoritmo')\n",
    "#plt.ylabel('f(0.5(-score (%)')\n",
    "#plt.savefig('f05_score.pdf')"
   ]
  },
  {
   "cell_type": "markdown",
   "metadata": {},
   "source": [
    "# Matriz de confusão"
   ]
  },
  {
   "cell_type": "code",
   "execution_count": 8,
   "metadata": {},
   "outputs": [],
   "source": [
    "import os\n",
    "import sys\n",
    "sys.path.insert(0, os.path.abspath('../Util'))\n",
    "from dados import ProcessarDados\n",
    "procData = ProcessarDados(\"../dataset/norm_bin_10_FEATURES_M17_CM6b_TH199.csv\")"
   ]
  },
  {
   "cell_type": "markdown",
   "metadata": {},
   "source": [
    "# SVM"
   ]
  },
  {
   "cell_type": "code",
   "execution_count": 16,
   "metadata": {},
   "outputs": [
    {
     "data": {
      "image/png": "[encoded data removed]",
      "text/plain": [
       "<matplotlib.figure.Figure at 0x1962c324320>"
      ]
     },
     "metadata": {},
     "output_type": "display_data"
    },
    {
     "name": "stdout",
     "output_type": "stream",
     "text": [
      "[[25  3]\n",
      " [ 4 88]]\n",
      "Métricas:\n",
      "\tAcurácia: 94.17\n",
      "\tPrecisão: 96.70\n",
      "\tSensitividade: 95.65\n",
      "\tEspecificidade: 89.29\n",
      "\tFb-score: 96.49\n",
      "Parametros:\n",
      "{'C': 10, 'Gamma': 0.03, 'Kernel': 'rbf'}\n"
     ]
    }
   ],
   "source": [
    "# acessando o melhor SVM\n",
    "from sklearn import svm\n",
    "from sklearn import metrics\n",
    "from sklearn.metrics import confusion_matrix\n",
    "from sklearn.metrics import plot_confusion_matrix\n",
    "import pandas as pd\n",
    "import numpy as np\n",
    "from collections import Counter\n",
    "\n",
    "index_best_svm = np.argmax(resultados_svm.item().get('accuracy'))\n",
    "\n",
    "X_train, X_test, y_train, y_test = procData.holdout(0.2, index_best_svm)\n",
    "\n",
    "best_svm_params = resultados_svm.item().get('params')[index_best_svm]\n",
    "SVM = svm.SVC(random_state = index_best_svm, C = best_svm_params['C'], gamma = best_svm_params['Gamma'], kernel = best_svm_params['Kernel'])\n",
    "SVM.fit(X_train, y_train)\n",
    "\n",
    "#testando o modelo\n",
    "y_pred = SVM.predict(X_test)\n",
    "plot_confusion_matrix(SVM, X_test, y_test, display_labels = ['Sem Faixa', 'Com Faixa'], cmap ='Blues')\n",
    "plt.show()\n",
    "\n",
    "cm  = confusion_matrix(y_test, y_pred)\n",
    "print(cm)\n",
    "\n",
    "# calculado as metricas\n",
    "accuracy = metrics.accuracy_score(y_test, y_pred)\n",
    "precision = metrics.precision_score(y_test, y_pred)\n",
    "recall = metrics.recall_score(y_test, y_pred)\n",
    "# f2-score\n",
    "# Fbeta = ((1 + beta^2) * Precision * Recall) / (beta^2 * Precision + Recall)\n",
    "beta = 0.5\n",
    "f2_score = (1 + beta**2) * (precision * recall) / (beta**2 * precision + recall)\n",
    "tn, fp, fn, tp = cm.ravel()\n",
    "specificity = tn / (tn+fp)\n",
    "\n",
    "print(\"Métricas:\")\n",
    "print(\"\\tAcurácia: %.2f\" % (accuracy*100))\n",
    "print(\"\\tPrecisão: %.2f\" % (precision*100))\n",
    "print(\"\\tSensitividade: %.2f\" % (recall*100))\n",
    "print(\"\\tEspecificidade: %.2f\" % (specificity*100))\n",
    "print(\"\\tFb-score: %.2f\" % (f2_score*100))\n",
    "print(\"Parametros:\")\n",
    "print(resultados_svm.item().get('params')[index_best_svm])"
   ]
  },
  {
   "cell_type": "markdown",
   "metadata": {},
   "source": [
    "# MLP"
   ]
  },
  {
   "cell_type": "code",
   "execution_count": 10,
   "metadata": {},
   "outputs": [
    {
     "name": "stderr",
     "output_type": "stream",
     "text": [
      "C:\\Users\\fadell\\Anaconda3\\lib\\site-packages\\sklearn\\neural_network\\_multilayer_perceptron.py:471: ConvergenceWarning: lbfgs failed to converge (status=1):\n",
      "STOP: TOTAL NO. of ITERATIONS REACHED LIMIT.\n",
      "\n",
      "Increase the number of iterations (max_iter) or scale the data as shown in:\n",
      "    https://scikit-learn.org/stable/modules/preprocessing.html\n",
      "  self.n_iter_ = _check_optimize_result(\"lbfgs\", opt_res, self.max_iter)\n"
     ]
    },
    {
     "data": {
      "image/png": "[encoded data removed]",
      "text/plain": [
       "<matplotlib.figure.Figure at 0x1962bf4e358>"
      ]
     },
     "metadata": {},
     "output_type": "display_data"
    },
    {
     "name": "stdout",
     "output_type": "stream",
     "text": [
      "[[24  4]\n",
      " [ 1 91]]\n",
      "Métricas:\n",
      "\tAcurácia: 95.83\n",
      "\tPrecisão: 95.79\n",
      "\tSensitividade: 98.91\n",
      "\tEspecificidade: 85.71\n",
      "\tFb-score: 96.40\n",
      "Parametros:\n",
      "{'Activation': 'relu', 'Alpha': 0.1, 'Solver': 'lbfgs', 'hidden_layer_sizes': 100}\n"
     ]
    }
   ],
   "source": [
    "# acessando o melhor MLP\n",
    "from sklearn.neural_network import MLPClassifier\n",
    "from sklearn import metrics\n",
    "from sklearn.metrics import confusion_matrix\n",
    "from sklearn.metrics import plot_confusion_matrix\n",
    "import pandas as pd\n",
    "import numpy as np\n",
    "from collections import Counter\n",
    "\n",
    "index_best_mlp = np.argmax(resultados_mlp.item().get('accuracy'))\n",
    "\n",
    "X_train, X_test, y_train, y_test = procData.holdout(0.2, index_best_mlp)\n",
    "\n",
    "best_mlp_params = resultados_mlp.item().get('params')[index_best_mlp]\n",
    "MLP = MLPClassifier(random_state = index_best_mlp, activation = best_mlp_params['Activation'], alpha = best_mlp_params['Alpha'], solver = best_mlp_params['Solver'], hidden_layer_sizes = best_mlp_params['hidden_layer_sizes'])\n",
    "MLP.fit(X_train, y_train)\n",
    "\n",
    "#testando o modelo\n",
    "y_pred = MLP.predict(X_test)\n",
    "plot_confusion_matrix(MLP, X_test, y_test, display_labels = ['Sem Faixa', 'Com Faixa'], cmap ='Blues')\n",
    "plt.show()\n",
    "\n",
    "cm  = confusion_matrix(y_test, y_pred)\n",
    "print(cm)\n",
    "\n",
    "# calculado as metricas\n",
    "accuracy = metrics.accuracy_score(y_test, y_pred)\n",
    "precision = metrics.precision_score(y_test, y_pred)\n",
    "recall = metrics.recall_score(y_test, y_pred)\n",
    "# f2-score\n",
    "# Fbeta = ((1 + beta^2) * Precision * Recall) / (beta^2 * Precision + Recall)\n",
    "beta = 0.5\n",
    "f2_score = (1 + beta**2) * (precision * recall) / (beta**2 * precision + recall)\n",
    "tn, fp, fn, tp = cm.ravel()\n",
    "specificity = tn / (tn+fp)\n",
    "\n",
    "print(\"Métricas:\")\n",
    "print(\"\\tAcurácia: %.2f\" % (accuracy*100))\n",
    "print(\"\\tPrecisão: %.2f\" % (precision*100))\n",
    "print(\"\\tSensitividade: %.2f\" % (recall*100))\n",
    "print(\"\\tEspecificidade: %.2f\" % (specificity*100))\n",
    "print(\"\\tFb-score: %.2f\" % (f2_score*100))\n",
    "print(\"Parametros:\")\n",
    "print(resultados_mlp.item().get('params')[index_best_mlp])"
   ]
  },
  {
   "cell_type": "markdown",
   "metadata": {},
   "source": [
    "# RL - Manual"
   ]
  },
  {
   "cell_type": "code",
   "execution_count": 11,
   "metadata": {},
   "outputs": [
    {
     "name": "stdout",
     "output_type": "stream",
     "text": [
      "[[23  2]\n",
      " [ 4 91]]\n",
      "Métricas:\n",
      "\tAcurácia: 95.00\n",
      "\tPrecisão: 97.85\n",
      "\tSensitividade: 95.79\n",
      "\tEspecificidade: 92.00\n",
      "\tFb-score: 97.43\n",
      "Parametros:\n",
      "{'alpha': 0.1}\n"
     ]
    },
    {
     "data": {
      "image/png": "[encoded data removed]",
      "text/plain": [
       "<matplotlib.figure.Figure at 0x1962c2b6fd0>"
      ]
     },
     "metadata": {},
     "output_type": "display_data"
    }
   ],
   "source": [
    "#IMPORTAR BIBLIOTECAS UTILIZADAS\n",
    "\n",
    "import numpy as np\n",
    "import pandas as pd\n",
    "import random\n",
    "from sklearn import metrics\n",
    "from sklearn.metrics import confusion_matrix\n",
    "\n",
    "#DEFINIR FUNCAO LOGISTICA (SIGMOID) PARA PREVER A PROBABILIDADE \n",
    "def sigmoid(w,X):\n",
    "    z = np.dot(X,w)\n",
    "    return 1 / (1 + np.exp(-z))\n",
    "\n",
    "#DEFINIR FUNCAO PARA CLASSIFICAR\n",
    "def classificar(y, limiar=0.5):\n",
    "    return (y > limiar)*1\n",
    "\n",
    "#DEFINIR FUNCAO CUSTO UTILIZANDO ENTROPIA CRUZADA\n",
    "def entropiaCruzada(previsto,y):\n",
    "    return (-y * np.log(previsto) - (1 - y) * np.log(1 - previsto)).mean()\n",
    "\n",
    "#DEFINIR FUNCAO GRADIENTE DESCENDENTE PARA ATUALIZAR OS PARAMÊTROS w\n",
    "def gradienteDescendente(w, X, y, alpha):\n",
    "    previsto = sigmoid(w,X)\n",
    "    erro = previsto - y\n",
    "    gradiente = np.dot(X.T, erro) / len(X)\n",
    "    w -= alpha*gradiente\n",
    "\n",
    "index_best_rl = np.argmax(resultados_rl.item().get('accuracy'))\n",
    "\n",
    "X_treino, X_teste, y_treino, y_teste = procData.holdout(0.2, index_best_rl)\n",
    "\n",
    "best_rl_params = resultados_rl.item().get('params')[index_best_rl]\n",
    "\n",
    "#ALTERANDO DIMENSÃO DE Y PARA D=1\n",
    "y_treino = y_treino.reshape(480,)\n",
    "y_teste = y_teste.reshape(120,)\n",
    "\n",
    "#ADICIONAR ATRIBUTOS IGUAIS A 1 EM X0\n",
    "X_treino = np.c_[np.ones(X_treino.shape[0]), X_treino]\n",
    "X_teste = np.c_[np.ones(X_teste.shape[0]), X_teste]\n",
    "\n",
    "#INICIALIZAR W (THETA) DE FORMA RANDOMICA e OTIMIZAR PARÂMETROS \n",
    "w = np.random.rand(X_treino.shape[1])\n",
    "epoch = 6000\n",
    "custo = np.zeros(epoch)\n",
    "for i in range(epoch):\n",
    "    custo[i] = entropiaCruzada(sigmoid(w,X_treino),y_treino)\n",
    "    gradienteDescendente(w,X_treino,y_treino,1)\n",
    "    \n",
    "\n",
    "fig, ax = plt.subplots()  \n",
    "ax.plot(np.arange(epoch), custo, 'r')  \n",
    "ax.set_xlabel('Iterações')  \n",
    "ax.set_ylabel('Custo')  \n",
    "ax.set_title('Erro vs. Epoch')\n",
    "\n",
    "#testando o modelo\n",
    "y_pred = classificar(sigmoid(w, X_teste))\n",
    "cm  = confusion_matrix(y_teste, y_pred)\n",
    "print(cm)\n",
    "\n",
    "# calculado as metricas\n",
    "accuracy = metrics.accuracy_score(y_teste, y_pred)\n",
    "precision = metrics.precision_score(y_teste, y_pred)\n",
    "recall = metrics.recall_score(y_teste, y_pred)\n",
    "# f2-score\n",
    "# Fbeta = ((1 + beta^2) * Precision * Recall) / (beta^2 * Precision + Recall)\n",
    "beta = 0.5\n",
    "f2_score = (1 + beta**2) * (precision * recall) / (beta**2 * precision + recall)\n",
    "tn, fp, fn, tp = cm.ravel()\n",
    "specificity = tn / (tn+fp)\n",
    "\n",
    "print(\"Métricas:\")\n",
    "print(\"\\tAcurácia: %.2f\" % (accuracy*100))\n",
    "print(\"\\tPrecisão: %.2f\" % (precision*100))\n",
    "print(\"\\tSensitividade: %.2f\" % (recall*100))\n",
    "print(\"\\tEspecificidade: %.2f\" % (specificity*100))\n",
    "print(\"\\tFb-score: %.2f\" % (f2_score*100))\n",
    "print(\"Parametros:\")\n",
    "print(resultados_rl.item().get('params')[index_best_rl])\n"
   ]
  },
  {
   "cell_type": "markdown",
   "metadata": {},
   "source": [
    "# RL - LIB"
   ]
  },
  {
   "cell_type": "code",
   "execution_count": 12,
   "metadata": {
    "scrolled": true
   },
   "outputs": [
    {
     "data": {
      "image/png": "[encoded data removed]",
      "text/plain": [
       "<matplotlib.figure.Figure at 0x1962c293da0>"
      ]
     },
     "metadata": {},
     "output_type": "display_data"
    },
    {
     "name": "stdout",
     "output_type": "stream",
     "text": [
      "[[22  3]\n",
      " [ 5 90]]\n",
      "Métricas:\n",
      "\tAcurácia: 93.33\n",
      "\tPrecisão: 96.77\n",
      "\tSensitividade: 94.74\n",
      "\tEspecificidade: 88.00\n",
      "\tFb-score: 96.36\n",
      "Parametros:\n",
      "{'alpha': 0.1}\n"
     ]
    }
   ],
   "source": [
    "# acessando o melhor RL\n",
    "from sklearn.linear_model import LogisticRegression\n",
    "from sklearn.model_selection import GridSearchCV\n",
    "from sklearn import metrics\n",
    "from sklearn.metrics import confusion_matrix\n",
    "from sklearn.metrics import plot_confusion_matrix\n",
    "import pandas as pd\n",
    "import numpy as np\n",
    "from collections import Counter\n",
    "#!python -m pip install --user scikit-mlm\n",
    "\n",
    "from skmlm import NN_MLM, MLMC\n",
    "\n",
    "index_best_rl = np.argmax(resultados_rl.item().get('accuracy'))\n",
    "\n",
    "X_train, X_test, y_train, y_test = procData.holdout(0.2, index_best_rl)\n",
    "\n",
    "best_rl_params = resultados_rl.item().get('params')[index_best_rl]\n",
    "RL = LogisticRegression(random_state = index_best_rl, tol = best_rl_params['alpha'])\n",
    "RL.fit(X_train, y_train)\n",
    "\n",
    "#testando o modelo\n",
    "y_pred = RL.predict(X_test)\n",
    "plot_confusion_matrix(RL, X_test, y_test, display_labels = ['Sem Faixa', 'Com Faixa'], cmap ='Blues')\n",
    "plt.show()\n",
    "\n",
    "cm  = confusion_matrix(y_test, y_pred)\n",
    "print(cm)\n",
    "\n",
    "# calculado as metricas\n",
    "accuracy = metrics.accuracy_score(y_test, y_pred)\n",
    "precision = metrics.precision_score(y_test, y_pred)\n",
    "recall = metrics.recall_score(y_test, y_pred)\n",
    "# f2-score\n",
    "# Fbeta = ((1 + beta^2) * Precision * Recall) / (beta^2 * Precision + Recall)\n",
    "beta = 0.5\n",
    "f2_score = (1 + beta**2) * (precision * recall) / (beta**2 * precision + recall)\n",
    "tn, fp, fn, tp = cm.ravel()\n",
    "specificity = tn / (tn+fp)\n",
    "\n",
    "print(\"Métricas:\")\n",
    "print(\"\\tAcurácia: %.2f\" % (accuracy*100))\n",
    "print(\"\\tPrecisão: %.2f\" % (precision*100))\n",
    "print(\"\\tSensitividade: %.2f\" % (recall*100))\n",
    "print(\"\\tEspecificidade: %.2f\" % (specificity*100))\n",
    "print(\"\\tFb-score: %.2f\" % (f2_score*100))\n",
    "print(\"Parametros:\")\n",
    "print(resultados_rl.item().get('params')[index_best_rl])"
   ]
  },
  {
   "cell_type": "markdown",
   "metadata": {},
   "source": [
    "# KNN"
   ]
  },
  {
   "cell_type": "code",
   "execution_count": 17,
   "metadata": {},
   "outputs": [
    {
     "data": {
      "image/png": "[encoded data removed]",
      "text/plain": [
       "<matplotlib.figure.Figure at 0x1962c4ec7f0>"
      ]
     },
     "metadata": {},
     "output_type": "display_data"
    },
    {
     "name": "stdout",
     "output_type": "stream",
     "text": [
      "[[24  2]\n",
      " [ 3 91]]\n",
      "Métricas:\n",
      "\tAcurácia: 95.83\n",
      "\tPrecisão: 97.85\n",
      "\tSensitividade: 96.81\n",
      "\tEspecificidade: 92.31\n",
      "\tFb-score: 97.64\n",
      "Parametros:\n",
      "{'n_neighbors': 3, 'p': 1}\n"
     ]
    }
   ],
   "source": [
    "# acessando o melhor KNN\n",
    "from sklearn.neighbors import KNeighborsClassifier\n",
    "from sklearn import metrics\n",
    "from sklearn.metrics import confusion_matrix\n",
    "from sklearn.metrics import plot_confusion_matrix\n",
    "import pandas as pd\n",
    "import numpy as np\n",
    "from collections import Counter\n",
    "\n",
    "index_best_knn = np.argmax(resultados_knn.item().get('accuracy'))\n",
    "\n",
    "X_train, X_test, y_train, y_test = procData.holdout(0.2, index_best_knn)\n",
    "\n",
    "best_knn_params = resultados_knn.item().get('params')[index_best_knn]\n",
    "KNN = KNeighborsClassifier(n_neighbors=best_knn_params['n_neighbors'], p=best_knn_params['p'], metric='minkowski')\n",
    "KNN.fit(X_train, y_train)\n",
    "\n",
    "#testando o modelo\n",
    "y_pred = KNN.predict(X_test)\n",
    "plot_confusion_matrix(KNN, X_test, y_test, display_labels = ['Sem Faixa', 'Com Faixa'], cmap ='Blues')\n",
    "plt.show()\n",
    "\n",
    "cm  = confusion_matrix(y_test, y_pred)\n",
    "print(cm)\n",
    "\n",
    "# calculado as metricas\n",
    "accuracy = metrics.accuracy_score(y_test, y_pred)\n",
    "precision = metrics.precision_score(y_test, y_pred)\n",
    "recall = metrics.recall_score(y_test, y_pred)\n",
    "# f2-score\n",
    "# Fbeta = ((1 + beta^2) * Precision * Recall) / (beta^2 * Precision + Recall)\n",
    "beta = 0.5\n",
    "f2_score = (1 + beta**2) * (precision * recall) / (beta**2 * precision + recall)\n",
    "tn, fp, fn, tp = cm.ravel()\n",
    "specificity = tn / (tn+fp)\n",
    "\n",
    "print(\"Métricas:\")\n",
    "print(\"\\tAcurácia: %.2f\" % (accuracy*100))\n",
    "print(\"\\tPrecisão: %.2f\" % (precision*100))\n",
    "print(\"\\tSensitividade: %.2f\" % (recall*100))\n",
    "print(\"\\tEspecificidade: %.2f\" % (specificity*100))\n",
    "print(\"\\tFb-score: %.2f\" % (f2_score*100))\n",
    "print(\"Parametros:\")\n",
    "print(resultados_knn.item().get('params')[index_best_knn])"
   ]
  },
  {
   "cell_type": "markdown",
   "metadata": {},
   "source": [
    "# MLM"
   ]
  },
  {
   "cell_type": "code",
   "execution_count": 14,
   "metadata": {},
   "outputs": [
    {
     "name": "stdout",
     "output_type": "stream",
     "text": [
      "[[27  2]\n",
      " [ 1 90]]\n",
      "Métricas:\n",
      "\tAcurácia: 97.50\n",
      "\tPrecisão: 97.83\n",
      "\tSensitividade: 98.90\n",
      "\tEspecificidade: 93.10\n",
      "\tFb-score: 98.04\n",
      "Parametros:\n",
      "{'rp_number': 383}\n"
     ]
    }
   ],
   "source": [
    "# acessando o melhor MLM\n",
    "from sklearn.model_selection import GridSearchCV\n",
    "from sklearn import metrics\n",
    "from sklearn.metrics import confusion_matrix\n",
    "from sklearn.metrics import plot_confusion_matrix\n",
    "import pandas as pd\n",
    "import numpy as np\n",
    "from collections import Counter\n",
    "#!python -m pip install --user scikit-mlm\n",
    "\n",
    "from skmlm import NN_MLM, MLMC\n",
    "\n",
    "index_best_mlm = np.argmax(resultados_mlm.item().get('accuracy'))\n",
    "\n",
    "X_train, X_test, y_train, y_test = procData.holdout(0.2, index_best_mlm)\n",
    "\n",
    "best_mlm_params = resultados_mlm.item().get('params')[index_best_mlm]\n",
    "MLM = NN_MLM(rp_number = best_mlm_params['rp_number'], random_state=index_best_mlm)\n",
    "MLM.fit(X_train, y_train)\n",
    "\n",
    "#testando o modelo\n",
    "y_pred = MLM.predict(X_test)\n",
    "cm  = confusion_matrix(y_test, y_pred)\n",
    "print(cm)\n",
    "\n",
    "# calculado as metricas\n",
    "accuracy = metrics.accuracy_score(y_test, y_pred)\n",
    "precision = metrics.precision_score(y_test, y_pred)\n",
    "recall = metrics.recall_score(y_test, y_pred)\n",
    "# f2-score\n",
    "# Fbeta = ((1 + beta^2) * Precision * Recall) / (beta^2 * Precision + Recall)\n",
    "beta = 0.5\n",
    "f2_score = (1 + beta**2) * (precision * recall) / (beta**2 * precision + recall)\n",
    "tn, fp, fn, tp = cm.ravel()\n",
    "specificity = tn / (tn+fp)\n",
    "\n",
    "print(\"Métricas:\")\n",
    "print(\"\\tAcurácia: %.2f\" % (accuracy*100))\n",
    "print(\"\\tPrecisão: %.2f\" % (precision*100))\n",
    "print(\"\\tSensitividade: %.2f\" % (recall*100))\n",
    "print(\"\\tEspecificidade: %.2f\" % (specificity*100))\n",
    "print(\"\\tFb-score: %.2f\" % (f2_score*100))\n",
    "print(\"Parametros:\")\n",
    "print(resultados_mlm.item().get('params')[index_best_mlm])"
   ]
  },
  {
   "cell_type": "code",
   "execution_count": null,
   "metadata": {},
   "outputs": [],
   "source": []
  },
  {
   "cell_type": "code",
   "execution_count": null,
   "metadata": {},
   "outputs": [],
   "source": []
  }
 ],
 "metadata": {
  "kernelspec": {
   "display_name": "Python 3",
   "language": "python",
   "name": "python3"
  },
  "language_info": {
   "codemirror_mode": {
    "name": "ipython",
    "version": 3
   },
   "file_extension": ".py",
   "mimetype": "text/x-python",
   "name": "python",
   "nbconvert_exporter": "python",
   "pygments_lexer": "ipython3",
   "version": "3.6.4"
  }
 },
 "nbformat": 4,
 "nbformat_minor": 4
}
