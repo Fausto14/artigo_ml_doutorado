{
 "cells": [
  {
   "cell_type": "code",
   "execution_count": 38,
   "metadata": {},
   "outputs": [],
   "source": [
    "import numpy as np\n",
    "import pandas as pd\n",
    "import matplotlib.pyplot as plt\n",
    "from numpy import load\n",
    "\n",
    "%matplotlib inline\n",
    "plt.rcParams.update({'figure.figsize':(5,4), 'figure.dpi':100})"
   ]
  },
  {
   "cell_type": "code",
   "execution_count": 39,
   "metadata": {},
   "outputs": [],
   "source": [
    "# load array\n",
    "array_accuracy = []\n",
    "array_f1 = []\n",
    "\n",
    "resultados_svm = load('resultados_svm.npy')\n",
    "resultados_mlp = load('resultados_mlp.npy')\n",
    "resultados_rl = load('resultados_rl.npy')\n",
    "resultados_gb = load('resultados_gbdt.npy')\n",
    "resultados_knn = load('resultados_knn.npy')\n",
    "\n",
    "array_accuracy.append(resultados_svm.item().get('accuracy'))\n",
    "array_accuracy.append(resultados_mlp.item().get('accuracy'))\n",
    "array_accuracy.append(resultados_rl.item().get('accuracy'))\n",
    "array_accuracy.append(resultados_gb.item().get('accuracy'))\n",
    "array_accuracy.append(resultados_knn.item().get('accuracy'))\n",
    "array_accuracy = np.asarray(array_accuracy).T\n",
    "#array_accuracy\n",
    "\n",
    "array_f1.append(resultados_svm.item().get('f1'))\n",
    "array_f1.append(resultados_mlp.item().get('f1'))\n",
    "array_f1.append(resultados_rl.item().get('f1'))\n",
    "array_f1.append(resultados_gb.item().get('f1'))\n",
    "array_f1.append(resultados_knn.item().get('f1'))\n",
    "array_f1 = np.asarray(array_f1).T\n",
    "#array_f1"
   ]
  },
  {
   "cell_type": "code",
   "execution_count": null,
   "metadata": {},
   "outputs": [],
   "source": [
    "df_accuracy = pd.DataFrame(array_accuracy*100,columns=['SVM','MLP', 'RL'C])\n",
    "boxplot_accuracy = df_accuracy.boxplot(column=['SVM','MLP', 'RL', 'KNN'])\n",
    "plt.ylabel('Acurácia (%)')\n",
    "plt.savefig('acuracia.pdf')"
   ]
  },
  {
   "cell_type": "code",
   "execution_count": 41,
   "metadata": {},
   "outputs": [
    {
     "data": {
      "image/png": "[encoded data removed]",
      "text/plain": [
       "<matplotlib.figure.Figure at 0x20056c64908>"
      ]
     },
     "metadata": {},
     "output_type": "display_data"
    }
   ],
   "source": [
    "df_f1 = pd.DataFrame(array_f1*100,columns=['SVM','MLP', 'RL', 'GBDT'])\n",
    "boxplot_f1 = df_f1.boxplot(column=['SVM','MLP', 'RL', 'GBDT'],grid = True)\n",
    "df_f1 = pd.DataFrame(array_f1*100,columns=['SVM','MLP', 'RL', 'KNN'])\n",
    "boxplot_f1 = df_f1.boxplot(column=['SVM','MLP', 'RL', 'KNN'],grid = True)\n",
    "plt.ylabel('F1-score (%)')\n",
    "plt.savefig('f1_score.pdf')"
   ]
  },
  {
   "cell_type": "markdown",
   "metadata": {},
   "source": [
    "# Usando matplotlib.pyplot"
   ]
  },
  {
   "cell_type": "code",
   "execution_count": 4,
   "metadata": {},
   "outputs": [
    {
     "ename": "NameError",
     "evalue": "name 'df_accuracy' is not defined",
     "output_type": "error",
     "traceback": [
      "\u001b[1;31m---------------------------------------------------------------------------\u001b[0m",
      "\u001b[1;31mNameError\u001b[0m                                 Traceback (most recent call last)",
      "\u001b[1;32m<ipython-input-4-3646817cd726>\u001b[0m in \u001b[0;36m<module>\u001b[1;34m\u001b[0m\n\u001b[1;32m----> 1\u001b[1;33m \u001b[0mplt\u001b[0m\u001b[1;33m.\u001b[0m\u001b[0mboxplot\u001b[0m\u001b[1;33m(\u001b[0m\u001b[0mdf_accuracy\u001b[0m\u001b[1;33m.\u001b[0m\u001b[0mT\u001b[0m\u001b[1;33m,\u001b[0m \u001b[0mlabels\u001b[0m\u001b[1;33m=\u001b[0m\u001b[1;33m[\u001b[0m\u001b[1;34m'SVM'\u001b[0m\u001b[1;33m,\u001b[0m\u001b[1;34m'MLP'\u001b[0m\u001b[1;33m,\u001b[0m \u001b[1;34m'RL'\u001b[0m\u001b[1;33m,\u001b[0m \u001b[1;34m'KNN'\u001b[0m\u001b[1;33m]\u001b[0m\u001b[1;33m,\u001b[0m \u001b[0mboxprops\u001b[0m\u001b[1;33m=\u001b[0m\u001b[0mdict\u001b[0m\u001b[1;33m(\u001b[0m\u001b[0mcolor\u001b[0m\u001b[1;33m=\u001b[0m\u001b[1;34m'black'\u001b[0m\u001b[1;33m)\u001b[0m\u001b[1;33m)\u001b[0m\u001b[1;33m\u001b[0m\u001b[1;33m\u001b[0m\u001b[0m\n\u001b[0m\u001b[0;32m      2\u001b[0m \u001b[1;31m#plt.title('Desempenho dos Modelos');\u001b[0m\u001b[1;33m\u001b[0m\u001b[1;33m\u001b[0m\u001b[1;33m\u001b[0m\u001b[0m\n\u001b[0;32m      3\u001b[0m \u001b[1;31m#plt.xlabel('Algoritmo')\u001b[0m\u001b[1;33m\u001b[0m\u001b[1;33m\u001b[0m\u001b[1;33m\u001b[0m\u001b[0m\n\u001b[0;32m      4\u001b[0m \u001b[0mplt\u001b[0m\u001b[1;33m.\u001b[0m\u001b[0mylabel\u001b[0m\u001b[1;33m(\u001b[0m\u001b[1;34m'Acurácia (%)'\u001b[0m\u001b[1;33m)\u001b[0m\u001b[1;33m\u001b[0m\u001b[1;33m\u001b[0m\u001b[0m\n\u001b[0;32m      5\u001b[0m \u001b[0mplt\u001b[0m\u001b[1;33m.\u001b[0m\u001b[0msavefig\u001b[0m\u001b[1;33m(\u001b[0m\u001b[1;34m'acuracia.pdf'\u001b[0m\u001b[1;33m)\u001b[0m\u001b[1;33m\u001b[0m\u001b[1;33m\u001b[0m\u001b[0m\n",
      "\u001b[1;31mNameError\u001b[0m: name 'df_accuracy' is not defined"
     ]
    }
   ],
   "source": [
    "plt.boxplot(df_accuracy.T, labels=['SVM','MLP', 'RL', 'KNN'], boxprops=dict(color='black'))\n",
    "#plt.title('Desempenho dos Modelos');\n",
    "#plt.xlabel('Algoritmo')\n",
    "plt.ylabel('Acurácia (%)')\n",
    "plt.savefig('acuracia.pdf')"
   ]
  },
  {
   "cell_type": "code",
   "execution_count": 43,
   "metadata": {},
   "outputs": [
    {
     "data": {
      "image/png": "[encoded data removed]",
      "text/plain": [
       "<matplotlib.figure.Figure at 0x2005839b9b0>"
      ]
     },
     "metadata": {},
     "output_type": "display_data"
    }
   ],
   "source": [
    "plt.boxplot(df_f1.T, labels=['SVM','MLP', 'RL', 'KNN'], boxprops=dict(color='black'))\n",
    "#plt.title('Desempenho dos Modelos');\n",
    "#plt.xlabel('Algoritmo')\n",
    "plt.ylabel('F1-score (%)')\n",
    "plt.savefig('f1_score.pdf')"
   ]
  },
  {
   "cell_type": "code",
   "execution_count": null,
   "metadata": {},
   "outputs": [],
   "source": []
  },
  {
   "cell_type": "code",
   "execution_count": null,
   "metadata": {},
   "outputs": [],
   "source": []
  },
  {
   "cell_type": "code",
   "execution_count": null,
   "metadata": {},
   "outputs": [],
   "source": []
  }
 ],
 "metadata": {
  "kernelspec": {
   "display_name": "Python 3",
   "language": "python",
   "name": "python3"
  },
  "language_info": {
   "codemirror_mode": {
    "name": "ipython",
    "version": 3
   },
   "file_extension": ".py",
   "mimetype": "text/x-python",
   "name": "python",
   "nbconvert_exporter": "python",
   "pygments_lexer": "ipython3",
   "version": "3.7.4"
  }
 },
 "nbformat": 4,
 "nbformat_minor": 4
}
