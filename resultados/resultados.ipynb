{
 "cells": [
  {
   "cell_type": "code",
   "execution_count": 1,
   "metadata": {},
   "outputs": [],
   "source": [
    "import numpy as np\n",
    "import pandas as pd\n",
    "import matplotlib.pyplot as plt\n",
    "from numpy import load\n",
    "\n",
    "%matplotlib inline\n",
    "plt.rcParams.update({'figure.figsize':(5,4), 'figure.dpi':100})"
   ]
  },
  {
   "cell_type": "code",
   "execution_count": 5,
   "metadata": {},
   "outputs": [],
   "source": [
    "# load array\n",
    "array_accuracy = []\n",
    "array_f1 = []\n",
    "\n",
    "resultados_svm = load('resultados_svm.npy')\n",
    "resultados_mlp = load('resultados_mlp.npy')\n",
    "resultados_rl = load('resultados_rl.npy')\n",
    "resultados_gb = load('resultados_gbdt.npy')\n",
    "resultados_knn = load('resultados_knn.npy')\n",
    "\n",
    "array_accuracy.append(resultados_svm.item().get('accuracy'))\n",
    "array_accuracy.append(resultados_mlp.item().get('accuracy'))\n",
    "array_accuracy.append(resultados_rl.item().get('accuracy'))\n",
    "array_accuracy.append(resultados_gb.item().get('accuracy'))\n",
    "array_accuracy.append(resultados_knn.item().get('accuracy'))\n",
    "array_accuracy = np.asarray(array_accuracy).T\n",
    "#array_accuracy\n",
    "\n",
    "array_f1.append(resultados_svm.item().get('f1'))\n",
    "array_f1.append(resultados_mlp.item().get('f1'))\n",
    "array_f1.append(resultados_rl.item().get('f1'))\n",
    "array_f1.append(resultados_gb.item().get('f1'))\n",
    "array_f1.append(resultados_knn.item().get('f1'))\n",
    "array_f1 = np.asarray(array_f1).T\n",
    "#array_f1"
   ]
  },
  {
   "cell_type": "code",
   "execution_count": 6,
   "metadata": {},
   "outputs": [
    {
     "data": {
      "image/png": "[encoded data removed]",
      "text/plain": [
       "<matplotlib.figure.Figure at 0x27ed4254518>"
      ]
     },
     "metadata": {},
     "output_type": "display_data"
    }
   ],
   "source": [
    "df_accuracy = pd.DataFrame(array_accuracy*100,columns=['SVM','MLP', 'RL', 'GBDT', 'KNN'])\n",
    "boxplot_accuracy = df_accuracy.boxplot(column=['SVM','MLP', 'RL', 'GBDT', 'KNN'])\n",
    "plt.ylabel('Acurácia (%)')\n",
    "plt.savefig('acuracia.pdf')"
   ]
  },
  {
   "cell_type": "code",
   "execution_count": 7,
   "metadata": {},
   "outputs": [
    {
     "data": {
      "image/png": "[encoded data removed]",
      "text/plain": [
       "<matplotlib.figure.Figure at 0x27ed41cbf98>"
      ]
     },
     "metadata": {},
     "output_type": "display_data"
    }
   ],
   "source": [
    "df_f1 = pd.DataFrame(array_f1*100,columns=['SVM','MLP', 'RL', 'GBDT', 'KNN'])\n",
    "boxplot_f1 = df_f1.boxplot(column=['SVM','MLP', 'RL', 'GBDT', 'KNN'], grid = True)\n",
    "plt.ylabel('F1-score (%)')\n",
    "plt.savefig('f1_score.pdf')"
   ]
  },
  {
   "cell_type": "markdown",
   "metadata": {},
   "source": [
    "# Usando matplotlib.pyplot"
   ]
  },
  {
   "cell_type": "code",
   "execution_count": 8,
   "metadata": {},
   "outputs": [
    {
     "data": {
      "image/png": "[encoded data removed]",
      "text/plain": [
       "<matplotlib.figure.Figure at 0x27ed26c10b8>"
      ]
     },
     "metadata": {},
     "output_type": "display_data"
    }
   ],
   "source": [
    "plt.boxplot(df_accuracy.T, labels=['SVM','MLP', 'RL', 'GBDT', 'KNN'], boxprops=dict(color='black'))\n",
    "#plt.title('Desempenho dos Modelos');\n",
    "#plt.xlabel('Algoritmo')\n",
    "plt.ylabel('Acurácia (%)')\n",
    "plt.savefig('acuracia.pdf')"
   ]
  },
  {
   "cell_type": "code",
   "execution_count": 9,
   "metadata": {},
   "outputs": [
    {
     "data": {
      "image/png": "[encoded data removed]",
      "text/plain": [
       "<matplotlib.figure.Figure at 0x27ed473e780>"
      ]
     },
     "metadata": {},
     "output_type": "display_data"
    }
   ],
   "source": [
    "plt.boxplot(df_f1.T, labels=['SVM','MLP', 'RL', 'GBDT', 'KNN'], boxprops=dict(color='black'))\n",
    "#plt.title('Desempenho dos Modelos');\n",
    "#plt.xlabel('Algoritmo')\n",
    "plt.ylabel('F1-score (%)')\n",
    "plt.savefig('f1_score.pdf')"
   ]
  },
  {
   "cell_type": "code",
   "execution_count": 66,
   "metadata": {},
   "outputs": [
    {
     "data": {
      "text/html": [
       "<div>\n",
       "<style scoped>\n",
       "    .dataframe tbody tr th:only-of-type {\n",
       "        vertical-align: middle;\n",
       "    }\n",
       "\n",
       "    .dataframe tbody tr th {\n",
       "        vertical-align: top;\n",
       "    }\n",
       "\n",
       "    .dataframe thead th {\n",
       "        text-align: right;\n",
       "    }\n",
       "</style>\n",
       "<table border=\"1\" class=\"dataframe\">\n",
       "  <thead>\n",
       "    <tr style=\"text-align: right;\">\n",
       "      <th></th>\n",
       "      <th>Acurácia</th>\n",
       "      <th>F1-score</th>\n",
       "      <th>Precisão</th>\n",
       "      <th>Sensitividade</th>\n",
       "    </tr>\n",
       "  </thead>\n",
       "  <tbody>\n",
       "    <tr>\n",
       "      <th>SVM</th>\n",
       "      <td>0.90 $\\pm$ 0.03</td>\n",
       "      <td>0.93 $\\pm$ 0.02</td>\n",
       "      <td>0.91 $\\pm$ 0.03</td>\n",
       "      <td>0.96 $\\pm$ 0.02</td>\n",
       "    </tr>\n",
       "    <tr>\n",
       "      <th>MLP</th>\n",
       "      <td>0.91 $\\pm$ 0.02</td>\n",
       "      <td>0.94 $\\pm$ 0.02</td>\n",
       "      <td>0.94 $\\pm$ 0.02</td>\n",
       "      <td>0.95 $\\pm$ 0.03</td>\n",
       "    </tr>\n",
       "    <tr>\n",
       "      <th>RL</th>\n",
       "      <td>0.89 $\\pm$ 0.02</td>\n",
       "      <td>0.93 $\\pm$ 0.02</td>\n",
       "      <td>0.91 $\\pm$ 0.03</td>\n",
       "      <td>0.95 $\\pm$ 0.02</td>\n",
       "    </tr>\n",
       "    <tr>\n",
       "      <th>GBDT</th>\n",
       "      <td>0.92 $\\pm$ 0.02</td>\n",
       "      <td>0.95 $\\pm$ 0.01</td>\n",
       "      <td>0.93 $\\pm$ 0.03</td>\n",
       "      <td>0.97 $\\pm$ 0.02</td>\n",
       "    </tr>\n",
       "    <tr>\n",
       "      <th>KNN</th>\n",
       "      <td>0.92 $\\pm$ 0.02</td>\n",
       "      <td>0.95 $\\pm$ 0.02</td>\n",
       "      <td>0.92 $\\pm$ 0.03</td>\n",
       "      <td>0.97 $\\pm$ 0.02</td>\n",
       "    </tr>\n",
       "  </tbody>\n",
       "</table>\n",
       "</div>"
      ],
      "text/plain": [
       "             Acurácia         F1-score         Precisão    Sensitividade\n",
       "SVM   0.90 $\\pm$ 0.03  0.93 $\\pm$ 0.02  0.91 $\\pm$ 0.03  0.96 $\\pm$ 0.02\n",
       "MLP   0.91 $\\pm$ 0.02  0.94 $\\pm$ 0.02  0.94 $\\pm$ 0.02  0.95 $\\pm$ 0.03\n",
       "RL    0.89 $\\pm$ 0.02  0.93 $\\pm$ 0.02  0.91 $\\pm$ 0.03  0.95 $\\pm$ 0.02\n",
       "GBDT  0.92 $\\pm$ 0.02  0.95 $\\pm$ 0.01  0.93 $\\pm$ 0.03  0.97 $\\pm$ 0.02\n",
       "KNN   0.92 $\\pm$ 0.02  0.95 $\\pm$ 0.02  0.92 $\\pm$ 0.03  0.97 $\\pm$ 0.02"
      ]
     },
     "execution_count": 66,
     "metadata": {},
     "output_type": "execute_result"
    }
   ],
   "source": [
    "metricas = {\n",
    "    'Acurácia': [\n",
    "        \"%.2f $\\pm$ %.2f\" % (np.mean(resultados_svm.item().get('accuracy'), axis=0), np.std(resultados_svm.item().get('accuracy'), axis=0)),\n",
    "        \"%.2f $\\pm$ %.2f\" % (np.mean(resultados_mlp.item().get('accuracy'), axis=0), np.std(resultados_mlp.item().get('accuracy'), axis=0)),\n",
    "        \"%.2f $\\pm$ %.2f\" % (np.mean(resultados_rl.item().get('accuracy'), axis=0), np.std(resultados_rl.item().get('accuracy'), axis=0)),\n",
    "        \"%.2f $\\pm$ %.2f\" % (np.mean(resultados_gb.item().get('accuracy'), axis=0), np.std(resultados_gb.item().get('accuracy'), axis=0)),\n",
    "        \"%.2f $\\pm$ %.2f\" % (np.mean(resultados_knn.item().get('accuracy'), axis=0), np.std(resultados_knn.item().get('accuracy'), axis=0))\n",
    "    ],\n",
    "    'Precisão': [\n",
    "        \"%.2f $\\pm$ %.2f\" % (np.mean(resultados_svm.item().get('precision'), axis=0), np.std(resultados_svm.item().get('precision'), axis=0)),\n",
    "        \"%.2f $\\pm$ %.2f\" % (np.mean(resultados_mlp.item().get('precision'), axis=0), np.std(resultados_mlp.item().get('precision'), axis=0)),\n",
    "        \"%.2f $\\pm$ %.2f\" % (np.mean(resultados_rl.item().get('precision'), axis=0), np.std(resultados_rl.item().get('precision'), axis=0)),\n",
    "        \"%.2f $\\pm$ %.2f\" % (np.mean(resultados_gb.item().get('precision'), axis=0), np.std(resultados_gb.item().get('precision'), axis=0)),\n",
    "        \"%.2f $\\pm$ %.2f\" % (np.mean(resultados_knn.item().get('precision'), axis=0), np.std(resultados_knn.item().get('precision'), axis=0))\n",
    "    ],\n",
    "    'Sensitividade': [\n",
    "        \"%.2f $\\pm$ %.2f\" % (np.mean(resultados_svm.item().get('recall'), axis=0), np.std(resultados_svm.item().get('recall'), axis=0)),\n",
    "        \"%.2f $\\pm$ %.2f\" % (np.mean(resultados_mlp.item().get('recall'), axis=0), np.std(resultados_mlp.item().get('recall'), axis=0)),\n",
    "        \"%.2f $\\pm$ %.2f\" % (np.mean(resultados_rl.item().get('recall'), axis=0), np.std(resultados_rl.item().get('recall'), axis=0)),\n",
    "        \"%.2f $\\pm$ %.2f\" % (np.mean(resultados_gb.item().get('recall'), axis=0), np.std(resultados_gb.item().get('recall'), axis=0)),\n",
    "        \"%.2f $\\pm$ %.2f\" % (np.mean(resultados_knn.item().get('recall'), axis=0), np.std(resultados_knn.item().get('recall'), axis=0))\n",
    "    ],\n",
    "    'F1-score': [\n",
    "        \"%.2f $\\pm$ %.2f\" % (np.mean(resultados_svm.item().get('f1'), axis=0), np.std(resultados_svm.item().get('f1'), axis=0)),\n",
    "        \"%.2f $\\pm$ %.2f\" % (np.mean(resultados_mlp.item().get('f1'), axis=0), np.std(resultados_mlp.item().get('f1'), axis=0)),\n",
    "        \"%.2f $\\pm$ %.2f\" % (np.mean(resultados_rl.item().get('f1'), axis=0), np.std(resultados_rl.item().get('f1'), axis=0)),\n",
    "        \"%.2f $\\pm$ %.2f\" % (np.mean(resultados_gb.item().get('f1'), axis=0), np.std(resultados_gb.item().get('f1'), axis=0)),\n",
    "        \"%.2f $\\pm$ %.2f\" % (np.mean(resultados_knn.item().get('f1'), axis=0), np.std(resultados_knn.item().get('f1'), axis=0))\n",
    "    ]\n",
    "}\n",
    "indices=['SVM', 'MLP', 'RL', 'GBDT', 'KNN']\n",
    "d = {'Acurácia': [1, 2], 'Sensitividade': [3, 4],'Precisão': [3, 4], 'F1-Score': [3, 4]}\n",
    "df = pd.DataFrame(data=metricas, index = indices)\n",
    "df"
   ]
  },
  {
   "cell_type": "code",
   "execution_count": null,
   "metadata": {},
   "outputs": [],
   "source": []
  }
 ],
 "metadata": {
  "kernelspec": {
   "display_name": "Python 3",
   "language": "python",
   "name": "python3"
  },
  "language_info": {
   "codemirror_mode": {
    "name": "ipython",
    "version": 3
   },
   "file_extension": ".py",
   "mimetype": "text/x-python",
   "name": "python",
   "nbconvert_exporter": "python",
   "pygments_lexer": "ipython3",
   "version": "3.6.4"
  }
 },
 "nbformat": 4,
 "nbformat_minor": 4
}
