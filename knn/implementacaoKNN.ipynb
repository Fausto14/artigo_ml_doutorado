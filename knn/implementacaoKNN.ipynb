{
 "cells": [
  {
   "cell_type": "markdown",
   "metadata": {},
   "source": [
    "# Importando as bibliotecas"
   ]
  },
  {
   "cell_type": "code",
   "execution_count": 89,
   "metadata": {},
   "outputs": [],
   "source": [
    "from sklearn.neighbors import KNeighborsClassifier\n",
    "from sklearn.model_selection import GridSearchCV\n",
    "from sklearn import metrics\n",
    "from sklearn.metrics import confusion_matrix\n",
    "import pandas as pd\n",
    "import numpy as np\n",
    "import matplotlib.pyplot as plt\n",
    "from collections import Counter\n",
    "import seaborn as sn\n",
    "import os\n",
    "import sys\n",
    "sys.path.insert(0, os.path.abspath('../Util'))\n",
    "from dados import ProcessarDados"
   ]
  },
  {
   "cell_type": "code",
   "execution_count": 90,
   "metadata": {},
   "outputs": [],
   "source": [
    "# Dataset"
   ]
  },
  {
   "cell_type": "code",
   "execution_count": 91,
   "metadata": {},
   "outputs": [],
   "source": [
    "procData = ProcessarDados(\"../dataset/norm_bin_10_FEATURES_M17_CM6b_TH199.csv\")"
   ]
  },
  {
   "cell_type": "code",
   "execution_count": 92,
   "metadata": {},
   "outputs": [],
   "source": [
    "# Funções"
   ]
  },
  {
   "cell_type": "code",
   "execution_count": 93,
   "metadata": {},
   "outputs": [],
   "source": [
    "# funcção que treina e testa o modelo armazenando as métricas\n",
    "# retorna um dicionário cotendo os valores das métricas de cada rodada\n",
    "def treinamento_teste(epocas = 10, k_folds = 5, exibir_matriz_confusao=False, exibir_metricas=False):\n",
    "    \n",
    "    #array para armazenar as das métricas de cada rodada\n",
    "    resultados_accuracy = []\n",
    "    resultados_precision = []\n",
    "    resultados_recall = []\n",
    "    resultados_f1 = []\n",
    "    resultados_parametros = []\n",
    "    resultados_matriz = []\n",
    "\n",
    "    \n",
    "    #dicionário das métricas\n",
    "    resultados_gerais = {}\n",
    "\n",
    "    for i in range(epocas):\n",
    "        # divisão os dados \n",
    "        seed = i\n",
    "        X_train, X_test, y_train, y_test = procData.holdout(0.2, seed)\n",
    "        #print(Counter(y_test))\n",
    "\n",
    "        # realizando o grid search para encontrar a melhor K-Vizinhos, \n",
    "        # considerando a acurácia (taxa de acerto)\n",
    "        # aqui o método GridSearchCV é configurado para subdividir os dados de treino em k_folds\n",
    "        clf = KNeighborsClassifier()\n",
    "        grid_knn = GridSearchCV(clf, param_grid, cv=k_folds, scoring='accuracy', verbose=0)\n",
    "        grid_knn.fit(X_train, y_train)\n",
    "        \n",
    "        # Treinando do modelo com os melhores parametros encontrados\n",
    "        grid_knn.best_params_\n",
    "        Kvizinhos_best = int(grid_knn.best_params_['n_neighbors']) \n",
    "        pesos_best = int(grid_knn.best_params_['p'])\n",
    "        KNN = KNeighborsClassifier(n_neighbors=Kvizinhos_best, metric='minkowski', p = pesos_best)\n",
    "        KNN.fit(X_train, y_train)\n",
    "\n",
    "        #testando o modelo\n",
    "        y_pred = KNN.predict(X_test)\n",
    "        if exibir_matriz_confusao:\n",
    "            print(confusion_matrix(y_test, y_pred))\n",
    "\n",
    "        # calculado as metricas\n",
    "        accuracy = metrics.accuracy_score(y_test, y_pred)\n",
    "        precision = metrics.precision_score(y_test, y_pred)\n",
    "        recall = metrics.recall_score(y_test, y_pred)\n",
    "        matriz = metrics.confusion_matrix(y_test, y_pred)\n",
    "        \n",
    "        f1_score = 2 * (precision * recall) / (precision + recall)\n",
    "\n",
    "        # armazenando as métricas\n",
    "        resultados_accuracy.append(accuracy)\n",
    "        resultados_precision.append(precision)\n",
    "        resultados_recall.append(recall)\n",
    "        resultados_f1.append(f1_score)\n",
    "        resultados_matriz.append(matriz)\n",
    "\n",
    "        #best_parametros = \"K-Vizinhos (n_neighbors): \"+ str(Kvizinhos_best)+ \" | Peso (p): \"+str(pesos_best);\n",
    "        best_parametros = {'n_neighbors': Kvizinhos_best, 'p': pesos_best};\n",
    "        resultados_parametros.append(best_parametros)\n",
    "\n",
    "\n",
    "\n",
    "        if exibir_metricas:\n",
    "            print(\"Rodada:\",i)\n",
    "            print(\"Parâmetros:\",best_parametros)\n",
    "            print(\"Accuracy:\",accuracy)\n",
    "            print(\"Precision:\",precision)\n",
    "            print(\"Recall:\",recall)\n",
    "            print(\"F1-Score:\",f1_score)\n",
    "            print(\"\\n\")\n",
    "\n",
    "            \n",
    "    resultados_gerais['accuracy'] = resultados_accuracy\n",
    "    resultados_gerais['precision'] = resultados_precision\n",
    "    resultados_gerais['recall'] = resultados_recall\n",
    "    resultados_gerais['f1'] = resultados_f1\n",
    "    resultados_gerais['params'] = resultados_parametros\n",
    "    resultados_gerais['matriz'] = resultados_matriz\n",
    "    \n",
    "    return resultados_gerais"
   ]
  },
  {
   "cell_type": "code",
   "execution_count": 94,
   "metadata": {},
   "outputs": [],
   "source": [
    "def tabelaMetricas(nome_modelo, dict_metricas, rodadas=False, salvarResultados=True):\n",
    "    print (\"============================================== \"+nome_modelo+\" =================================================\")\n",
    "    print (\"=================================== RESULTADOS DAS MÉTRICAS DO MODELO ==============================\")\n",
    "    \n",
    "    if(rodadas==False):\n",
    "        print (\"\\t Accuracy \\t|\\t Precision \\t|\\t Recall \\t|\\t F1-Score\")\n",
    "        print (\"      %.2f +- %.2f\" % (np.mean(dict_metricas['accuracy'], axis=0), np.std(dict_metricas['accuracy'], axis=0)),end='       ')\n",
    "        print (\"      %.2f +- %.2f\" % (np.mean(dict_metricas['precision'], axis=0), np.std(dict_metricas['precision'], axis=0)),end='    ')\n",
    "        print (\"      %.2f +- %.2f\" % (np.mean(dict_metricas['recall'], axis=0), np.std(dict_metricas['recall'], axis=0)),end='       ')\n",
    "        print (\"      %.2f +- %.2f\" % (np.mean(dict_metricas['f1'], axis=0), np.std(dict_metricas['f1'], axis=0)))\n",
    "\n",
    "        print (\"\")\n",
    "        print (\"=================================== MELHORES RESULTADOS ============================================\")\n",
    "\n",
    "        indice_accuracy = np.array(dict_metricas['accuracy'])\n",
    "        melhor_accuracy = indice_accuracy.flatten()[np.argmax(indice_accuracy)] #retorna o maior valor\n",
    "        melhor_params_accuracy = dict_metricas['params'][np.argmax(indice_accuracy)]\n",
    "        melhor_matriz_accuracy = dict_metricas['matriz'][np.argmax(indice_accuracy)]\n",
    "        \n",
    "        indice_precision = np.array(dict_metricas['precision'])\n",
    "        melhor_precision = indice_precision.flatten()[np.argmax(indice_precision)] #retorna o maior valor\n",
    "        melhor_params_precision = dict_metricas['params'][np.argmax(indice_precision)]\n",
    "        melhor_matriz_precision = dict_metricas['matriz'][np.argmax(indice_precision)]\n",
    "        \n",
    "        indice_recall = np.array(dict_metricas['recall'])\n",
    "        melhor_recall = indice_recall.flatten()[np.argmax(indice_recall)] #retorna o maior valor\n",
    "        melhor_params_recall = dict_metricas['params'][np.argmax(indice_recall)]\n",
    "        melhor_matriz_recall = dict_metricas['matriz'][np.argmax(indice_recall)]\n",
    "        \n",
    "        indice_f1 = np.array(dict_metricas['f1'])\n",
    "        melhor_f1 = indice_f1.flatten()[np.argmax(indice_f1)] #retorna o maior valor\n",
    "        melhor_params_f1 = dict_metricas['params'][np.argmax(indice_f1)]        \n",
    "        melhor_matriz_f1 = dict_metricas['matriz'][np.argmax(indice_f1)]\n",
    "        \n",
    "        print (\"Accuracy\")\n",
    "        print (\"Rodada:\", np.argmax(indice_accuracy),\" | Parâmetro:\", melhor_params_accuracy, \" | Resultado:\",melhor_accuracy)\n",
    "        print (\"Matriz de Confusão:\")\n",
    "        print (melhor_matriz_accuracy)\n",
    "        sn.heatmap(melhor_matriz_accuracy, annot=True)\n",
    "        plt.show()\n",
    "        \n",
    "        print (\"\")\n",
    "        print (\"Precision\")\n",
    "        print (\"Rodada:\", np.argmax(indice_precision),\" | Parâmetro:\", melhor_params_precision, \" | Resultado:\",melhor_precision)\n",
    "        print (\"Matriz de Confusão:\")\n",
    "        print (melhor_matriz_precision)\n",
    "        sn.heatmap(melhor_matriz_precision, annot=True)\n",
    "        plt.show()\n",
    "\n",
    "        print (\"\")\n",
    "        print (\"Recall:\")\n",
    "        print (\"Rodada:\", np.argmax(indice_recall),\" | Parâmetro:\", melhor_params_recall, \" | Resultado:\",melhor_recall)\n",
    "        print (\"Matriz de Confusão:\")\n",
    "        print (melhor_matriz_recall)\n",
    "        print (\"\")\n",
    "        sn.heatmap(melhor_matriz_recall, annot=True)\n",
    "        plt.show()\n",
    "        \n",
    "        print (\"F1-Score:\")\n",
    "        print (\"Rodada:\", np.argmax(indice_f1),\" | Parâmetro:\", melhor_params_f1, \" | Resultado:\",melhor_f1)\n",
    "        print (\"Matriz de Confusão:\")\n",
    "        print (melhor_matriz_f1)        \n",
    "        sn.heatmap(melhor_matriz_f1, annot=True)\n",
    "        plt.show()\n",
    "\n",
    "        print (\"===================================================================================================\")\n",
    "        \n",
    "    if(salvarResultados):\n",
    "        # save to npy file\n",
    "        np.save('../resultados/resultados_'+nome_modelo+'.npy', dict_metricas)"
   ]
  },
  {
   "cell_type": "markdown",
   "metadata": {},
   "source": [
    "# Definindo os parâmetros"
   ]
  },
  {
   "cell_type": "code",
   "execution_count": 95,
   "metadata": {},
   "outputs": [],
   "source": [
    "k_range = np.arange(1,25,1) # K-Vizinhos a serem testados no SearchGridCV \n",
    "pesos = [1, 2] # 1:Manhattan | 2:Euclidiana\n",
    "param_grid = {'n_neighbors': k_range, 'p': pesos}\n",
    "epocas = 10\n",
    "k_folds = 5\n",
    "exibir_matriz_confusao = True\n",
    "exibir_metricas = True"
   ]
  },
  {
   "cell_type": "markdown",
   "metadata": {},
   "source": [
    "# Treinando e obtendo as métricas do modelo"
   ]
  },
  {
   "cell_type": "code",
   "execution_count": 96,
   "metadata": {},
   "outputs": [
    {
     "name": "stderr",
     "output_type": "stream",
     "text": [
      "C:\\Users\\Eduardo Valente\\Anaconda3\\lib\\site-packages\\sklearn\\model_selection\\_search.py:813: DeprecationWarning: The default of the `iid` parameter will change from True to False in version 0.22 and will be removed in 0.24. This will change numeric results when test-set sizes are unequal.\n",
      "  DeprecationWarning)\n"
     ]
    },
    {
     "name": "stdout",
     "output_type": "stream",
     "text": [
      "[[23  5]\n",
      " [ 8 84]]\n",
      "Rodada: 0\n",
      "Parâmetros: {'n_neighbors': 1, 'p': 1}\n",
      "Accuracy: 0.8916666666666667\n",
      "Precision: 0.9438202247191011\n",
      "Recall: 0.9130434782608695\n",
      "F1-Score: 0.9281767955801105\n",
      "\n",
      "\n",
      "[[20 13]\n",
      " [ 5 82]]\n",
      "Rodada: 1\n",
      "Parâmetros: {'n_neighbors': 1, 'p': 2}\n",
      "Accuracy: 0.85\n",
      "Precision: 0.8631578947368421\n",
      "Recall: 0.9425287356321839\n",
      "F1-Score: 0.901098901098901\n",
      "\n",
      "\n",
      "[[13  9]\n",
      " [ 7 91]]\n",
      "Rodada: 2\n",
      "Parâmetros: {'n_neighbors': 7, 'p': 1}\n",
      "Accuracy: 0.8666666666666667\n",
      "Precision: 0.91\n",
      "Recall: 0.9285714285714286\n",
      "F1-Score: 0.9191919191919193\n",
      "\n",
      "\n"
     ]
    },
    {
     "name": "stderr",
     "output_type": "stream",
     "text": [
      "C:\\Users\\Eduardo Valente\\Anaconda3\\lib\\site-packages\\sklearn\\model_selection\\_search.py:813: DeprecationWarning: The default of the `iid` parameter will change from True to False in version 0.22 and will be removed in 0.24. This will change numeric results when test-set sizes are unequal.\n",
      "  DeprecationWarning)\n"
     ]
    },
    {
     "name": "stdout",
     "output_type": "stream",
     "text": [
      "[[25  7]\n",
      " [ 2 86]]\n",
      "Rodada: 3\n",
      "Parâmetros: {'n_neighbors': 3, 'p': 2}\n",
      "Accuracy: 0.925\n",
      "Precision: 0.9247311827956989\n",
      "Recall: 0.9772727272727273\n",
      "F1-Score: 0.9502762430939227\n",
      "\n",
      "\n"
     ]
    },
    {
     "name": "stderr",
     "output_type": "stream",
     "text": [
      "C:\\Users\\Eduardo Valente\\Anaconda3\\lib\\site-packages\\sklearn\\model_selection\\_search.py:813: DeprecationWarning: The default of the `iid` parameter will change from True to False in version 0.22 and will be removed in 0.24. This will change numeric results when test-set sizes are unequal.\n",
      "  DeprecationWarning)\n"
     ]
    },
    {
     "name": "stdout",
     "output_type": "stream",
     "text": [
      "[[25  3]\n",
      " [ 5 87]]\n",
      "Rodada: 4\n",
      "Parâmetros: {'n_neighbors': 1, 'p': 2}\n",
      "Accuracy: 0.9333333333333333\n",
      "Precision: 0.9666666666666667\n",
      "Recall: 0.9456521739130435\n",
      "F1-Score: 0.956043956043956\n",
      "\n",
      "\n"
     ]
    },
    {
     "name": "stderr",
     "output_type": "stream",
     "text": [
      "C:\\Users\\Eduardo Valente\\Anaconda3\\lib\\site-packages\\sklearn\\model_selection\\_search.py:813: DeprecationWarning: The default of the `iid` parameter will change from True to False in version 0.22 and will be removed in 0.24. This will change numeric results when test-set sizes are unequal.\n",
      "  DeprecationWarning)\n"
     ]
    },
    {
     "name": "stdout",
     "output_type": "stream",
     "text": [
      "[[19 13]\n",
      " [ 5 83]]\n",
      "Rodada: 5\n",
      "Parâmetros: {'n_neighbors': 1, 'p': 2}\n",
      "Accuracy: 0.85\n",
      "Precision: 0.8645833333333334\n",
      "Recall: 0.9431818181818182\n",
      "F1-Score: 0.9021739130434783\n",
      "\n",
      "\n"
     ]
    },
    {
     "name": "stderr",
     "output_type": "stream",
     "text": [
      "C:\\Users\\Eduardo Valente\\Anaconda3\\lib\\site-packages\\sklearn\\model_selection\\_search.py:813: DeprecationWarning: The default of the `iid` parameter will change from True to False in version 0.22 and will be removed in 0.24. This will change numeric results when test-set sizes are unequal.\n",
      "  DeprecationWarning)\n"
     ]
    },
    {
     "name": "stdout",
     "output_type": "stream",
     "text": [
      "[[16  6]\n",
      " [ 6 92]]\n",
      "Rodada: 6\n",
      "Parâmetros: {'n_neighbors': 1, 'p': 2}\n",
      "Accuracy: 0.9\n",
      "Precision: 0.9387755102040817\n",
      "Recall: 0.9387755102040817\n",
      "F1-Score: 0.9387755102040817\n",
      "\n",
      "\n"
     ]
    },
    {
     "name": "stderr",
     "output_type": "stream",
     "text": [
      "C:\\Users\\Eduardo Valente\\Anaconda3\\lib\\site-packages\\sklearn\\model_selection\\_search.py:813: DeprecationWarning: The default of the `iid` parameter will change from True to False in version 0.22 and will be removed in 0.24. This will change numeric results when test-set sizes are unequal.\n",
      "  DeprecationWarning)\n"
     ]
    },
    {
     "name": "stdout",
     "output_type": "stream",
     "text": [
      "[[23  8]\n",
      " [ 3 86]]\n",
      "Rodada: 7\n",
      "Parâmetros: {'n_neighbors': 5, 'p': 1}\n",
      "Accuracy: 0.9083333333333333\n",
      "Precision: 0.9148936170212766\n",
      "Recall: 0.9662921348314607\n",
      "F1-Score: 0.9398907103825136\n",
      "\n",
      "\n",
      "[[20  7]\n",
      " [ 2 91]]\n",
      "Rodada: 8\n",
      "Parâmetros: {'n_neighbors': 3, 'p': 1}\n",
      "Accuracy: 0.925\n",
      "Precision: 0.9285714285714286\n",
      "Recall: 0.978494623655914\n",
      "F1-Score: 0.9528795811518325\n",
      "\n",
      "\n",
      "[[23  6]\n",
      " [ 3 88]]\n",
      "Rodada: 9\n",
      "Parâmetros: {'n_neighbors': 7, 'p': 1}\n",
      "Accuracy: 0.925\n",
      "Precision: 0.9361702127659575\n",
      "Recall: 0.967032967032967\n",
      "F1-Score: 0.9513513513513513\n",
      "\n",
      "\n",
      "============================================== KNN =================================================\n",
      "=================================== RESULTADOS DAS MÉTRICAS DO MODELO ==============================\n",
      "\t Accuracy \t|\t Precision \t|\t Recall \t|\t F1-Score\n",
      "      0.90 +- 0.03             0.92 +- 0.03          0.95 +- 0.02             0.93 +- 0.02\n",
      "\n",
      "=================================== MELHORES RESULTADOS ============================================\n",
      "Accuracy\n",
      "Rodada: 4  | Parâmetro: {'n_neighbors': 1, 'p': 2}  | Resultado: 0.9333333333333333\n",
      "Matriz de Confusão:\n",
      "[[25  3]\n",
      " [ 5 87]]\n"
     ]
    },
    {
     "data": {
      "image/png": "[encoded data removed]",
      "text/plain": [
       "<Figure size 432x288 with 2 Axes>"
      ]
     },
     "metadata": {
      "needs_background": "light"
     },
     "output_type": "display_data"
    },
    {
     "name": "stdout",
     "output_type": "stream",
     "text": [
      "\n",
      "Precision\n",
      "Rodada: 4  | Parâmetro: {'n_neighbors': 1, 'p': 2}  | Resultado: 0.9666666666666667\n",
      "Matriz de Confusão:\n",
      "[[25  3]\n",
      " [ 5 87]]\n"
     ]
    },
    {
     "data": {
      "image/png": "[encoded data removed]",
      "text/plain": [
       "<Figure size 432x288 with 2 Axes>"
      ]
     },
     "metadata": {
      "needs_background": "light"
     },
     "output_type": "display_data"
    },
    {
     "name": "stdout",
     "output_type": "stream",
     "text": [
      "\n",
      "Recall:\n",
      "Rodada: 8  | Parâmetro: {'n_neighbors': 3, 'p': 1}  | Resultado: 0.978494623655914\n",
      "Matriz de Confusão:\n",
      "[[20  7]\n",
      " [ 2 91]]\n",
      "\n"
     ]
    },
    {
     "data": {
      "image/png": "[encoded data removed]",
      "text/plain": [
       "<Figure size 432x288 with 2 Axes>"
      ]
     },
     "metadata": {
      "needs_background": "light"
     },
     "output_type": "display_data"
    },
    {
     "name": "stdout",
     "output_type": "stream",
     "text": [
      "F1-Score:\n",
      "Rodada: 4  | Parâmetro: {'n_neighbors': 1, 'p': 2}  | Resultado: 0.956043956043956\n",
      "Matriz de Confusão:\n",
      "[[25  3]\n",
      " [ 5 87]]\n"
     ]
    },
    {
     "data": {
      "image/png": "[encoded data removed]",
      "text/plain": [
       "<Figure size 432x288 with 2 Axes>"
      ]
     },
     "metadata": {
      "needs_background": "light"
     },
     "output_type": "display_data"
    },
    {
     "name": "stdout",
     "output_type": "stream",
     "text": [
      "===================================================================================================\n"
     ]
    }
   ],
   "source": [
    "# treinando o modelo\n",
    "dict_metricas = treinamento_teste(epocas, k_folds, exibir_matriz_confusao, exibir_metricas)\n",
    "tabelaMetricas('KNN',dict_metricas)"
   ]
  },
  {
   "cell_type": "code",
   "execution_count": null,
   "metadata": {},
   "outputs": [],
   "source": []
  }
 ],
 "metadata": {
  "kernelspec": {
   "display_name": "Python 3",
   "language": "python",
   "name": "python3"
  },
  "language_info": {
   "codemirror_mode": {
    "name": "ipython",
    "version": 3
   },
   "file_extension": ".py",
   "mimetype": "text/x-python",
   "name": "python",
   "nbconvert_exporter": "python",
   "pygments_lexer": "ipython3",
   "version": "3.7.4"
  }
 },
 "nbformat": 4,
 "nbformat_minor": 4
}
