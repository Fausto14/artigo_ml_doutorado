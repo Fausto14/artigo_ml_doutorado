{
 "cells": [
  {
   "cell_type": "markdown",
   "metadata": {},
   "source": [
    "# Importando as bibliotecas"
   ]
  },
  {
   "cell_type": "code",
   "execution_count": 105,
   "metadata": {},
   "outputs": [],
   "source": [
    "from sklearn.neighbors import KNeighborsClassifier\n",
    "from sklearn.model_selection import GridSearchCV\n",
    "from sklearn import metrics\n",
    "from sklearn.metrics import confusion_matrix\n",
    "import pandas as pd\n",
    "import numpy as np\n",
    "import matplotlib.pyplot as plt\n",
    "from collections import Counter\n",
    "import seaborn as sn\n",
    "import os\n",
    "import sys\n",
    "sys.path.insert(0, os.path.abspath('../Util'))\n",
    "from dados import ProcessarDados"
   ]
  },
  {
   "cell_type": "code",
   "execution_count": 106,
   "metadata": {},
   "outputs": [],
   "source": [
    "# Dataset"
   ]
  },
  {
   "cell_type": "code",
   "execution_count": 107,
   "metadata": {},
   "outputs": [],
   "source": [
    "procData = ProcessarDados(\"../dataset/norm_bin_10_FEATURES_M17_CM6b_TH199.csv\")"
   ]
  },
  {
   "cell_type": "code",
   "execution_count": 108,
   "metadata": {},
   "outputs": [],
   "source": [
    "# Funções"
   ]
  },
  {
   "cell_type": "code",
   "execution_count": 109,
   "metadata": {},
   "outputs": [],
   "source": [
    "# funcção que treina e testa o modelo armazenando as métricas\n",
    "# retorna um dicionário cotendo os valores das métricas de cada rodada\n",
    "def treinamento_teste(epocas = 10, k_folds = 5, exibir_matriz_confusao=False, exibir_metricas=False):\n",
    "    \n",
    "    #array para armazenar as das métricas de cada rodada\n",
    "    resultados_accuracy = []\n",
    "    resultados_precision = []\n",
    "    resultados_recall = []\n",
    "    resultados_f1 = []\n",
    "    resultados_parametros = []\n",
    "    resultados_matriz = []\n",
    "\n",
    "    \n",
    "    #dicionário das métricas\n",
    "    resultados_gerais = {}\n",
    "\n",
    "    for i in range(epocas):\n",
    "        # divisão os dados \n",
    "        seed = i\n",
    "        X_train, X_test, y_train, y_test = procData.holdout(0.2, seed)\n",
    "        #print(Counter(y_test))\n",
    "\n",
    "        # realizando o grid search para encontrar a melhor K-Vizinhos, \n",
    "        # considerando a acurácia (taxa de acerto)\n",
    "        # aqui o método GridSearchCV é configurado para subdividir os dados de treino em k_folds\n",
    "        clf = KNeighborsClassifier()\n",
    "        grid_knn = GridSearchCV(clf, param_grid, cv=k_folds, scoring='accuracy', verbose=0)\n",
    "        grid_knn.fit(X_train, y_train)\n",
    "        \n",
    "        # Treinando do modelo com os melhores parametros encontrados\n",
    "        grid_knn.best_params_\n",
    "        Kvizinhos_best = int(grid_knn.best_params_['n_neighbors']) \n",
    "        pesos_best = int(grid_knn.best_params_['p'])\n",
    "        KNN = KNeighborsClassifier(n_neighbors=Kvizinhos_best, metric='minkowski', p = pesos_best)\n",
    "        KNN.fit(X_train, y_train)\n",
    "\n",
    "        #testando o modelo\n",
    "        y_pred = KNN.predict(X_test)\n",
    "        if exibir_matriz_confusao:\n",
    "            print(confusion_matrix(y_test, y_pred))\n",
    "\n",
    "        # calculado as metricas\n",
    "        accuracy = metrics.accuracy_score(y_test, y_pred)\n",
    "        precision = metrics.precision_score(y_test, y_pred)\n",
    "        recall = metrics.recall_score(y_test, y_pred)\n",
    "        matriz = metrics.confusion_matrix(y_test, y_pred)\n",
    "        \n",
    "        f1_score = 2 * (precision * recall) / (precision + recall)\n",
    "\n",
    "        # armazenando as métricas\n",
    "        resultados_accuracy.append(accuracy)\n",
    "        resultados_precision.append(precision)\n",
    "        resultados_recall.append(recall)\n",
    "        resultados_f1.append(f1_score)\n",
    "        resultados_matriz.append(matriz)\n",
    "\n",
    "        #best_parametros = \"K-Vizinhos (n_neighbors): \"+ str(Kvizinhos_best)+ \" | Peso (p): \"+str(pesos_best);\n",
    "        best_parametros = {'n_neighbors': Kvizinhos_best, 'p': pesos_best};\n",
    "        resultados_parametros.append(best_parametros)\n",
    "\n",
    "\n",
    "\n",
    "        if exibir_metricas:\n",
    "            print(\"Rodada:\",i)\n",
    "            print(\"Parâmetros:\",best_parametros)\n",
    "            print(\"Accuracy:\",accuracy)\n",
    "            print(\"Precision:\",precision)\n",
    "            print(\"Recall:\",recall)\n",
    "            print(\"F1-Score:\",f1_score)\n",
    "            print(\"\\n\")\n",
    "\n",
    "            \n",
    "    resultados_gerais['accuracy'] = resultados_accuracy\n",
    "    resultados_gerais['precision'] = resultados_precision\n",
    "    resultados_gerais['recall'] = resultados_recall\n",
    "    resultados_gerais['f1'] = resultados_f1\n",
    "    resultados_gerais['params'] = resultados_parametros\n",
    "    resultados_gerais['matriz'] = resultados_matriz\n",
    "    \n",
    "    return resultados_gerais"
   ]
  },
  {
   "cell_type": "code",
   "execution_count": 110,
   "metadata": {},
   "outputs": [],
   "source": [
    "def tabelaMetricas(nome_modelo, dict_metricas, rodadas=False, salvarResultados=True):\n",
    "    print (\"============================================== \"+nome_modelo+\" =================================================\")\n",
    "    print (\"=================================== RESULTADOS DAS MÉTRICAS DO MODELO ==============================\")\n",
    "    \n",
    "    if(rodadas==False):\n",
    "        print (\"\\t Accuracy \\t|\\t Precision \\t|\\t Recall \\t|\\t F1-Score\")\n",
    "        print (\"      %.2f +- %.2f\" % (np.mean(dict_metricas['accuracy'], axis=0), np.std(dict_metricas['accuracy'], axis=0)),end='       ')\n",
    "        print (\"      %.2f +- %.2f\" % (np.mean(dict_metricas['precision'], axis=0), np.std(dict_metricas['precision'], axis=0)),end='    ')\n",
    "        print (\"      %.2f +- %.2f\" % (np.mean(dict_metricas['recall'], axis=0), np.std(dict_metricas['recall'], axis=0)),end='       ')\n",
    "        print (\"      %.2f +- %.2f\" % (np.mean(dict_metricas['f1'], axis=0), np.std(dict_metricas['f1'], axis=0)))\n",
    "\n",
    "        print (\"\")\n",
    "        print (\"=================================== MELHORES RESULTADOS ============================================\")\n",
    "\n",
    "        indice_accuracy = np.array(dict_metricas['accuracy'])\n",
    "        melhor_accuracy = indice_accuracy.flatten()[np.argmax(indice_accuracy)] #retorna o maior valor\n",
    "        melhor_params_accuracy = dict_metricas['params'][np.argmax(indice_accuracy)]\n",
    "        melhor_matriz_accuracy = dict_metricas['matriz'][np.argmax(indice_accuracy)]\n",
    "        \n",
    "        indice_precision = np.array(dict_metricas['precision'])\n",
    "        melhor_precision = indice_precision.flatten()[np.argmax(indice_precision)] #retorna o maior valor\n",
    "        melhor_params_precision = dict_metricas['params'][np.argmax(indice_precision)]\n",
    "        melhor_matriz_precision = dict_metricas['matriz'][np.argmax(indice_precision)]\n",
    "        \n",
    "        indice_recall = np.array(dict_metricas['recall'])\n",
    "        melhor_recall = indice_recall.flatten()[np.argmax(indice_recall)] #retorna o maior valor\n",
    "        melhor_params_recall = dict_metricas['params'][np.argmax(indice_recall)]\n",
    "        melhor_matriz_recall = dict_metricas['matriz'][np.argmax(indice_recall)]\n",
    "        \n",
    "        indice_f1 = np.array(dict_metricas['f1'])\n",
    "        melhor_f1 = indice_f1.flatten()[np.argmax(indice_f1)] #retorna o maior valor\n",
    "        melhor_params_f1 = dict_metricas['params'][np.argmax(indice_f1)]        \n",
    "        melhor_matriz_f1 = dict_metricas['matriz'][np.argmax(indice_f1)]\n",
    "        \n",
    "        print (\"Accuracy\")\n",
    "        print (\"Rodada:\", np.argmax(indice_accuracy),\" | Parâmetro:\", melhor_params_accuracy, \" | Resultado:\",melhor_accuracy)\n",
    "        print (\"Matriz de Confusão:\")\n",
    "        #print (melhor_matriz_accuracy)\n",
    "        sn.heatmap(melhor_matriz_accuracy, annot=True)\n",
    "        plt.show()\n",
    "        \n",
    "        print (\"\")\n",
    "        print (\"Precision\")\n",
    "        print (\"Rodada:\", np.argmax(indice_precision),\" | Parâmetro:\", melhor_params_precision, \" | Resultado:\",melhor_precision)\n",
    "        print (\"Matriz de Confusão:\")\n",
    "        #print (melhor_matriz_precision)\n",
    "        sn.heatmap(melhor_matriz_precision, annot=True)\n",
    "        plt.show()\n",
    "\n",
    "        print (\"\")\n",
    "        print (\"Recall:\")\n",
    "        print (\"Rodada:\", np.argmax(indice_recall),\" | Parâmetro:\", melhor_params_recall, \" | Resultado:\",melhor_recall)\n",
    "        print (\"Matriz de Confusão:\")\n",
    "        #print (melhor_matriz_recall)\n",
    "        print (\"\")\n",
    "        sn.heatmap(melhor_matriz_recall, annot=True)\n",
    "        plt.show()\n",
    "        \n",
    "        print (\"F1-Score:\")\n",
    "        print (\"Rodada:\", np.argmax(indice_f1),\" | Parâmetro:\", melhor_params_f1, \" | Resultado:\",melhor_f1)\n",
    "        #print (\"Matriz de Confusão:\")\n",
    "        print (melhor_matriz_f1)        \n",
    "        sn.heatmap(melhor_matriz_f1, annot=True)\n",
    "        plt.show()\n",
    "\n",
    "        print (\"===================================================================================================\")\n",
    "        \n",
    "    if(salvarResultados):\n",
    "        # save to npy file\n",
    "        np.save('../resultados/resultados_'+nome_modelo+'.npy', dict_metricas)"
   ]
  },
  {
   "cell_type": "markdown",
   "metadata": {},
   "source": [
    "# Definindo os parâmetros"
   ]
  },
  {
   "cell_type": "code",
   "execution_count": 111,
   "metadata": {},
   "outputs": [],
   "source": [
    "k_range = np.arange(1,25,1) # K-Vizinhos a serem testados no SearchGridCV \n",
    "pesos = [1, 2] # 1:Manhattan | 2:Euclidiana\n",
    "param_grid = {'n_neighbors': k_range, 'p': pesos}\n",
    "epocas = 50\n",
    "k_folds = 5\n",
    "exibir_matriz_confusao = True\n",
    "exibir_metricas = True"
   ]
  },
  {
   "cell_type": "markdown",
   "metadata": {},
   "source": [
    "# Treinando e obtendo as métricas do modelo"
   ]
  },
  {
   "cell_type": "code",
   "execution_count": 112,
   "metadata": {},
   "outputs": [
    {
     "name": "stderr",
     "output_type": "stream",
     "text": [
      "C:\\Users\\Eduardo Valente\\Anaconda3\\lib\\site-packages\\sklearn\\model_selection\\_search.py:813: DeprecationWarning: The default of the `iid` parameter will change from True to False in version 0.22 and will be removed in 0.24. This will change numeric results when test-set sizes are unequal.\n",
      "  DeprecationWarning)\n"
     ]
    },
    {
     "name": "stdout",
     "output_type": "stream",
     "text": [
      "[[23  5]\n",
      " [ 8 84]]\n",
      "Rodada: 0\n",
      "Parâmetros: {'n_neighbors': 1, 'p': 1}\n",
      "Accuracy: 0.8916666666666667\n",
      "Precision: 0.9438202247191011\n",
      "Recall: 0.9130434782608695\n",
      "F1-Score: 0.9281767955801105\n",
      "\n",
      "\n",
      "[[20 13]\n",
      " [ 5 82]]\n",
      "Rodada: 1\n",
      "Parâmetros: {'n_neighbors': 1, 'p': 2}\n",
      "Accuracy: 0.85\n",
      "Precision: 0.8631578947368421\n",
      "Recall: 0.9425287356321839\n",
      "F1-Score: 0.901098901098901\n",
      "\n",
      "\n",
      "[[13  9]\n",
      " [ 7 91]]\n",
      "Rodada: 2\n",
      "Parâmetros: {'n_neighbors': 7, 'p': 1}\n",
      "Accuracy: 0.8666666666666667\n",
      "Precision: 0.91\n",
      "Recall: 0.9285714285714286\n",
      "F1-Score: 0.9191919191919193\n",
      "\n",
      "\n"
     ]
    },
    {
     "name": "stderr",
     "output_type": "stream",
     "text": [
      "C:\\Users\\Eduardo Valente\\Anaconda3\\lib\\site-packages\\sklearn\\model_selection\\_search.py:813: DeprecationWarning: The default of the `iid` parameter will change from True to False in version 0.22 and will be removed in 0.24. This will change numeric results when test-set sizes are unequal.\n",
      "  DeprecationWarning)\n"
     ]
    },
    {
     "name": "stdout",
     "output_type": "stream",
     "text": [
      "[[25  7]\n",
      " [ 2 86]]\n",
      "Rodada: 3\n",
      "Parâmetros: {'n_neighbors': 3, 'p': 2}\n",
      "Accuracy: 0.925\n",
      "Precision: 0.9247311827956989\n",
      "Recall: 0.9772727272727273\n",
      "F1-Score: 0.9502762430939227\n",
      "\n",
      "\n"
     ]
    },
    {
     "name": "stderr",
     "output_type": "stream",
     "text": [
      "C:\\Users\\Eduardo Valente\\Anaconda3\\lib\\site-packages\\sklearn\\model_selection\\_search.py:813: DeprecationWarning: The default of the `iid` parameter will change from True to False in version 0.22 and will be removed in 0.24. This will change numeric results when test-set sizes are unequal.\n",
      "  DeprecationWarning)\n"
     ]
    },
    {
     "name": "stdout",
     "output_type": "stream",
     "text": [
      "[[25  3]\n",
      " [ 5 87]]\n",
      "Rodada: 4\n",
      "Parâmetros: {'n_neighbors': 1, 'p': 2}\n",
      "Accuracy: 0.9333333333333333\n",
      "Precision: 0.9666666666666667\n",
      "Recall: 0.9456521739130435\n",
      "F1-Score: 0.956043956043956\n",
      "\n",
      "\n"
     ]
    },
    {
     "name": "stderr",
     "output_type": "stream",
     "text": [
      "C:\\Users\\Eduardo Valente\\Anaconda3\\lib\\site-packages\\sklearn\\model_selection\\_search.py:813: DeprecationWarning: The default of the `iid` parameter will change from True to False in version 0.22 and will be removed in 0.24. This will change numeric results when test-set sizes are unequal.\n",
      "  DeprecationWarning)\n"
     ]
    },
    {
     "name": "stdout",
     "output_type": "stream",
     "text": [
      "[[19 13]\n",
      " [ 5 83]]\n",
      "Rodada: 5\n",
      "Parâmetros: {'n_neighbors': 1, 'p': 2}\n",
      "Accuracy: 0.85\n",
      "Precision: 0.8645833333333334\n",
      "Recall: 0.9431818181818182\n",
      "F1-Score: 0.9021739130434783\n",
      "\n",
      "\n"
     ]
    },
    {
     "name": "stderr",
     "output_type": "stream",
     "text": [
      "C:\\Users\\Eduardo Valente\\Anaconda3\\lib\\site-packages\\sklearn\\model_selection\\_search.py:813: DeprecationWarning: The default of the `iid` parameter will change from True to False in version 0.22 and will be removed in 0.24. This will change numeric results when test-set sizes are unequal.\n",
      "  DeprecationWarning)\n"
     ]
    },
    {
     "name": "stdout",
     "output_type": "stream",
     "text": [
      "[[16  6]\n",
      " [ 6 92]]\n",
      "Rodada: 6\n",
      "Parâmetros: {'n_neighbors': 1, 'p': 2}\n",
      "Accuracy: 0.9\n",
      "Precision: 0.9387755102040817\n",
      "Recall: 0.9387755102040817\n",
      "F1-Score: 0.9387755102040817\n",
      "\n",
      "\n"
     ]
    },
    {
     "name": "stderr",
     "output_type": "stream",
     "text": [
      "C:\\Users\\Eduardo Valente\\Anaconda3\\lib\\site-packages\\sklearn\\model_selection\\_search.py:813: DeprecationWarning: The default of the `iid` parameter will change from True to False in version 0.22 and will be removed in 0.24. This will change numeric results when test-set sizes are unequal.\n",
      "  DeprecationWarning)\n"
     ]
    },
    {
     "name": "stdout",
     "output_type": "stream",
     "text": [
      "[[23  8]\n",
      " [ 3 86]]\n",
      "Rodada: 7\n",
      "Parâmetros: {'n_neighbors': 5, 'p': 1}\n",
      "Accuracy: 0.9083333333333333\n",
      "Precision: 0.9148936170212766\n",
      "Recall: 0.9662921348314607\n",
      "F1-Score: 0.9398907103825136\n",
      "\n",
      "\n",
      "[[20  7]\n",
      " [ 2 91]]\n",
      "Rodada: 8\n",
      "Parâmetros: {'n_neighbors': 3, 'p': 1}\n",
      "Accuracy: 0.925\n",
      "Precision: 0.9285714285714286\n",
      "Recall: 0.978494623655914\n",
      "F1-Score: 0.9528795811518325\n",
      "\n",
      "\n",
      "[[23  6]\n",
      " [ 3 88]]\n",
      "Rodada: 9\n",
      "Parâmetros: {'n_neighbors': 7, 'p': 1}\n",
      "Accuracy: 0.925\n",
      "Precision: 0.9361702127659575\n",
      "Recall: 0.967032967032967\n",
      "F1-Score: 0.9513513513513513\n",
      "\n",
      "\n",
      "[[15 12]\n",
      " [ 8 85]]\n",
      "Rodada: 10\n",
      "Parâmetros: {'n_neighbors': 5, 'p': 1}\n",
      "Accuracy: 0.8333333333333334\n",
      "Precision: 0.8762886597938144\n",
      "Recall: 0.9139784946236559\n",
      "F1-Score: 0.894736842105263\n",
      "\n",
      "\n"
     ]
    },
    {
     "name": "stderr",
     "output_type": "stream",
     "text": [
      "C:\\Users\\Eduardo Valente\\Anaconda3\\lib\\site-packages\\sklearn\\model_selection\\_search.py:813: DeprecationWarning: The default of the `iid` parameter will change from True to False in version 0.22 and will be removed in 0.24. This will change numeric results when test-set sizes are unequal.\n",
      "  DeprecationWarning)\n"
     ]
    },
    {
     "name": "stdout",
     "output_type": "stream",
     "text": [
      "[[18 13]\n",
      " [ 2 87]]\n",
      "Rodada: 11\n",
      "Parâmetros: {'n_neighbors': 3, 'p': 2}\n",
      "Accuracy: 0.875\n",
      "Precision: 0.87\n",
      "Recall: 0.9775280898876404\n",
      "F1-Score: 0.9206349206349206\n",
      "\n",
      "\n",
      "[[24 12]\n",
      " [ 5 79]]\n",
      "Rodada: 12\n",
      "Parâmetros: {'n_neighbors': 1, 'p': 2}\n",
      "Accuracy: 0.8583333333333333\n",
      "Precision: 0.8681318681318682\n",
      "Recall: 0.9404761904761905\n",
      "F1-Score: 0.9028571428571429\n",
      "\n",
      "\n"
     ]
    },
    {
     "name": "stderr",
     "output_type": "stream",
     "text": [
      "C:\\Users\\Eduardo Valente\\Anaconda3\\lib\\site-packages\\sklearn\\model_selection\\_search.py:813: DeprecationWarning: The default of the `iid` parameter will change from True to False in version 0.22 and will be removed in 0.24. This will change numeric results when test-set sizes are unequal.\n",
      "  DeprecationWarning)\n"
     ]
    },
    {
     "name": "stdout",
     "output_type": "stream",
     "text": [
      "[[24  9]\n",
      " [ 3 84]]\n",
      "Rodada: 13\n",
      "Parâmetros: {'n_neighbors': 5, 'p': 1}\n",
      "Accuracy: 0.9\n",
      "Precision: 0.9032258064516129\n",
      "Recall: 0.9655172413793104\n",
      "F1-Score: 0.9333333333333333\n",
      "\n",
      "\n"
     ]
    },
    {
     "name": "stderr",
     "output_type": "stream",
     "text": [
      "C:\\Users\\Eduardo Valente\\Anaconda3\\lib\\site-packages\\sklearn\\model_selection\\_search.py:813: DeprecationWarning: The default of the `iid` parameter will change from True to False in version 0.22 and will be removed in 0.24. This will change numeric results when test-set sizes are unequal.\n",
      "  DeprecationWarning)\n"
     ]
    },
    {
     "name": "stdout",
     "output_type": "stream",
     "text": [
      "[[25  4]\n",
      " [ 7 84]]\n",
      "Rodada: 14\n",
      "Parâmetros: {'n_neighbors': 1, 'p': 1}\n",
      "Accuracy: 0.9083333333333333\n",
      "Precision: 0.9545454545454546\n",
      "Recall: 0.9230769230769231\n",
      "F1-Score: 0.9385474860335197\n",
      "\n",
      "\n",
      "[[25 10]\n",
      " [ 2 83]]\n",
      "Rodada: 15\n",
      "Parâmetros: {'n_neighbors': 5, 'p': 2}\n",
      "Accuracy: 0.9\n",
      "Precision: 0.8924731182795699\n",
      "Recall: 0.9764705882352941\n",
      "F1-Score: 0.9325842696629214\n",
      "\n",
      "\n",
      "[[26  5]\n",
      " [ 7 82]]\n",
      "Rodada: 16\n",
      "Parâmetros: {'n_neighbors': 1, 'p': 2}\n",
      "Accuracy: 0.9\n",
      "Precision: 0.9425287356321839\n",
      "Recall: 0.9213483146067416\n",
      "F1-Score: 0.9318181818181818\n",
      "\n",
      "\n"
     ]
    },
    {
     "name": "stderr",
     "output_type": "stream",
     "text": [
      "C:\\Users\\Eduardo Valente\\Anaconda3\\lib\\site-packages\\sklearn\\model_selection\\_search.py:813: DeprecationWarning: The default of the `iid` parameter will change from True to False in version 0.22 and will be removed in 0.24. This will change numeric results when test-set sizes are unequal.\n",
      "  DeprecationWarning)\n"
     ]
    },
    {
     "name": "stdout",
     "output_type": "stream",
     "text": [
      "[[29  4]\n",
      " [ 2 85]]\n",
      "Rodada: 17\n",
      "Parâmetros: {'n_neighbors': 1, 'p': 2}\n",
      "Accuracy: 0.95\n",
      "Precision: 0.9550561797752809\n",
      "Recall: 0.9770114942528736\n",
      "F1-Score: 0.9659090909090908\n",
      "\n",
      "\n"
     ]
    },
    {
     "name": "stderr",
     "output_type": "stream",
     "text": [
      "C:\\Users\\Eduardo Valente\\Anaconda3\\lib\\site-packages\\sklearn\\model_selection\\_search.py:813: DeprecationWarning: The default of the `iid` parameter will change from True to False in version 0.22 and will be removed in 0.24. This will change numeric results when test-set sizes are unequal.\n",
      "  DeprecationWarning)\n"
     ]
    },
    {
     "name": "stdout",
     "output_type": "stream",
     "text": [
      "[[18 10]\n",
      " [ 4 88]]\n",
      "Rodada: 18\n",
      "Parâmetros: {'n_neighbors': 3, 'p': 2}\n",
      "Accuracy: 0.8833333333333333\n",
      "Precision: 0.8979591836734694\n",
      "Recall: 0.9565217391304348\n",
      "F1-Score: 0.9263157894736843\n",
      "\n",
      "\n",
      "[[28  7]\n",
      " [ 7 78]]\n",
      "Rodada: 19\n",
      "Parâmetros: {'n_neighbors': 3, 'p': 1}\n",
      "Accuracy: 0.8833333333333333\n",
      "Precision: 0.9176470588235294\n",
      "Recall: 0.9176470588235294\n",
      "F1-Score: 0.9176470588235294\n",
      "\n",
      "\n",
      "[[12 12]\n",
      " [ 4 92]]\n",
      "Rodada: 20\n",
      "Parâmetros: {'n_neighbors': 7, 'p': 2}\n",
      "Accuracy: 0.8666666666666667\n",
      "Precision: 0.8846153846153846\n",
      "Recall: 0.9583333333333334\n",
      "F1-Score: 0.9199999999999999\n",
      "\n",
      "\n",
      "[[18 11]\n",
      " [ 2 89]]\n",
      "Rodada: 21\n",
      "Parâmetros: {'n_neighbors': 5, 'p': 1}\n",
      "Accuracy: 0.8916666666666667\n",
      "Precision: 0.89\n",
      "Recall: 0.978021978021978\n",
      "F1-Score: 0.9319371727748691\n",
      "\n",
      "\n",
      "[[15  3]\n",
      " [ 9 93]]\n",
      "Rodada: 22\n",
      "Parâmetros: {'n_neighbors': 1, 'p': 2}\n",
      "Accuracy: 0.9\n",
      "Precision: 0.96875\n",
      "Recall: 0.9117647058823529\n",
      "F1-Score: 0.9393939393939394\n",
      "\n",
      "\n",
      "[[19 14]\n",
      " [ 6 81]]\n",
      "Rodada: 23\n",
      "Parâmetros: {'n_neighbors': 3, 'p': 1}\n",
      "Accuracy: 0.8333333333333334\n",
      "Precision: 0.8526315789473684\n",
      "Recall: 0.9310344827586207\n",
      "F1-Score: 0.8901098901098902\n",
      "\n",
      "\n"
     ]
    },
    {
     "name": "stderr",
     "output_type": "stream",
     "text": [
      "C:\\Users\\Eduardo Valente\\Anaconda3\\lib\\site-packages\\sklearn\\model_selection\\_search.py:813: DeprecationWarning: The default of the `iid` parameter will change from True to False in version 0.22 and will be removed in 0.24. This will change numeric results when test-set sizes are unequal.\n",
      "  DeprecationWarning)\n"
     ]
    },
    {
     "name": "stdout",
     "output_type": "stream",
     "text": [
      "[[28 10]\n",
      " [ 5 77]]\n",
      "Rodada: 24\n",
      "Parâmetros: {'n_neighbors': 1, 'p': 2}\n",
      "Accuracy: 0.875\n",
      "Precision: 0.8850574712643678\n",
      "Recall: 0.9390243902439024\n",
      "F1-Score: 0.911242603550296\n",
      "\n",
      "\n",
      "[[23  6]\n",
      " [ 7 84]]\n",
      "Rodada: 25\n",
      "Parâmetros: {'n_neighbors': 7, 'p': 1}\n",
      "Accuracy: 0.8916666666666667\n",
      "Precision: 0.9333333333333333\n",
      "Recall: 0.9230769230769231\n",
      "F1-Score: 0.9281767955801106\n",
      "\n",
      "\n",
      "[[19  7]\n",
      " [ 4 90]]\n",
      "Rodada: 26\n",
      "Parâmetros: {'n_neighbors': 11, 'p': 1}\n",
      "Accuracy: 0.9083333333333333\n",
      "Precision: 0.9278350515463918\n",
      "Recall: 0.9574468085106383\n",
      "F1-Score: 0.9424083769633509\n",
      "\n",
      "\n"
     ]
    },
    {
     "name": "stderr",
     "output_type": "stream",
     "text": [
      "C:\\Users\\Eduardo Valente\\Anaconda3\\lib\\site-packages\\sklearn\\model_selection\\_search.py:813: DeprecationWarning: The default of the `iid` parameter will change from True to False in version 0.22 and will be removed in 0.24. This will change numeric results when test-set sizes are unequal.\n",
      "  DeprecationWarning)\n"
     ]
    },
    {
     "name": "stdout",
     "output_type": "stream",
     "text": [
      "[[21 11]\n",
      " [ 5 83]]\n",
      "Rodada: 27\n",
      "Parâmetros: {'n_neighbors': 3, 'p': 1}\n",
      "Accuracy: 0.8666666666666667\n",
      "Precision: 0.8829787234042553\n",
      "Recall: 0.9431818181818182\n",
      "F1-Score: 0.9120879120879122\n",
      "\n",
      "\n",
      "[[20  5]\n",
      " [ 6 89]]\n",
      "Rodada: 28\n",
      "Parâmetros: {'n_neighbors': 5, 'p': 1}\n",
      "Accuracy: 0.9083333333333333\n",
      "Precision: 0.9468085106382979\n",
      "Recall: 0.9368421052631579\n",
      "F1-Score: 0.9417989417989417\n",
      "\n",
      "\n",
      "[[23 11]\n",
      " [ 6 80]]\n",
      "Rodada: 29\n",
      "Parâmetros: {'n_neighbors': 11, 'p': 2}\n",
      "Accuracy: 0.8583333333333333\n",
      "Precision: 0.8791208791208791\n",
      "Recall: 0.9302325581395349\n",
      "F1-Score: 0.9039548022598871\n",
      "\n",
      "\n",
      "[[17 13]\n",
      " [ 1 89]]\n",
      "Rodada: 30\n",
      "Parâmetros: {'n_neighbors': 5, 'p': 1}\n",
      "Accuracy: 0.8833333333333333\n",
      "Precision: 0.8725490196078431\n",
      "Recall: 0.9888888888888889\n",
      "F1-Score: 0.9270833333333334\n",
      "\n",
      "\n"
     ]
    },
    {
     "name": "stderr",
     "output_type": "stream",
     "text": [
      "C:\\Users\\Eduardo Valente\\Anaconda3\\lib\\site-packages\\sklearn\\model_selection\\_search.py:813: DeprecationWarning: The default of the `iid` parameter will change from True to False in version 0.22 and will be removed in 0.24. This will change numeric results when test-set sizes are unequal.\n",
      "  DeprecationWarning)\n"
     ]
    },
    {
     "name": "stdout",
     "output_type": "stream",
     "text": [
      "[[20  8]\n",
      " [ 5 87]]\n",
      "Rodada: 31\n",
      "Parâmetros: {'n_neighbors': 4, 'p': 2}\n",
      "Accuracy: 0.8916666666666667\n",
      "Precision: 0.9157894736842105\n",
      "Recall: 0.9456521739130435\n",
      "F1-Score: 0.9304812834224598\n",
      "\n",
      "\n",
      "[[21  7]\n",
      " [ 1 91]]\n",
      "Rodada: 32\n",
      "Parâmetros: {'n_neighbors': 9, 'p': 2}\n",
      "Accuracy: 0.9333333333333333\n",
      "Precision: 0.9285714285714286\n",
      "Recall: 0.9891304347826086\n",
      "F1-Score: 0.9578947368421052\n",
      "\n",
      "\n",
      "[[28 10]\n",
      " [ 1 81]]\n",
      "Rodada: 33\n",
      "Parâmetros: {'n_neighbors': 7, 'p': 1}\n",
      "Accuracy: 0.9083333333333333\n",
      "Precision: 0.8901098901098901\n",
      "Recall: 0.9878048780487805\n",
      "F1-Score: 0.9364161849710982\n",
      "\n",
      "\n",
      "[[22  8]\n",
      " [ 2 88]]\n",
      "Rodada: 34\n",
      "Parâmetros: {'n_neighbors': 7, 'p': 1}\n",
      "Accuracy: 0.9166666666666666\n",
      "Precision: 0.9166666666666666\n",
      "Recall: 0.9777777777777777\n",
      "F1-Score: 0.946236559139785\n",
      "\n",
      "\n",
      "[[19  8]\n",
      " [ 7 86]]\n",
      "Rodada: 35\n",
      "Parâmetros: {'n_neighbors': 1, 'p': 1}\n",
      "Accuracy: 0.875\n",
      "Precision: 0.9148936170212766\n",
      "Recall: 0.9247311827956989\n",
      "F1-Score: 0.9197860962566845\n",
      "\n",
      "\n",
      "[[17 11]\n",
      " [ 5 87]]\n",
      "Rodada: 36\n",
      "Parâmetros: {'n_neighbors': 1, 'p': 2}\n",
      "Accuracy: 0.8666666666666667\n",
      "Precision: 0.8877551020408163\n",
      "Recall: 0.9456521739130435\n",
      "F1-Score: 0.9157894736842105\n",
      "\n",
      "\n",
      "[[22  5]\n",
      " [ 1 92]]\n",
      "Rodada: 37\n",
      "Parâmetros: {'n_neighbors': 7, 'p': 1}\n",
      "Accuracy: 0.95\n",
      "Precision: 0.9484536082474226\n",
      "Recall: 0.989247311827957\n",
      "F1-Score: 0.968421052631579\n",
      "\n",
      "\n",
      "[[23  8]\n",
      " [ 2 87]]\n",
      "Rodada: 38\n",
      "Parâmetros: {'n_neighbors': 1, 'p': 1}\n",
      "Accuracy: 0.9166666666666666\n",
      "Precision: 0.9157894736842105\n",
      "Recall: 0.9775280898876404\n",
      "F1-Score: 0.9456521739130435\n",
      "\n",
      "\n",
      "[[24  2]\n",
      " [ 3 91]]\n",
      "Rodada: 39\n",
      "Parâmetros: {'n_neighbors': 3, 'p': 1}\n",
      "Accuracy: 0.9583333333333334\n",
      "Precision: 0.978494623655914\n",
      "Recall: 0.9680851063829787\n",
      "F1-Score: 0.9732620320855615\n",
      "\n",
      "\n",
      "[[23  8]\n",
      " [ 6 83]]\n",
      "Rodada: 40\n",
      "Parâmetros: {'n_neighbors': 8, 'p': 1}\n",
      "Accuracy: 0.8833333333333333\n",
      "Precision: 0.9120879120879121\n",
      "Recall: 0.9325842696629213\n",
      "F1-Score: 0.9222222222222223\n",
      "\n",
      "\n"
     ]
    },
    {
     "name": "stderr",
     "output_type": "stream",
     "text": [
      "C:\\Users\\Eduardo Valente\\Anaconda3\\lib\\site-packages\\sklearn\\model_selection\\_search.py:813: DeprecationWarning: The default of the `iid` parameter will change from True to False in version 0.22 and will be removed in 0.24. This will change numeric results when test-set sizes are unequal.\n",
      "  DeprecationWarning)\n"
     ]
    },
    {
     "name": "stdout",
     "output_type": "stream",
     "text": [
      "[[28  4]\n",
      " [ 5 83]]\n",
      "Rodada: 41\n",
      "Parâmetros: {'n_neighbors': 1, 'p': 1}\n",
      "Accuracy: 0.925\n",
      "Precision: 0.9540229885057471\n",
      "Recall: 0.9431818181818182\n",
      "F1-Score: 0.9485714285714286\n",
      "\n",
      "\n",
      "[[18 12]\n",
      " [ 0 90]]\n",
      "Rodada: 42\n",
      "Parâmetros: {'n_neighbors': 9, 'p': 1}\n",
      "Accuracy: 0.9\n",
      "Precision: 0.8823529411764706\n",
      "Recall: 1.0\n",
      "F1-Score: 0.9375\n",
      "\n",
      "\n",
      "[[18  7]\n",
      " [ 4 91]]\n",
      "Rodada: 43\n",
      "Parâmetros: {'n_neighbors': 7, 'p': 2}\n",
      "Accuracy: 0.9083333333333333\n",
      "Precision: 0.9285714285714286\n",
      "Recall: 0.9578947368421052\n",
      "F1-Score: 0.9430051813471502\n",
      "\n",
      "\n",
      "[[24  9]\n",
      " [ 6 81]]\n",
      "Rodada: 44\n",
      "Parâmetros: {'n_neighbors': 3, 'p': 1}\n",
      "Accuracy: 0.875\n",
      "Precision: 0.9\n",
      "Recall: 0.9310344827586207\n",
      "F1-Score: 0.9152542372881356\n",
      "\n",
      "\n"
     ]
    },
    {
     "name": "stderr",
     "output_type": "stream",
     "text": [
      "C:\\Users\\Eduardo Valente\\Anaconda3\\lib\\site-packages\\sklearn\\model_selection\\_search.py:813: DeprecationWarning: The default of the `iid` parameter will change from True to False in version 0.22 and will be removed in 0.24. This will change numeric results when test-set sizes are unequal.\n",
      "  DeprecationWarning)\n"
     ]
    },
    {
     "name": "stdout",
     "output_type": "stream",
     "text": [
      "[[20 13]\n",
      " [ 1 86]]\n",
      "Rodada: 45\n",
      "Parâmetros: {'n_neighbors': 3, 'p': 1}\n",
      "Accuracy: 0.8833333333333333\n",
      "Precision: 0.8686868686868687\n",
      "Recall: 0.9885057471264368\n",
      "F1-Score: 0.9247311827956989\n",
      "\n",
      "\n",
      "[[20  5]\n",
      " [ 4 91]]\n",
      "Rodada: 46\n",
      "Parâmetros: {'n_neighbors': 5, 'p': 1}\n",
      "Accuracy: 0.925\n",
      "Precision: 0.9479166666666666\n",
      "Recall: 0.9578947368421052\n",
      "F1-Score: 0.9528795811518324\n",
      "\n",
      "\n"
     ]
    },
    {
     "name": "stderr",
     "output_type": "stream",
     "text": [
      "C:\\Users\\Eduardo Valente\\Anaconda3\\lib\\site-packages\\sklearn\\model_selection\\_search.py:813: DeprecationWarning: The default of the `iid` parameter will change from True to False in version 0.22 and will be removed in 0.24. This will change numeric results when test-set sizes are unequal.\n",
      "  DeprecationWarning)\n"
     ]
    },
    {
     "name": "stdout",
     "output_type": "stream",
     "text": [
      "[[16  8]\n",
      " [ 3 93]]\n",
      "Rodada: 47\n",
      "Parâmetros: {'n_neighbors': 6, 'p': 2}\n",
      "Accuracy: 0.9083333333333333\n",
      "Precision: 0.9207920792079208\n",
      "Recall: 0.96875\n",
      "F1-Score: 0.9441624365482234\n",
      "\n",
      "\n"
     ]
    },
    {
     "name": "stderr",
     "output_type": "stream",
     "text": [
      "C:\\Users\\Eduardo Valente\\Anaconda3\\lib\\site-packages\\sklearn\\model_selection\\_search.py:813: DeprecationWarning: The default of the `iid` parameter will change from True to False in version 0.22 and will be removed in 0.24. This will change numeric results when test-set sizes are unequal.\n",
      "  DeprecationWarning)\n"
     ]
    },
    {
     "name": "stdout",
     "output_type": "stream",
     "text": [
      "[[23  8]\n",
      " [ 3 86]]\n",
      "Rodada: 48\n",
      "Parâmetros: {'n_neighbors': 7, 'p': 1}\n",
      "Accuracy: 0.9083333333333333\n",
      "Precision: 0.9148936170212766\n",
      "Recall: 0.9662921348314607\n",
      "F1-Score: 0.9398907103825136\n",
      "\n",
      "\n",
      "[[23 11]\n",
      " [ 1 85]]\n",
      "Rodada: 49\n",
      "Parâmetros: {'n_neighbors': 7, 'p': 2}\n",
      "Accuracy: 0.9\n",
      "Precision: 0.8854166666666666\n",
      "Recall: 0.9883720930232558\n",
      "F1-Score: 0.9340659340659341\n",
      "\n",
      "\n",
      "============================================== KNN =================================================\n",
      "=================================== RESULTADOS DAS MÉTRICAS DO MODELO ==============================\n",
      "\t Accuracy \t|\t Precision \t|\t Recall \t|\t F1-Score\n",
      "      0.90 +- 0.03             0.91 +- 0.03          0.95 +- 0.02             0.93 +- 0.02\n",
      "\n",
      "=================================== MELHORES RESULTADOS ============================================\n",
      "Accuracy\n",
      "Rodada: 39  | Parâmetro: {'n_neighbors': 3, 'p': 1}  | Resultado: 0.9583333333333334\n",
      "Matriz de Confusão:\n"
     ]
    },
    {
     "data": {
      "image/png": "[encoded data removed]",
      "text/plain": [
       "<Figure size 432x288 with 2 Axes>"
      ]
     },
     "metadata": {
      "needs_background": "light"
     },
     "output_type": "display_data"
    },
    {
     "name": "stdout",
     "output_type": "stream",
     "text": [
      "\n",
      "Precision\n",
      "Rodada: 39  | Parâmetro: {'n_neighbors': 3, 'p': 1}  | Resultado: 0.978494623655914\n",
      "Matriz de Confusão:\n"
     ]
    },
    {
     "data": {
      "image/png": "[encoded data removed]",
      "text/plain": [
       "<Figure size 432x288 with 2 Axes>"
      ]
     },
     "metadata": {
      "needs_background": "light"
     },
     "output_type": "display_data"
    },
    {
     "name": "stdout",
     "output_type": "stream",
     "text": [
      "\n",
      "Recall:\n",
      "Rodada: 42  | Parâmetro: {'n_neighbors': 9, 'p': 1}  | Resultado: 1.0\n",
      "Matriz de Confusão:\n",
      "\n"
     ]
    },
    {
     "data": {
      "image/png": "[encoded data removed]",
      "text/plain": [
       "<Figure size 432x288 with 2 Axes>"
      ]
     },
     "metadata": {
      "needs_background": "light"
     },
     "output_type": "display_data"
    },
    {
     "name": "stdout",
     "output_type": "stream",
     "text": [
      "F1-Score:\n",
      "Rodada: 39  | Parâmetro: {'n_neighbors': 3, 'p': 1}  | Resultado: 0.9732620320855615\n",
      "[[24  2]\n",
      " [ 3 91]]\n"
     ]
    },
    {
     "data": {
      "image/png": "[encoded data removed]",
      "text/plain": [
       "<Figure size 432x288 with 2 Axes>"
      ]
     },
     "metadata": {
      "needs_background": "light"
     },
     "output_type": "display_data"
    },
    {
     "name": "stdout",
     "output_type": "stream",
     "text": [
      "===================================================================================================\n"
     ]
    }
   ],
   "source": [
    "# treinando o modelo\n",
    "dict_metricas = treinamento_teste(epocas, k_folds, exibir_matriz_confusao, exibir_metricas)\n",
    "tabelaMetricas('KNN',dict_metricas)"
   ]
  },
  {
   "cell_type": "code",
   "execution_count": null,
   "metadata": {},
   "outputs": [],
   "source": []
  }
 ],
 "metadata": {
  "kernelspec": {
   "display_name": "Python 3",
   "language": "python",
   "name": "python3"
  },
  "language_info": {
   "codemirror_mode": {
    "name": "ipython",
    "version": 3
   },
   "file_extension": ".py",
   "mimetype": "text/x-python",
   "name": "python",
   "nbconvert_exporter": "python",
   "pygments_lexer": "ipython3",
   "version": "3.7.4"
  }
 },
 "nbformat": 4,
 "nbformat_minor": 4
}
