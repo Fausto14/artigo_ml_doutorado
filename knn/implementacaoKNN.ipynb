{
 "cells": [
  {
   "cell_type": "markdown",
   "metadata": {},
   "source": [
    "# Importando as bibliotecas"
   ]
  },
  {
   "cell_type": "code",
   "execution_count": 1,
   "metadata": {},
   "outputs": [],
   "source": [
    "from sklearn.neighbors import KNeighborsClassifier\n",
    "from sklearn.model_selection import GridSearchCV\n",
    "from sklearn import metrics\n",
    "from sklearn.metrics import confusion_matrix\n",
    "import pandas as pd\n",
    "import numpy as np\n",
    "from collections import Counter\n",
    "import os\n",
    "import sys\n",
    "sys.path.insert(0, os.path.abspath('../Util'))\n",
    "from dados import ProcessarDados"
   ]
  },
  {
   "cell_type": "code",
   "execution_count": 2,
   "metadata": {},
   "outputs": [],
   "source": [
    "# Dataset"
   ]
  },
  {
   "cell_type": "code",
   "execution_count": 3,
   "metadata": {},
   "outputs": [],
   "source": [
    "procData = ProcessarDados(\"../dataset/norm_bin_10_FEATURES_M17_CM6b_TH199.csv\")"
   ]
  },
  {
   "cell_type": "code",
   "execution_count": 4,
   "metadata": {},
   "outputs": [
    {
     "data": {
      "text/plain": [
       "<dados.ProcessarDados at 0x589dc90>"
      ]
     },
     "execution_count": 4,
     "metadata": {},
     "output_type": "execute_result"
    }
   ],
   "source": [
    "procData"
   ]
  },
  {
   "cell_type": "code",
   "execution_count": 5,
   "metadata": {},
   "outputs": [],
   "source": [
    "# Funções"
   ]
  },
  {
   "cell_type": "code",
   "execution_count": 6,
   "metadata": {},
   "outputs": [],
   "source": [
    "# funcção que treina e testa o modelo armazenando as métricas\n",
    "# retorna um dicionário cotendo os valores das métricas de cada rodada\n",
    "def treinamento_teste(epocas = 10, k_folds = 5, exibir_matriz_confusao=False, exibir_metricas=False):\n",
    "    \n",
    "    #array para armazenar as das métricas de cada rodada\n",
    "    resultados_accuracy = []\n",
    "    resultados_precision = []\n",
    "    resultados_recall = []\n",
    "    resultados_f1 = []\n",
    "    resultados_parametros = []\n",
    "    \n",
    "    #dicionário das métricas\n",
    "    resultados_gerais = {}\n",
    "\n",
    "    for i in range(epocas):\n",
    "        # divisão os dados \n",
    "        X_train, X_test, y_train, y_test = procData.holdout(0.2)\n",
    "        #print(Counter(y_test))\n",
    "\n",
    "        # realizando o grid search para encontrar a melhor K-Vizinhos, \n",
    "        # considerando a acurácia (taxa de acerto)\n",
    "        # aqui o método GridSearchCV é configurado para subdividir os dados de treino em k_folds\n",
    "        clf = KNeighborsClassifier()\n",
    "        grid_knn = GridSearchCV(clf, param_grid, cv=k_folds, scoring='accuracy')\n",
    "        grid_knn.fit(X_train, y_train)\n",
    "        \n",
    "        # Treinando do modelo com os melhores parametros encontrados\n",
    "        grid_knn.best_params_\n",
    "        Kvizinhos_best = int(grid_knn.best_params_['n_neighbors']) \n",
    "        \n",
    "        KNN = KNeighborsClassifier(n_neighbors=Kvizinhos_best, metric='minkowski', p = 2)\n",
    "        KNN.fit(X_train, y_train)\n",
    "\n",
    "        #testando o modelo\n",
    "        y_pred = KNN.predict(X_test)\n",
    "        if exibir_matriz_confusao:\n",
    "            print(confusion_matrix(y_test, y_pred))\n",
    "\n",
    "        # calculado as metricas\n",
    "        accuracy = metrics.accuracy_score(y_test, y_pred)\n",
    "        precision = metrics.precision_score(y_test, y_pred)\n",
    "        recall = metrics.recall_score(y_test, y_pred)\n",
    "        f1_score = 2 * (precision * recall) / (precision + recall)\n",
    "\n",
    "        # armazenando as métricas\n",
    "        resultados_accuracy.append(accuracy)\n",
    "        resultados_precision.append(precision)\n",
    "        resultados_recall.append(recall)\n",
    "        resultados_f1.append(f1_score)\n",
    "\n",
    "        best_parametros = \"K-Vizinhos: \"+ str(Kvizinhos_best);\n",
    "        resultados_parametros.append(best_parametros)\n",
    "\n",
    "\n",
    "        if exibir_metricas:\n",
    "            print(\"Rodada: #\",i)\n",
    "            print(best_parametros)\n",
    "            print(\"Accuracy:\",accuracy)\n",
    "            print(\"Precision:\",precision)\n",
    "            print(\"Recall:\",recall)\n",
    "            print(\"F1-Score:\",f1_score)\n",
    "            print(\"\\n\")\n",
    "\n",
    "            \n",
    "    resultados_gerais['accuracy'] = resultados_accuracy\n",
    "    resultados_gerais['precision'] = resultados_precision\n",
    "    resultados_gerais['recall'] = resultados_recall\n",
    "    resultados_gerais['f1'] = resultados_f1\n",
    "    \n",
    "    return resultados_gerais"
   ]
  },
  {
   "cell_type": "code",
   "execution_count": 7,
   "metadata": {},
   "outputs": [],
   "source": [
    "def tabelaMetricas(nome_modelo, dict_metricas, rodadas=False):\n",
    "    print (\"============================================== \"+nome_modelo+\" =================================================\")\n",
    "    print (\"=================================== TABELA DE MÉTRICAS DO MODELO ===================================\")\n",
    "    \n",
    "    if(rodadas==False):\n",
    "        print (\"\\t Accuracy \\t|\\t Precision \\t|\\t Recall \\t|\\t F1-Score\")\n",
    "        print (\"      %.2f +- %.2f\" % (np.mean(dict_metricas['accuracy'], axis=0), np.std(dict_metricas['accuracy'], axis=0)),end='       ')\n",
    "        print (\"      %.2f +- %.2f\" % (np.mean(dict_metricas['precision'], axis=0), np.std(dict_metricas['precision'], axis=0)),end='    ')\n",
    "        print (\"      %.2f +- %.2f\" % (np.mean(dict_metricas['recall'], axis=0), np.std(dict_metricas['recall'], axis=0)),end='       ')\n",
    "        print (\"      %.2f +- %.2f\" % (np.mean(dict_metricas['f1'], axis=0), np.std(dict_metricas['f1'], axis=0)))\n",
    "        print (\"====================================================================================================\")"
   ]
  },
  {
   "cell_type": "markdown",
   "metadata": {},
   "source": [
    "# Definindo os parâmetros"
   ]
  },
  {
   "cell_type": "code",
   "execution_count": 8,
   "metadata": {},
   "outputs": [],
   "source": [
    "c_range = np.arange(1,25)\n",
    "param_grid = {'n_neighbors': c_range}\n",
    "epocas = 50\n",
    "k_folds = 5\n",
    "exibir_matriz_confusao = True\n",
    "exibir_metricas = True\n"
   ]
  },
  {
   "cell_type": "code",
   "execution_count": null,
   "metadata": {},
   "outputs": [],
   "source": []
  },
  {
   "cell_type": "markdown",
   "metadata": {},
   "source": [
    "# Treinando e obtendo as métricas do modelo"
   ]
  },
  {
   "cell_type": "code",
   "execution_count": 9,
   "metadata": {},
   "outputs": [
    {
     "name": "stdout",
     "output_type": "stream",
     "text": [
      "[[27  8]\n",
      " [ 3 82]]\n",
      "Rodada: # 0\n",
      "K-Vizinhos: 9\n",
      "Accuracy: 0.9083333333333333\n",
      "Precision: 0.9111111111111111\n",
      "Recall: 0.9647058823529412\n",
      "F1-Score: 0.9371428571428572\n",
      "\n",
      "\n",
      "[[20  6]\n",
      " [ 8 86]]\n",
      "Rodada: # 1\n",
      "K-Vizinhos: 1\n",
      "Accuracy: 0.8833333333333333\n",
      "Precision: 0.9347826086956522\n",
      "Recall: 0.9148936170212766\n",
      "F1-Score: 0.924731182795699\n",
      "\n",
      "\n"
     ]
    },
    {
     "name": "stderr",
     "output_type": "stream",
     "text": [
      "C:\\Users\\Eduardo Valente\\Anaconda3\\lib\\site-packages\\sklearn\\model_selection\\_search.py:813: DeprecationWarning: The default of the `iid` parameter will change from True to False in version 0.22 and will be removed in 0.24. This will change numeric results when test-set sizes are unequal.\n",
      "  DeprecationWarning)\n"
     ]
    },
    {
     "name": "stdout",
     "output_type": "stream",
     "text": [
      "[[24  9]\n",
      " [ 7 80]]\n",
      "Rodada: # 2\n",
      "K-Vizinhos: 5\n",
      "Accuracy: 0.8666666666666667\n",
      "Precision: 0.898876404494382\n",
      "Recall: 0.9195402298850575\n",
      "F1-Score: 0.9090909090909091\n",
      "\n",
      "\n",
      "[[24  6]\n",
      " [ 1 89]]\n",
      "Rodada: # 3\n",
      "K-Vizinhos: 3\n",
      "Accuracy: 0.9416666666666667\n",
      "Precision: 0.9368421052631579\n",
      "Recall: 0.9888888888888889\n",
      "F1-Score: 0.9621621621621621\n",
      "\n",
      "\n",
      "[[19  8]\n",
      " [ 7 86]]\n",
      "Rodada: # 4\n",
      "K-Vizinhos: 1\n",
      "Accuracy: 0.875\n",
      "Precision: 0.9148936170212766\n",
      "Recall: 0.9247311827956989\n",
      "F1-Score: 0.9197860962566845\n",
      "\n",
      "\n"
     ]
    },
    {
     "name": "stderr",
     "output_type": "stream",
     "text": [
      "C:\\Users\\Eduardo Valente\\Anaconda3\\lib\\site-packages\\sklearn\\model_selection\\_search.py:813: DeprecationWarning: The default of the `iid` parameter will change from True to False in version 0.22 and will be removed in 0.24. This will change numeric results when test-set sizes are unequal.\n",
      "  DeprecationWarning)\n"
     ]
    },
    {
     "name": "stdout",
     "output_type": "stream",
     "text": [
      "[[17  9]\n",
      " [ 3 91]]\n",
      "Rodada: # 5\n",
      "K-Vizinhos: 3\n",
      "Accuracy: 0.9\n",
      "Precision: 0.91\n",
      "Recall: 0.9680851063829787\n",
      "F1-Score: 0.9381443298969071\n",
      "\n",
      "\n"
     ]
    },
    {
     "name": "stderr",
     "output_type": "stream",
     "text": [
      "C:\\Users\\Eduardo Valente\\Anaconda3\\lib\\site-packages\\sklearn\\model_selection\\_search.py:813: DeprecationWarning: The default of the `iid` parameter will change from True to False in version 0.22 and will be removed in 0.24. This will change numeric results when test-set sizes are unequal.\n",
      "  DeprecationWarning)\n"
     ]
    },
    {
     "name": "stdout",
     "output_type": "stream",
     "text": [
      "[[24  3]\n",
      " [ 6 87]]\n",
      "Rodada: # 6\n",
      "K-Vizinhos: 1\n",
      "Accuracy: 0.925\n",
      "Precision: 0.9666666666666667\n",
      "Recall: 0.9354838709677419\n",
      "F1-Score: 0.9508196721311476\n",
      "\n",
      "\n",
      "[[18 11]\n",
      " [ 2 89]]\n",
      "Rodada: # 7\n",
      "K-Vizinhos: 5\n",
      "Accuracy: 0.8916666666666667\n",
      "Precision: 0.89\n",
      "Recall: 0.978021978021978\n",
      "F1-Score: 0.9319371727748691\n",
      "\n",
      "\n",
      "[[20  9]\n",
      " [ 9 82]]\n",
      "Rodada: # 8\n",
      "K-Vizinhos: 3\n",
      "Accuracy: 0.85\n",
      "Precision: 0.9010989010989011\n",
      "Recall: 0.9010989010989011\n",
      "F1-Score: 0.9010989010989011\n",
      "\n",
      "\n"
     ]
    },
    {
     "name": "stderr",
     "output_type": "stream",
     "text": [
      "C:\\Users\\Eduardo Valente\\Anaconda3\\lib\\site-packages\\sklearn\\model_selection\\_search.py:813: DeprecationWarning: The default of the `iid` parameter will change from True to False in version 0.22 and will be removed in 0.24. This will change numeric results when test-set sizes are unequal.\n",
      "  DeprecationWarning)\n"
     ]
    },
    {
     "name": "stdout",
     "output_type": "stream",
     "text": [
      "[[20 13]\n",
      " [ 5 82]]\n",
      "Rodada: # 9\n",
      "K-Vizinhos: 3\n",
      "Accuracy: 0.85\n",
      "Precision: 0.8631578947368421\n",
      "Recall: 0.9425287356321839\n",
      "F1-Score: 0.901098901098901\n",
      "\n",
      "\n",
      "[[26 10]\n",
      " [ 7 77]]\n",
      "Rodada: # 10\n",
      "K-Vizinhos: 1\n",
      "Accuracy: 0.8583333333333333\n",
      "Precision: 0.8850574712643678\n",
      "Recall: 0.9166666666666666\n",
      "F1-Score: 0.9005847953216374\n",
      "\n",
      "\n"
     ]
    },
    {
     "name": "stderr",
     "output_type": "stream",
     "text": [
      "C:\\Users\\Eduardo Valente\\Anaconda3\\lib\\site-packages\\sklearn\\model_selection\\_search.py:813: DeprecationWarning: The default of the `iid` parameter will change from True to False in version 0.22 and will be removed in 0.24. This will change numeric results when test-set sizes are unequal.\n",
      "  DeprecationWarning)\n"
     ]
    },
    {
     "name": "stdout",
     "output_type": "stream",
     "text": [
      "[[14  9]\n",
      " [ 7 90]]\n",
      "Rodada: # 11\n",
      "K-Vizinhos: 10\n",
      "Accuracy: 0.8666666666666667\n",
      "Precision: 0.9090909090909091\n",
      "Recall: 0.9278350515463918\n",
      "F1-Score: 0.9183673469387756\n",
      "\n",
      "\n",
      "[[20  6]\n",
      " [12 82]]\n",
      "Rodada: # 12\n",
      "K-Vizinhos: 1\n",
      "Accuracy: 0.85\n",
      "Precision: 0.9318181818181818\n",
      "Recall: 0.8723404255319149\n",
      "F1-Score: 0.9010989010989012\n",
      "\n",
      "\n",
      "[[26  9]\n",
      " [ 7 78]]\n",
      "Rodada: # 13\n",
      "K-Vizinhos: 5\n",
      "Accuracy: 0.8666666666666667\n",
      "Precision: 0.896551724137931\n",
      "Recall: 0.9176470588235294\n",
      "F1-Score: 0.9069767441860465\n",
      "\n",
      "\n",
      "[[25  4]\n",
      " [ 2 89]]\n",
      "Rodada: # 14\n",
      "K-Vizinhos: 5\n",
      "Accuracy: 0.95\n",
      "Precision: 0.956989247311828\n",
      "Recall: 0.978021978021978\n",
      "F1-Score: 0.967391304347826\n",
      "\n",
      "\n",
      "[[16  8]\n",
      " [ 2 94]]\n",
      "Rodada: # 15\n",
      "K-Vizinhos: 7\n",
      "Accuracy: 0.9166666666666666\n",
      "Precision: 0.9215686274509803\n",
      "Recall: 0.9791666666666666\n",
      "F1-Score: 0.9494949494949494\n",
      "\n",
      "\n",
      "[[19 10]\n",
      " [ 5 86]]\n",
      "Rodada: # 16\n",
      "K-Vizinhos: 3\n",
      "Accuracy: 0.875\n",
      "Precision: 0.8958333333333334\n",
      "Recall: 0.945054945054945\n",
      "F1-Score: 0.9197860962566845\n",
      "\n",
      "\n",
      "[[25  9]\n",
      " [ 9 77]]\n",
      "Rodada: # 17\n",
      "K-Vizinhos: 1\n",
      "Accuracy: 0.85\n",
      "Precision: 0.8953488372093024\n",
      "Recall: 0.8953488372093024\n",
      "F1-Score: 0.8953488372093024\n",
      "\n",
      "\n"
     ]
    },
    {
     "name": "stderr",
     "output_type": "stream",
     "text": [
      "C:\\Users\\Eduardo Valente\\Anaconda3\\lib\\site-packages\\sklearn\\model_selection\\_search.py:813: DeprecationWarning: The default of the `iid` parameter will change from True to False in version 0.22 and will be removed in 0.24. This will change numeric results when test-set sizes are unequal.\n",
      "  DeprecationWarning)\n"
     ]
    },
    {
     "name": "stdout",
     "output_type": "stream",
     "text": [
      "[[23  9]\n",
      " [ 6 82]]\n",
      "Rodada: # 18\n",
      "K-Vizinhos: 1\n",
      "Accuracy: 0.875\n",
      "Precision: 0.9010989010989011\n",
      "Recall: 0.9318181818181818\n",
      "F1-Score: 0.9162011173184357\n",
      "\n",
      "\n"
     ]
    },
    {
     "name": "stderr",
     "output_type": "stream",
     "text": [
      "C:\\Users\\Eduardo Valente\\Anaconda3\\lib\\site-packages\\sklearn\\model_selection\\_search.py:813: DeprecationWarning: The default of the `iid` parameter will change from True to False in version 0.22 and will be removed in 0.24. This will change numeric results when test-set sizes are unequal.\n",
      "  DeprecationWarning)\n"
     ]
    },
    {
     "name": "stdout",
     "output_type": "stream",
     "text": [
      "[[22 14]\n",
      " [ 1 83]]\n",
      "Rodada: # 19\n",
      "K-Vizinhos: 9\n",
      "Accuracy: 0.875\n",
      "Precision: 0.8556701030927835\n",
      "Recall: 0.9880952380952381\n",
      "F1-Score: 0.9171270718232044\n",
      "\n",
      "\n"
     ]
    },
    {
     "name": "stderr",
     "output_type": "stream",
     "text": [
      "C:\\Users\\Eduardo Valente\\Anaconda3\\lib\\site-packages\\sklearn\\model_selection\\_search.py:813: DeprecationWarning: The default of the `iid` parameter will change from True to False in version 0.22 and will be removed in 0.24. This will change numeric results when test-set sizes are unequal.\n",
      "  DeprecationWarning)\n"
     ]
    },
    {
     "name": "stdout",
     "output_type": "stream",
     "text": [
      "[[24  4]\n",
      " [ 6 86]]\n",
      "Rodada: # 20\n",
      "K-Vizinhos: 1\n",
      "Accuracy: 0.9166666666666666\n",
      "Precision: 0.9555555555555556\n",
      "Recall: 0.9347826086956522\n",
      "F1-Score: 0.945054945054945\n",
      "\n",
      "\n",
      "[[15 11]\n",
      " [ 1 93]]\n",
      "Rodada: # 21\n",
      "K-Vizinhos: 5\n",
      "Accuracy: 0.9\n",
      "Precision: 0.8942307692307693\n",
      "Recall: 0.9893617021276596\n",
      "F1-Score: 0.9393939393939394\n",
      "\n",
      "\n",
      "[[23 10]\n",
      " [ 1 86]]\n",
      "Rodada: # 22\n",
      "K-Vizinhos: 3\n",
      "Accuracy: 0.9083333333333333\n",
      "Precision: 0.8958333333333334\n",
      "Recall: 0.9885057471264368\n",
      "F1-Score: 0.9398907103825137\n",
      "\n",
      "\n",
      "[[20  4]\n",
      " [ 7 89]]\n",
      "Rodada: # 23\n",
      "K-Vizinhos: 1\n",
      "Accuracy: 0.9083333333333333\n",
      "Precision: 0.956989247311828\n",
      "Recall: 0.9270833333333334\n",
      "F1-Score: 0.9417989417989417\n",
      "\n",
      "\n",
      "[[20 11]\n",
      " [ 4 85]]\n",
      "Rodada: # 24\n",
      "K-Vizinhos: 3\n",
      "Accuracy: 0.875\n",
      "Precision: 0.8854166666666666\n",
      "Recall: 0.9550561797752809\n",
      "F1-Score: 0.918918918918919\n",
      "\n",
      "\n",
      "[[20 10]\n",
      " [ 3 87]]\n",
      "Rodada: # 25\n",
      "K-Vizinhos: 7\n",
      "Accuracy: 0.8916666666666667\n",
      "Precision: 0.8969072164948454\n",
      "Recall: 0.9666666666666667\n",
      "F1-Score: 0.93048128342246\n",
      "\n",
      "\n",
      "[[18  6]\n",
      " [ 6 90]]\n",
      "Rodada: # 26\n",
      "K-Vizinhos: 1\n",
      "Accuracy: 0.9\n",
      "Precision: 0.9375\n",
      "Recall: 0.9375\n",
      "F1-Score: 0.9375\n",
      "\n",
      "\n",
      "[[20  9]\n",
      " [ 3 88]]\n",
      "Rodada: # 27\n",
      "K-Vizinhos: 5\n",
      "Accuracy: 0.9\n",
      "Precision: 0.9072164948453608\n",
      "Recall: 0.967032967032967\n",
      "F1-Score: 0.9361702127659575\n",
      "\n",
      "\n",
      "[[18  8]\n",
      " [ 3 91]]\n",
      "Rodada: # 28\n",
      "K-Vizinhos: 5\n",
      "Accuracy: 0.9083333333333333\n",
      "Precision: 0.9191919191919192\n",
      "Recall: 0.9680851063829787\n",
      "F1-Score: 0.9430051813471503\n",
      "\n",
      "\n"
     ]
    },
    {
     "name": "stderr",
     "output_type": "stream",
     "text": [
      "C:\\Users\\Eduardo Valente\\Anaconda3\\lib\\site-packages\\sklearn\\model_selection\\_search.py:813: DeprecationWarning: The default of the `iid` parameter will change from True to False in version 0.22 and will be removed in 0.24. This will change numeric results when test-set sizes are unequal.\n",
      "  DeprecationWarning)\n"
     ]
    },
    {
     "name": "stdout",
     "output_type": "stream",
     "text": [
      "[[19  8]\n",
      " [ 4 89]]\n",
      "Rodada: # 29\n",
      "K-Vizinhos: 13\n",
      "Accuracy: 0.9\n",
      "Precision: 0.9175257731958762\n",
      "Recall: 0.956989247311828\n",
      "F1-Score: 0.9368421052631579\n",
      "\n",
      "\n",
      "[[24  3]\n",
      " [10 83]]\n",
      "Rodada: # 30\n",
      "K-Vizinhos: 1\n",
      "Accuracy: 0.8916666666666667\n",
      "Precision: 0.9651162790697675\n",
      "Recall: 0.8924731182795699\n",
      "F1-Score: 0.9273743016759777\n",
      "\n",
      "\n",
      "[[26  8]\n",
      " [ 6 80]]\n",
      "Rodada: # 31\n",
      "K-Vizinhos: 6\n",
      "Accuracy: 0.8833333333333333\n",
      "Precision: 0.9090909090909091\n",
      "Recall: 0.9302325581395349\n",
      "F1-Score: 0.9195402298850575\n",
      "\n",
      "\n",
      "[[20  9]\n",
      " [ 4 87]]\n",
      "Rodada: # 32\n",
      "K-Vizinhos: 5\n",
      "Accuracy: 0.8916666666666667\n",
      "Precision: 0.90625\n",
      "Recall: 0.9560439560439561\n",
      "F1-Score: 0.9304812834224598\n",
      "\n",
      "\n"
     ]
    },
    {
     "name": "stderr",
     "output_type": "stream",
     "text": [
      "C:\\Users\\Eduardo Valente\\Anaconda3\\lib\\site-packages\\sklearn\\model_selection\\_search.py:813: DeprecationWarning: The default of the `iid` parameter will change from True to False in version 0.22 and will be removed in 0.24. This will change numeric results when test-set sizes are unequal.\n",
      "  DeprecationWarning)\n"
     ]
    },
    {
     "name": "stdout",
     "output_type": "stream",
     "text": [
      "[[27  6]\n",
      " [ 5 82]]\n",
      "Rodada: # 33\n",
      "K-Vizinhos: 1\n",
      "Accuracy: 0.9083333333333333\n",
      "Precision: 0.9318181818181818\n",
      "Recall: 0.9425287356321839\n",
      "F1-Score: 0.9371428571428572\n",
      "\n",
      "\n",
      "[[21  9]\n",
      " [ 5 85]]\n",
      "Rodada: # 34\n",
      "K-Vizinhos: 3\n",
      "Accuracy: 0.8833333333333333\n",
      "Precision: 0.9042553191489362\n",
      "Recall: 0.9444444444444444\n",
      "F1-Score: 0.9239130434782609\n",
      "\n",
      "\n"
     ]
    },
    {
     "name": "stderr",
     "output_type": "stream",
     "text": [
      "C:\\Users\\Eduardo Valente\\Anaconda3\\lib\\site-packages\\sklearn\\model_selection\\_search.py:813: DeprecationWarning: The default of the `iid` parameter will change from True to False in version 0.22 and will be removed in 0.24. This will change numeric results when test-set sizes are unequal.\n",
      "  DeprecationWarning)\n"
     ]
    },
    {
     "name": "stdout",
     "output_type": "stream",
     "text": [
      "[[18  8]\n",
      " [ 4 90]]\n",
      "Rodada: # 35\n",
      "K-Vizinhos: 5\n",
      "Accuracy: 0.9\n",
      "Precision: 0.9183673469387755\n",
      "Recall: 0.9574468085106383\n",
      "F1-Score: 0.9375000000000001\n",
      "\n",
      "\n",
      "[[18  9]\n",
      " [ 4 89]]\n",
      "Rodada: # 36\n",
      "K-Vizinhos: 5\n",
      "Accuracy: 0.8916666666666667\n",
      "Precision: 0.9081632653061225\n",
      "Recall: 0.956989247311828\n",
      "F1-Score: 0.9319371727748691\n",
      "\n",
      "\n",
      "[[26 13]\n",
      " [ 4 77]]\n",
      "Rodada: # 37\n",
      "K-Vizinhos: 1\n",
      "Accuracy: 0.8583333333333333\n",
      "Precision: 0.8555555555555555\n",
      "Recall: 0.9506172839506173\n",
      "F1-Score: 0.9005847953216374\n",
      "\n",
      "\n",
      "[[14  9]\n",
      " [ 2 95]]\n",
      "Rodada: # 38\n",
      "K-Vizinhos: 3\n",
      "Accuracy: 0.9083333333333333\n",
      "Precision: 0.9134615384615384\n",
      "Recall: 0.979381443298969\n",
      "F1-Score: 0.9452736318407959\n",
      "\n",
      "\n"
     ]
    },
    {
     "name": "stderr",
     "output_type": "stream",
     "text": [
      "C:\\Users\\Eduardo Valente\\Anaconda3\\lib\\site-packages\\sklearn\\model_selection\\_search.py:813: DeprecationWarning: The default of the `iid` parameter will change from True to False in version 0.22 and will be removed in 0.24. This will change numeric results when test-set sizes are unequal.\n",
      "  DeprecationWarning)\n"
     ]
    },
    {
     "name": "stdout",
     "output_type": "stream",
     "text": [
      "[[22 11]\n",
      " [ 5 82]]\n",
      "Rodada: # 39\n",
      "K-Vizinhos: 3\n",
      "Accuracy: 0.8666666666666667\n",
      "Precision: 0.8817204301075269\n",
      "Recall: 0.9425287356321839\n",
      "F1-Score: 0.9111111111111111\n",
      "\n",
      "\n",
      "[[26  6]\n",
      " [ 4 84]]\n",
      "Rodada: # 40\n",
      "K-Vizinhos: 1\n",
      "Accuracy: 0.9166666666666666\n",
      "Precision: 0.9333333333333333\n",
      "Recall: 0.9545454545454546\n",
      "F1-Score: 0.9438202247191012\n",
      "\n",
      "\n",
      "[[24 11]\n",
      " [ 3 82]]\n",
      "Rodada: # 41\n",
      "K-Vizinhos: 1\n",
      "Accuracy: 0.8833333333333333\n",
      "Precision: 0.8817204301075269\n",
      "Recall: 0.9647058823529412\n",
      "F1-Score: 0.9213483146067416\n",
      "\n",
      "\n"
     ]
    },
    {
     "name": "stderr",
     "output_type": "stream",
     "text": [
      "C:\\Users\\Eduardo Valente\\Anaconda3\\lib\\site-packages\\sklearn\\model_selection\\_search.py:813: DeprecationWarning: The default of the `iid` parameter will change from True to False in version 0.22 and will be removed in 0.24. This will change numeric results when test-set sizes are unequal.\n",
      "  DeprecationWarning)\n"
     ]
    },
    {
     "name": "stdout",
     "output_type": "stream",
     "text": [
      "[[25  4]\n",
      " [ 5 86]]\n",
      "Rodada: # 42\n",
      "K-Vizinhos: 1\n",
      "Accuracy: 0.925\n",
      "Precision: 0.9555555555555556\n",
      "Recall: 0.945054945054945\n",
      "F1-Score: 0.9502762430939227\n",
      "\n",
      "\n",
      "[[29  6]\n",
      " [ 1 84]]\n",
      "Rodada: # 43\n",
      "K-Vizinhos: 1\n",
      "Accuracy: 0.9416666666666667\n",
      "Precision: 0.9333333333333333\n",
      "Recall: 0.9882352941176471\n",
      "F1-Score: 0.96\n",
      "\n",
      "\n"
     ]
    },
    {
     "name": "stderr",
     "output_type": "stream",
     "text": [
      "C:\\Users\\Eduardo Valente\\Anaconda3\\lib\\site-packages\\sklearn\\model_selection\\_search.py:813: DeprecationWarning: The default of the `iid` parameter will change from True to False in version 0.22 and will be removed in 0.24. This will change numeric results when test-set sizes are unequal.\n",
      "  DeprecationWarning)\n"
     ]
    },
    {
     "name": "stdout",
     "output_type": "stream",
     "text": [
      "[[19 10]\n",
      " [ 8 83]]\n",
      "Rodada: # 44\n",
      "K-Vizinhos: 3\n",
      "Accuracy: 0.85\n",
      "Precision: 0.8924731182795699\n",
      "Recall: 0.9120879120879121\n",
      "F1-Score: 0.9021739130434783\n",
      "\n",
      "\n"
     ]
    },
    {
     "name": "stderr",
     "output_type": "stream",
     "text": [
      "C:\\Users\\Eduardo Valente\\Anaconda3\\lib\\site-packages\\sklearn\\model_selection\\_search.py:813: DeprecationWarning: The default of the `iid` parameter will change from True to False in version 0.22 and will be removed in 0.24. This will change numeric results when test-set sizes are unequal.\n",
      "  DeprecationWarning)\n"
     ]
    },
    {
     "name": "stdout",
     "output_type": "stream",
     "text": [
      "[[23  9]\n",
      " [ 1 87]]\n",
      "Rodada: # 45\n",
      "K-Vizinhos: 1\n",
      "Accuracy: 0.9166666666666666\n",
      "Precision: 0.90625\n",
      "Recall: 0.9886363636363636\n",
      "F1-Score: 0.9456521739130435\n",
      "\n",
      "\n",
      "[[17 10]\n",
      " [ 4 89]]\n",
      "Rodada: # 46\n",
      "K-Vizinhos: 11\n",
      "Accuracy: 0.8833333333333333\n",
      "Precision: 0.898989898989899\n",
      "Recall: 0.956989247311828\n",
      "F1-Score: 0.9270833333333334\n",
      "\n",
      "\n",
      "[[23 13]\n",
      " [ 2 82]]\n",
      "Rodada: # 47\n",
      "K-Vizinhos: 5\n",
      "Accuracy: 0.875\n",
      "Precision: 0.8631578947368421\n",
      "Recall: 0.9761904761904762\n",
      "F1-Score: 0.9162011173184357\n",
      "\n",
      "\n",
      "[[22  5]\n",
      " [ 5 88]]\n",
      "Rodada: # 48\n",
      "K-Vizinhos: 11\n",
      "Accuracy: 0.9166666666666666\n",
      "Precision: 0.946236559139785\n",
      "Recall: 0.946236559139785\n",
      "F1-Score: 0.946236559139785\n",
      "\n",
      "\n",
      "[[24  3]\n",
      " [10 83]]\n",
      "Rodada: # 49\n",
      "K-Vizinhos: 4\n",
      "Accuracy: 0.8916666666666667\n",
      "Precision: 0.9651162790697675\n",
      "Recall: 0.8924731182795699\n",
      "F1-Score: 0.9273743016759777\n",
      "\n",
      "\n",
      "============================================== KNN =================================================\n",
      "=================================== TABELA DE MÉTRICAS DO MODELO ===================================\n",
      "\t Accuracy \t|\t Precision \t|\t Recall \t|\t F1-Score\n",
      "      0.89 +- 0.02             0.91 +- 0.03          0.95 +- 0.03             0.93 +- 0.02\n",
      "====================================================================================================\n"
     ]
    }
   ],
   "source": [
    "# treinando o modelo\n",
    "dict_metricas = treinamento_teste(epocas, k_folds, exibir_matriz_confusao, exibir_metricas)\n",
    "tabelaMetricas('KNN',dict_metricas)"
   ]
  },
  {
   "cell_type": "code",
   "execution_count": null,
   "metadata": {},
   "outputs": [],
   "source": []
  },
  {
   "cell_type": "code",
   "execution_count": null,
   "metadata": {},
   "outputs": [],
   "source": []
  },
  {
   "cell_type": "code",
   "execution_count": null,
   "metadata": {},
   "outputs": [],
   "source": []
  },
  {
   "cell_type": "code",
   "execution_count": null,
   "metadata": {},
   "outputs": [],
   "source": []
  }
 ],
 "metadata": {
  "kernelspec": {
   "display_name": "Python 3",
   "language": "python",
   "name": "python3"
  },
  "language_info": {
   "codemirror_mode": {
    "name": "ipython",
    "version": 3
   },
   "file_extension": ".py",
   "mimetype": "text/x-python",
   "name": "python",
   "nbconvert_exporter": "python",
   "pygments_lexer": "ipython3",
   "version": "3.7.4"
  }
 },
 "nbformat": 4,
 "nbformat_minor": 4
}
