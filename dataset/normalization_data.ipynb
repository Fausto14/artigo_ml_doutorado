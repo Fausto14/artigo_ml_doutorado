{
 "cells": [
  {
   "cell_type": "code",
   "execution_count": 138,
   "metadata": {},
   "outputs": [],
   "source": [
    "import numpy as np\n",
    "import pandas as pd\n",
    "from numpy import savetxt"
   ]
  },
  {
   "cell_type": "code",
   "execution_count": 166,
   "metadata": {},
   "outputs": [],
   "source": [
    "data = pd.read_csv(\"bin_10_FEATURES_M17_CM6b_TH199.csv\", sep=',', header=0)"
   ]
  },
  {
   "cell_type": "code",
   "execution_count": 122,
   "metadata": {},
   "outputs": [],
   "source": [
    "X = data.loc[:, data.columns != 'Class'].values\n",
    "y = data[['Class']].values"
   ]
  },
  {
   "cell_type": "code",
   "execution_count": 123,
   "metadata": {},
   "outputs": [],
   "source": [
    "def normalization(X, normalization_type='std'):\n",
    "    X_mean = X.mean(axis = 0)\n",
    "    X_std = X.std(axis = 0)\n",
    "    return (X-X_mean)/ X_std, X_mean, X_std\n"
   ]
  },
  {
   "cell_type": "code",
   "execution_count": 185,
   "metadata": {},
   "outputs": [
    {
     "data": {
      "text/plain": [
       "array([[ 0.33525109,  0.12955818,  0.07536824, ..., -0.88390172,\n",
       "        -0.45604449,  1.        ],\n",
       "       [-0.88575974,  0.38601784, -0.92335069, ..., -0.88079848,\n",
       "         0.77626479,  1.        ],\n",
       "       [ 1.1235918 , -0.54230335,  0.94064954, ..., -0.52547722,\n",
       "        -1.05432304,  1.        ],\n",
       "       ...,\n",
       "       [ 1.75747322, -1.37771695,  1.56681238, ...,  0.47997334,\n",
       "        -1.2976513 ,  0.        ],\n",
       "       [ 1.92487065, -1.549759  ,  1.72224397, ..., -0.10964273,\n",
       "        -1.37702582,  0.        ],\n",
       "       [ 1.38108394, -0.83545692,  1.23188334, ...,  0.52497035,\n",
       "        -1.19678205,  0.        ]])"
      ]
     },
     "execution_count": 185,
     "metadata": {},
     "output_type": "execute_result"
    }
   ],
   "source": [
    "X_norm, X_mean, X_std = normalization(X)\n",
    "data_norm = np.concatenate((X_norm,y),axis=1)\n",
    "data_norm"
   ]
  },
  {
   "cell_type": "code",
   "execution_count": 187,
   "metadata": {},
   "outputs": [],
   "source": [
    "#savetxt('norm_bin_10_FEATURES_M17_CM6b_TH199.csv', data_norm, delimiter=',')"
   ]
  },
  {
   "cell_type": "code",
   "execution_count": null,
   "metadata": {},
   "outputs": [],
   "source": []
  }
 ],
 "metadata": {
  "kernelspec": {
   "display_name": "Python 3",
   "language": "python",
   "name": "python3"
  },
  "language_info": {
   "codemirror_mode": {
    "name": "ipython",
    "version": 3
   },
   "file_extension": ".py",
   "mimetype": "text/x-python",
   "name": "python",
   "nbconvert_exporter": "python",
   "pygments_lexer": "ipython3",
   "version": "3.6.4"
  }
 },
 "nbformat": 4,
 "nbformat_minor": 2
}
