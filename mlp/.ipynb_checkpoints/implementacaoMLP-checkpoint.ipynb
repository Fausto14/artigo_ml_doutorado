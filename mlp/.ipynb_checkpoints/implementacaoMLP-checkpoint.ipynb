{
 "cells": [
  {
   "cell_type": "markdown",
   "metadata": {},
   "source": [
    "# Importando as bibliotecas"
   ]
  },
  {
   "cell_type": "code",
   "execution_count": 50,
   "metadata": {},
   "outputs": [],
   "source": [
    "from sklearn.neural_network import MLPClassifier\n",
    "from sklearn.model_selection import GridSearchCV\n",
    "from sklearn import metrics\n",
    "from sklearn.metrics import confusion_matrix\n",
    "import pandas as pd\n",
    "import numpy as np\n",
    "from collections import Counter\n",
    "import os\n",
    "import sys\n",
    "sys.path.insert(0, os.path.abspath('../Util'))\n",
    "from dados import ProcessarDados"
   ]
  },
  {
   "cell_type": "markdown",
   "metadata": {},
   "source": [
    "# Dataset"
   ]
  },
  {
   "cell_type": "code",
   "execution_count": 51,
   "metadata": {},
   "outputs": [],
   "source": [
    "procData = ProcessarDados(\"../dataset/norm_bin_10_FEATURES_M17_CM6b_TH199.csv\")"
   ]
  },
  {
   "cell_type": "markdown",
   "metadata": {},
   "source": [
    "# Funções"
   ]
  },
  {
   "cell_type": "code",
   "execution_count": 74,
   "metadata": {},
   "outputs": [],
   "source": [
    "# funcção que treina e testa o modelo armazenando as métricas\n",
    "# retorna um dicionário cotendo os valores das métricas de cada rodada\n",
    "def treinamento_teste(epocas = 10, k_folds = 5, exibir_matriz_confusao=False, exibir_metricas=False):\n",
    "    \n",
    "    #array para armazenar as das métricas de cada rodada\n",
    "    resultados_accuracy = []\n",
    "    resultados_precision = []\n",
    "    resultados_recall = []\n",
    "    resultados_f1 = []\n",
    "    resultados_parametros = []\n",
    "    \n",
    "    #dicionário das métricas\n",
    "    resultados_gerais = {}\n",
    "\n",
    "    for i in range(epocas):\n",
    "        # divisão os dados \n",
    "        X_train, X_test, y_train, y_test = procData.holdout(0.2)\n",
    "        #print(Counter(y_test))\n",
    "\n",
    "        # realizando o grid search para encontrar a melhor combinação entre o C, gamma e Kernel, \n",
    "        # considerando a acurácia (taxa de acerto)\n",
    "        # aqui o método GridSearchCV é configurado para subdividir os dados de treino em k_folds\n",
    "        \n",
    "        \n",
    "        clf = MLPClassifier(random_state = 0)\n",
    "        grid_mlp = GridSearchCV(clf, param_grid, cv=k_folds, scoring='accuracy', verbose=0, n_jobs=-1)\n",
    "        grid_mlp.fit(X_train, y_train)\n",
    "\n",
    "        # Treinando do modelo com os melhores parametros encontrados\n",
    "        activation_best = grid_mlp.best_estimator_.activation\n",
    "        alpha_best = grid_mlp.best_estimator_.alpha\n",
    "        solver_best = grid_mlp.best_estimator_.solver\n",
    "        hidden_layer_size_best = grid_mlp.best_estimator_.hidden_layer_sizes\n",
    "\n",
    "        MLP = MLPClassifier(random_state = 0, activation = activation_best, alpha = alpha_best, solver = solver_best, hidden_layer_sizes = hidden_layer_size_best)\n",
    "        MLP.fit(X_train, y_train)\n",
    "\n",
    "        #testando o modelo\n",
    "        y_pred = MLP.predict(X_test)\n",
    "        if exibir_matriz_confusao:\n",
    "            print(confusion_matrix(y_test, y_pred))\n",
    "\n",
    "        # calculado as metricas\n",
    "        accuracy = metrics.accuracy_score(y_test, y_pred)\n",
    "        precision = metrics.precision_score(y_test, y_pred)\n",
    "        recall = metrics.recall_score(y_test, y_pred)\n",
    "        f1_score = 2 * (precision * recall) / (precision + recall)\n",
    "\n",
    "        # armazenando as métricas\n",
    "        resultados_accuracy.append(accuracy)\n",
    "        resultados_precision.append(precision)\n",
    "        resultados_recall.append(recall)\n",
    "        resultados_f1.append(f1_score)\n",
    "\n",
    "        best_parametros = \"Activation: \"+ str(activation_best)+ \" | Alpha: \"+ str(alpha_best)+ \" | Solver: \"+ str(solver_best) + \" | hidden_layer_sizes: \"+ str(hidden_layer_size_best);\n",
    "        resultados_parametros.append(best_parametros)\n",
    "\n",
    "\n",
    "        if exibir_metricas:\n",
    "            print(\"Rodada: #\",i)\n",
    "            print(best_parametros)\n",
    "            print(\"Accuracy:\",accuracy)\n",
    "            print(\"Precision:\",precision)\n",
    "            print(\"Recall:\",recall)\n",
    "            print(\"F1-Score:\",f1_score)\n",
    "            print(\"\\n\")\n",
    "\n",
    "            \n",
    "    resultados_gerais['accuracy'] = resultados_accuracy\n",
    "    resultados_gerais['precision'] = resultados_precision\n",
    "    resultados_gerais['recall'] = resultados_recall\n",
    "    resultados_gerais['f1'] = resultados_f1\n",
    "    \n",
    "    return resultados_gerais"
   ]
  },
  {
   "cell_type": "code",
   "execution_count": 75,
   "metadata": {},
   "outputs": [],
   "source": [
    "def tabelaMetricas(nome_modelo, dict_metricas, rodadas=False):\n",
    "    print (\"============================================== \"+nome_modelo+\" =================================================\")\n",
    "    print (\"=================================== TABELA DE MÉTRICAS DO MODELO ===================================\")\n",
    "    \n",
    "    if(rodadas==False):\n",
    "        print (\"\\t Accuracy \\t|\\t Precision \\t|\\t Recall \\t|\\t F1-Score\")\n",
    "        print (\"      %.2f +- %.2f\" % (np.mean(dict_metricas['accuracy'], axis=0), np.std(dict_metricas['accuracy'], axis=0)),end='       ')\n",
    "        print (\"      %.2f +- %.2f\" % (np.mean(dict_metricas['precision'], axis=0), np.std(dict_metricas['precision'], axis=0)),end='    ')\n",
    "        print (\"      %.2f +- %.2f\" % (np.mean(dict_metricas['recall'], axis=0), np.std(dict_metricas['recall'], axis=0)),end='       ')\n",
    "        print (\"      %.2f +- %.2f\" % (np.mean(dict_metricas['f1'], axis=0), np.std(dict_metricas['f1'], axis=0)))\n",
    "        print (\"====================================================================================================\")"
   ]
  },
  {
   "cell_type": "markdown",
   "metadata": {},
   "source": [
    "# Definindo os parâmetros"
   ]
  },
  {
   "cell_type": "code",
   "execution_count": 76,
   "metadata": {},
   "outputs": [],
   "source": [
    "activations = ['relu']\n",
    "alphas = 10.0 ** -np.arange(1, 4)\n",
    "solvers = ['lbfgs']\n",
    "hidden_layer_sizes = [100, 150, 200]\n",
    "param_grid = {'hidden_layer_sizes': hidden_layer_sizes, 'activation' : activations, 'alpha': alphas, 'solver': solvers}\n",
    "\n",
    "epocas = 50\n",
    "k_folds = 5\n",
    "exibir_matriz_confusao = True\n",
    "exibir_metricas = True\n"
   ]
  },
  {
   "cell_type": "markdown",
   "metadata": {},
   "source": [
    "# Treinando e obtendo as métricas do modelo"
   ]
  },
  {
   "cell_type": "code",
   "execution_count": 77,
   "metadata": {},
   "outputs": [
    {
     "name": "stdout",
     "output_type": "stream",
     "text": [
      "Fitting 5 folds for each of 18 candidates, totalling 90 fits\n",
      "[CV] activation=relu, alpha=0.1, hidden_layer_sizes=100, solver=lbfgs \n",
      "[CV]  activation=relu, alpha=0.1, hidden_layer_sizes=100, solver=lbfgs, score=0.9175257731958762, total=   0.6s\n",
      "[CV] activation=relu, alpha=0.1, hidden_layer_sizes=100, solver=lbfgs \n"
     ]
    },
    {
     "name": "stderr",
     "output_type": "stream",
     "text": [
      "[Parallel(n_jobs=1)]: Done   1 out of   1 | elapsed:    0.6s remaining:    0.0s\n"
     ]
    },
    {
     "name": "stdout",
     "output_type": "stream",
     "text": [
      "[CV]  activation=relu, alpha=0.1, hidden_layer_sizes=100, solver=lbfgs, score=0.8556701030927835, total=   0.3s\n",
      "[CV] activation=relu, alpha=0.1, hidden_layer_sizes=100, solver=lbfgs \n"
     ]
    },
    {
     "name": "stderr",
     "output_type": "stream",
     "text": [
      "[Parallel(n_jobs=1)]: Done   2 out of   2 | elapsed:    1.0s remaining:    0.0s\n"
     ]
    },
    {
     "name": "stdout",
     "output_type": "stream",
     "text": [
      "[CV]  activation=relu, alpha=0.1, hidden_layer_sizes=100, solver=lbfgs, score=0.9479166666666666, total=   0.7s\n",
      "[CV] activation=relu, alpha=0.1, hidden_layer_sizes=100, solver=lbfgs \n"
     ]
    },
    {
     "name": "stderr",
     "output_type": "stream",
     "text": [
      "[Parallel(n_jobs=1)]: Done   3 out of   3 | elapsed:    1.8s remaining:    0.0s\n"
     ]
    },
    {
     "name": "stdout",
     "output_type": "stream",
     "text": [
      "[CV]  activation=relu, alpha=0.1, hidden_layer_sizes=100, solver=lbfgs, score=0.8736842105263158, total=   0.4s\n",
      "[CV] activation=relu, alpha=0.1, hidden_layer_sizes=100, solver=lbfgs \n"
     ]
    },
    {
     "name": "stderr",
     "output_type": "stream",
     "text": [
      "[Parallel(n_jobs=1)]: Done   4 out of   4 | elapsed:    2.3s remaining:    0.0s\n"
     ]
    },
    {
     "name": "stdout",
     "output_type": "stream",
     "text": [
      "[CV]  activation=relu, alpha=0.1, hidden_layer_sizes=100, solver=lbfgs, score=0.9263157894736842, total=   0.7s\n",
      "[CV] activation=relu, alpha=0.1, hidden_layer_sizes=100, solver=sgd ..\n"
     ]
    },
    {
     "name": "stderr",
     "output_type": "stream",
     "text": [
      "[Parallel(n_jobs=1)]: Done   5 out of   5 | elapsed:    3.0s remaining:    0.0s\n",
      "C:\\Users\\fadell\\Anaconda3\\lib\\site-packages\\sklearn\\neural_network\\multilayer_perceptron.py:564: ConvergenceWarning: Stochastic Optimizer: Maximum iterations (200) reached and the optimization hasn't converged yet.\n",
      "  % self.max_iter, ConvergenceWarning)\n",
      "[Parallel(n_jobs=1)]: Done   6 out of   6 | elapsed:    3.6s remaining:    0.0s\n"
     ]
    },
    {
     "name": "stdout",
     "output_type": "stream",
     "text": [
      "[CV]  activation=relu, alpha=0.1, hidden_layer_sizes=100, solver=sgd, score=0.8247422680412371, total=   0.5s\n",
      "[CV] activation=relu, alpha=0.1, hidden_layer_sizes=100, solver=sgd ..\n"
     ]
    },
    {
     "name": "stderr",
     "output_type": "stream",
     "text": [
      "C:\\Users\\fadell\\Anaconda3\\lib\\site-packages\\sklearn\\neural_network\\multilayer_perceptron.py:564: ConvergenceWarning: Stochastic Optimizer: Maximum iterations (200) reached and the optimization hasn't converged yet.\n",
      "  % self.max_iter, ConvergenceWarning)\n",
      "[Parallel(n_jobs=1)]: Done   7 out of   7 | elapsed:    4.7s remaining:    0.0s\n"
     ]
    },
    {
     "name": "stdout",
     "output_type": "stream",
     "text": [
      "[CV]  activation=relu, alpha=0.1, hidden_layer_sizes=100, solver=sgd, score=0.8350515463917526, total=   1.0s\n",
      "[CV] activation=relu, alpha=0.1, hidden_layer_sizes=100, solver=sgd ..\n"
     ]
    },
    {
     "name": "stderr",
     "output_type": "stream",
     "text": [
      "C:\\Users\\fadell\\Anaconda3\\lib\\site-packages\\sklearn\\neural_network\\multilayer_perceptron.py:564: ConvergenceWarning: Stochastic Optimizer: Maximum iterations (200) reached and the optimization hasn't converged yet.\n",
      "  % self.max_iter, ConvergenceWarning)\n",
      "[Parallel(n_jobs=1)]: Done   8 out of   8 | elapsed:    5.3s remaining:    0.0s\n"
     ]
    },
    {
     "name": "stdout",
     "output_type": "stream",
     "text": [
      "[CV]  activation=relu, alpha=0.1, hidden_layer_sizes=100, solver=sgd, score=0.8854166666666666, total=   0.5s\n",
      "[CV] activation=relu, alpha=0.1, hidden_layer_sizes=100, solver=sgd ..\n"
     ]
    },
    {
     "name": "stderr",
     "output_type": "stream",
     "text": [
      "C:\\Users\\fadell\\Anaconda3\\lib\\site-packages\\sklearn\\neural_network\\multilayer_perceptron.py:564: ConvergenceWarning: Stochastic Optimizer: Maximum iterations (200) reached and the optimization hasn't converged yet.\n",
      "  % self.max_iter, ConvergenceWarning)\n",
      "[Parallel(n_jobs=1)]: Done   9 out of   9 | elapsed:    6.3s remaining:    0.0s\n"
     ]
    },
    {
     "name": "stdout",
     "output_type": "stream",
     "text": [
      "[CV]  activation=relu, alpha=0.1, hidden_layer_sizes=100, solver=sgd, score=0.8421052631578947, total=   0.9s\n",
      "[CV] activation=relu, alpha=0.1, hidden_layer_sizes=100, solver=sgd ..\n"
     ]
    },
    {
     "name": "stderr",
     "output_type": "stream",
     "text": [
      "C:\\Users\\fadell\\Anaconda3\\lib\\site-packages\\sklearn\\neural_network\\multilayer_perceptron.py:564: ConvergenceWarning: Stochastic Optimizer: Maximum iterations (200) reached and the optimization hasn't converged yet.\n",
      "  % self.max_iter, ConvergenceWarning)\n"
     ]
    },
    {
     "name": "stdout",
     "output_type": "stream",
     "text": [
      "[CV]  activation=relu, alpha=0.1, hidden_layer_sizes=100, solver=sgd, score=0.8842105263157894, total=   0.4s\n",
      "[CV] activation=relu, alpha=0.1, hidden_layer_sizes=150, solver=lbfgs \n",
      "[CV]  activation=relu, alpha=0.1, hidden_layer_sizes=150, solver=lbfgs, score=0.9072164948453608, total=   0.9s\n",
      "[CV] activation=relu, alpha=0.1, hidden_layer_sizes=150, solver=lbfgs \n",
      "[CV]  activation=relu, alpha=0.1, hidden_layer_sizes=150, solver=lbfgs, score=0.8762886597938144, total=   0.8s\n",
      "[CV] activation=relu, alpha=0.1, hidden_layer_sizes=150, solver=lbfgs \n",
      "[CV]  activation=relu, alpha=0.1, hidden_layer_sizes=150, solver=lbfgs, score=0.9166666666666666, total=   0.4s\n",
      "[CV] activation=relu, alpha=0.1, hidden_layer_sizes=150, solver=lbfgs \n",
      "[CV]  activation=relu, alpha=0.1, hidden_layer_sizes=150, solver=lbfgs, score=0.9052631578947369, total=   0.8s\n",
      "[CV] activation=relu, alpha=0.1, hidden_layer_sizes=150, solver=lbfgs \n",
      "[CV]  activation=relu, alpha=0.1, hidden_layer_sizes=150, solver=lbfgs, score=0.8842105263157894, total=   0.5s\n",
      "[CV] activation=relu, alpha=0.1, hidden_layer_sizes=150, solver=sgd ..\n"
     ]
    },
    {
     "name": "stderr",
     "output_type": "stream",
     "text": [
      "C:\\Users\\fadell\\Anaconda3\\lib\\site-packages\\sklearn\\neural_network\\multilayer_perceptron.py:564: ConvergenceWarning: Stochastic Optimizer: Maximum iterations (200) reached and the optimization hasn't converged yet.\n",
      "  % self.max_iter, ConvergenceWarning)\n"
     ]
    },
    {
     "name": "stdout",
     "output_type": "stream",
     "text": [
      "[CV]  activation=relu, alpha=0.1, hidden_layer_sizes=150, solver=sgd, score=0.8247422680412371, total=   0.9s\n",
      "[CV] activation=relu, alpha=0.1, hidden_layer_sizes=150, solver=sgd ..\n"
     ]
    },
    {
     "name": "stderr",
     "output_type": "stream",
     "text": [
      "C:\\Users\\fadell\\Anaconda3\\lib\\site-packages\\sklearn\\neural_network\\multilayer_perceptron.py:564: ConvergenceWarning: Stochastic Optimizer: Maximum iterations (200) reached and the optimization hasn't converged yet.\n",
      "  % self.max_iter, ConvergenceWarning)\n"
     ]
    },
    {
     "name": "stdout",
     "output_type": "stream",
     "text": [
      "[CV]  activation=relu, alpha=0.1, hidden_layer_sizes=150, solver=sgd, score=0.8762886597938144, total=   1.2s\n",
      "[CV] activation=relu, alpha=0.1, hidden_layer_sizes=150, solver=sgd ..\n"
     ]
    },
    {
     "name": "stderr",
     "output_type": "stream",
     "text": [
      "C:\\Users\\fadell\\Anaconda3\\lib\\site-packages\\sklearn\\neural_network\\multilayer_perceptron.py:564: ConvergenceWarning: Stochastic Optimizer: Maximum iterations (200) reached and the optimization hasn't converged yet.\n",
      "  % self.max_iter, ConvergenceWarning)\n"
     ]
    },
    {
     "name": "stdout",
     "output_type": "stream",
     "text": [
      "[CV]  activation=relu, alpha=0.1, hidden_layer_sizes=150, solver=sgd, score=0.8854166666666666, total=   0.7s\n",
      "[CV] activation=relu, alpha=0.1, hidden_layer_sizes=150, solver=sgd ..\n"
     ]
    },
    {
     "name": "stderr",
     "output_type": "stream",
     "text": [
      "C:\\Users\\fadell\\Anaconda3\\lib\\site-packages\\sklearn\\neural_network\\multilayer_perceptron.py:564: ConvergenceWarning: Stochastic Optimizer: Maximum iterations (200) reached and the optimization hasn't converged yet.\n",
      "  % self.max_iter, ConvergenceWarning)\n"
     ]
    },
    {
     "name": "stdout",
     "output_type": "stream",
     "text": [
      "[CV]  activation=relu, alpha=0.1, hidden_layer_sizes=150, solver=sgd, score=0.8526315789473684, total=   1.2s\n",
      "[CV] activation=relu, alpha=0.1, hidden_layer_sizes=150, solver=sgd ..\n"
     ]
    },
    {
     "name": "stderr",
     "output_type": "stream",
     "text": [
      "C:\\Users\\fadell\\Anaconda3\\lib\\site-packages\\sklearn\\neural_network\\multilayer_perceptron.py:564: ConvergenceWarning: Stochastic Optimizer: Maximum iterations (200) reached and the optimization hasn't converged yet.\n",
      "  % self.max_iter, ConvergenceWarning)\n"
     ]
    },
    {
     "name": "stdout",
     "output_type": "stream",
     "text": [
      "[CV]  activation=relu, alpha=0.1, hidden_layer_sizes=150, solver=sgd, score=0.8947368421052632, total=   1.3s\n",
      "[CV] activation=relu, alpha=0.1, hidden_layer_sizes=200, solver=lbfgs \n",
      "[CV]  activation=relu, alpha=0.1, hidden_layer_sizes=200, solver=lbfgs, score=0.8865979381443299, total=   1.1s\n",
      "[CV] activation=relu, alpha=0.1, hidden_layer_sizes=200, solver=lbfgs \n",
      "[CV]  activation=relu, alpha=0.1, hidden_layer_sizes=200, solver=lbfgs, score=0.845360824742268, total=   1.2s\n",
      "[CV] activation=relu, alpha=0.1, hidden_layer_sizes=200, solver=lbfgs \n",
      "[CV]  activation=relu, alpha=0.1, hidden_layer_sizes=200, solver=lbfgs, score=0.9479166666666666, total=   1.2s\n",
      "[CV] activation=relu, alpha=0.1, hidden_layer_sizes=200, solver=lbfgs \n",
      "[CV]  activation=relu, alpha=0.1, hidden_layer_sizes=200, solver=lbfgs, score=0.8842105263157894, total=   0.7s\n",
      "[CV] activation=relu, alpha=0.1, hidden_layer_sizes=200, solver=lbfgs \n",
      "[CV]  activation=relu, alpha=0.1, hidden_layer_sizes=200, solver=lbfgs, score=0.9052631578947369, total=   1.2s\n",
      "[CV] activation=relu, alpha=0.1, hidden_layer_sizes=200, solver=sgd ..\n"
     ]
    },
    {
     "name": "stderr",
     "output_type": "stream",
     "text": [
      "C:\\Users\\fadell\\Anaconda3\\lib\\site-packages\\sklearn\\neural_network\\multilayer_perceptron.py:564: ConvergenceWarning: Stochastic Optimizer: Maximum iterations (200) reached and the optimization hasn't converged yet.\n",
      "  % self.max_iter, ConvergenceWarning)\n"
     ]
    },
    {
     "name": "stdout",
     "output_type": "stream",
     "text": [
      "[CV]  activation=relu, alpha=0.1, hidden_layer_sizes=200, solver=sgd, score=0.8144329896907216, total=   1.3s\n",
      "[CV] activation=relu, alpha=0.1, hidden_layer_sizes=200, solver=sgd ..\n"
     ]
    },
    {
     "name": "stderr",
     "output_type": "stream",
     "text": [
      "C:\\Users\\fadell\\Anaconda3\\lib\\site-packages\\sklearn\\neural_network\\multilayer_perceptron.py:564: ConvergenceWarning: Stochastic Optimizer: Maximum iterations (200) reached and the optimization hasn't converged yet.\n",
      "  % self.max_iter, ConvergenceWarning)\n"
     ]
    },
    {
     "name": "stdout",
     "output_type": "stream",
     "text": [
      "[CV]  activation=relu, alpha=0.1, hidden_layer_sizes=200, solver=sgd, score=0.8762886597938144, total=   1.1s\n",
      "[CV] activation=relu, alpha=0.1, hidden_layer_sizes=200, solver=sgd ..\n"
     ]
    },
    {
     "name": "stderr",
     "output_type": "stream",
     "text": [
      "C:\\Users\\fadell\\Anaconda3\\lib\\site-packages\\sklearn\\neural_network\\multilayer_perceptron.py:564: ConvergenceWarning: Stochastic Optimizer: Maximum iterations (200) reached and the optimization hasn't converged yet.\n",
      "  % self.max_iter, ConvergenceWarning)\n"
     ]
    },
    {
     "name": "stdout",
     "output_type": "stream",
     "text": [
      "[CV]  activation=relu, alpha=0.1, hidden_layer_sizes=200, solver=sgd, score=0.8854166666666666, total=   1.3s\n",
      "[CV] activation=relu, alpha=0.1, hidden_layer_sizes=200, solver=sgd ..\n"
     ]
    },
    {
     "name": "stderr",
     "output_type": "stream",
     "text": [
      "C:\\Users\\fadell\\Anaconda3\\lib\\site-packages\\sklearn\\neural_network\\multilayer_perceptron.py:564: ConvergenceWarning: Stochastic Optimizer: Maximum iterations (200) reached and the optimization hasn't converged yet.\n",
      "  % self.max_iter, ConvergenceWarning)\n"
     ]
    },
    {
     "name": "stdout",
     "output_type": "stream",
     "text": [
      "[CV]  activation=relu, alpha=0.1, hidden_layer_sizes=200, solver=sgd, score=0.8421052631578947, total=   1.2s\n",
      "[CV] activation=relu, alpha=0.1, hidden_layer_sizes=200, solver=sgd ..\n"
     ]
    },
    {
     "name": "stderr",
     "output_type": "stream",
     "text": [
      "C:\\Users\\fadell\\Anaconda3\\lib\\site-packages\\sklearn\\neural_network\\multilayer_perceptron.py:564: ConvergenceWarning: Stochastic Optimizer: Maximum iterations (200) reached and the optimization hasn't converged yet.\n",
      "  % self.max_iter, ConvergenceWarning)\n"
     ]
    },
    {
     "name": "stdout",
     "output_type": "stream",
     "text": [
      "[CV]  activation=relu, alpha=0.1, hidden_layer_sizes=200, solver=sgd, score=0.9052631578947369, total=   1.1s\n",
      "[CV] activation=relu, alpha=0.01, hidden_layer_sizes=100, solver=lbfgs \n",
      "[CV]  activation=relu, alpha=0.01, hidden_layer_sizes=100, solver=lbfgs, score=0.9072164948453608, total=   0.4s\n",
      "[CV] activation=relu, alpha=0.01, hidden_layer_sizes=100, solver=lbfgs \n",
      "[CV]  activation=relu, alpha=0.01, hidden_layer_sizes=100, solver=lbfgs, score=0.8762886597938144, total=   0.8s\n",
      "[CV] activation=relu, alpha=0.01, hidden_layer_sizes=100, solver=lbfgs \n",
      "[CV]  activation=relu, alpha=0.01, hidden_layer_sizes=100, solver=lbfgs, score=0.9375, total=   0.4s\n",
      "[CV] activation=relu, alpha=0.01, hidden_layer_sizes=100, solver=lbfgs \n",
      "[CV]  activation=relu, alpha=0.01, hidden_layer_sizes=100, solver=lbfgs, score=0.9157894736842105, total=   0.7s\n",
      "[CV] activation=relu, alpha=0.01, hidden_layer_sizes=100, solver=lbfgs \n",
      "[CV]  activation=relu, alpha=0.01, hidden_layer_sizes=100, solver=lbfgs, score=0.9052631578947369, total=   0.4s\n",
      "[CV] activation=relu, alpha=0.01, hidden_layer_sizes=100, solver=sgd .\n"
     ]
    },
    {
     "name": "stderr",
     "output_type": "stream",
     "text": [
      "C:\\Users\\fadell\\Anaconda3\\lib\\site-packages\\sklearn\\neural_network\\multilayer_perceptron.py:564: ConvergenceWarning: Stochastic Optimizer: Maximum iterations (200) reached and the optimization hasn't converged yet.\n",
      "  % self.max_iter, ConvergenceWarning)\n"
     ]
    },
    {
     "name": "stdout",
     "output_type": "stream",
     "text": [
      "[CV]  activation=relu, alpha=0.01, hidden_layer_sizes=100, solver=sgd, score=0.8247422680412371, total=   0.9s\n",
      "[CV] activation=relu, alpha=0.01, hidden_layer_sizes=100, solver=sgd .\n"
     ]
    },
    {
     "name": "stderr",
     "output_type": "stream",
     "text": [
      "C:\\Users\\fadell\\Anaconda3\\lib\\site-packages\\sklearn\\neural_network\\multilayer_perceptron.py:564: ConvergenceWarning: Stochastic Optimizer: Maximum iterations (200) reached and the optimization hasn't converged yet.\n",
      "  % self.max_iter, ConvergenceWarning)\n"
     ]
    },
    {
     "name": "stdout",
     "output_type": "stream",
     "text": [
      "[CV]  activation=relu, alpha=0.01, hidden_layer_sizes=100, solver=sgd, score=0.8350515463917526, total=   0.6s\n",
      "[CV] activation=relu, alpha=0.01, hidden_layer_sizes=100, solver=sgd .\n"
     ]
    },
    {
     "name": "stderr",
     "output_type": "stream",
     "text": [
      "C:\\Users\\fadell\\Anaconda3\\lib\\site-packages\\sklearn\\neural_network\\multilayer_perceptron.py:564: ConvergenceWarning: Stochastic Optimizer: Maximum iterations (200) reached and the optimization hasn't converged yet.\n",
      "  % self.max_iter, ConvergenceWarning)\n"
     ]
    },
    {
     "name": "stdout",
     "output_type": "stream",
     "text": [
      "[CV]  activation=relu, alpha=0.01, hidden_layer_sizes=100, solver=sgd, score=0.8854166666666666, total=   0.9s\n",
      "[CV] activation=relu, alpha=0.01, hidden_layer_sizes=100, solver=sgd .\n"
     ]
    },
    {
     "name": "stderr",
     "output_type": "stream",
     "text": [
      "C:\\Users\\fadell\\Anaconda3\\lib\\site-packages\\sklearn\\neural_network\\multilayer_perceptron.py:564: ConvergenceWarning: Stochastic Optimizer: Maximum iterations (200) reached and the optimization hasn't converged yet.\n",
      "  % self.max_iter, ConvergenceWarning)\n"
     ]
    },
    {
     "name": "stdout",
     "output_type": "stream",
     "text": [
      "[CV]  activation=relu, alpha=0.01, hidden_layer_sizes=100, solver=sgd, score=0.8421052631578947, total=   0.5s\n",
      "[CV] activation=relu, alpha=0.01, hidden_layer_sizes=100, solver=sgd .\n"
     ]
    },
    {
     "name": "stderr",
     "output_type": "stream",
     "text": [
      "C:\\Users\\fadell\\Anaconda3\\lib\\site-packages\\sklearn\\neural_network\\multilayer_perceptron.py:564: ConvergenceWarning: Stochastic Optimizer: Maximum iterations (200) reached and the optimization hasn't converged yet.\n",
      "  % self.max_iter, ConvergenceWarning)\n"
     ]
    },
    {
     "name": "stdout",
     "output_type": "stream",
     "text": [
      "[CV]  activation=relu, alpha=0.01, hidden_layer_sizes=100, solver=sgd, score=0.8842105263157894, total=   1.0s\n",
      "[CV] activation=relu, alpha=0.01, hidden_layer_sizes=150, solver=lbfgs \n",
      "[CV]  activation=relu, alpha=0.01, hidden_layer_sizes=150, solver=lbfgs, score=0.8969072164948454, total=   0.8s\n",
      "[CV] activation=relu, alpha=0.01, hidden_layer_sizes=150, solver=lbfgs \n",
      "[CV]  activation=relu, alpha=0.01, hidden_layer_sizes=150, solver=lbfgs, score=0.8247422680412371, total=   0.4s\n",
      "[CV] activation=relu, alpha=0.01, hidden_layer_sizes=150, solver=lbfgs \n",
      "[CV]  activation=relu, alpha=0.01, hidden_layer_sizes=150, solver=lbfgs, score=0.9583333333333334, total=   0.8s\n",
      "[CV] activation=relu, alpha=0.01, hidden_layer_sizes=150, solver=lbfgs \n",
      "[CV]  activation=relu, alpha=0.01, hidden_layer_sizes=150, solver=lbfgs, score=0.8736842105263158, total=   0.5s\n",
      "[CV] activation=relu, alpha=0.01, hidden_layer_sizes=150, solver=lbfgs \n",
      "[CV]  activation=relu, alpha=0.01, hidden_layer_sizes=150, solver=lbfgs, score=0.8736842105263158, total=   0.8s\n",
      "[CV] activation=relu, alpha=0.01, hidden_layer_sizes=150, solver=sgd .\n"
     ]
    },
    {
     "name": "stderr",
     "output_type": "stream",
     "text": [
      "C:\\Users\\fadell\\Anaconda3\\lib\\site-packages\\sklearn\\neural_network\\multilayer_perceptron.py:564: ConvergenceWarning: Stochastic Optimizer: Maximum iterations (200) reached and the optimization hasn't converged yet.\n",
      "  % self.max_iter, ConvergenceWarning)\n"
     ]
    },
    {
     "name": "stdout",
     "output_type": "stream",
     "text": [
      "[CV]  activation=relu, alpha=0.01, hidden_layer_sizes=150, solver=sgd, score=0.8247422680412371, total=   0.9s\n",
      "[CV] activation=relu, alpha=0.01, hidden_layer_sizes=150, solver=sgd .\n"
     ]
    },
    {
     "name": "stderr",
     "output_type": "stream",
     "text": [
      "C:\\Users\\fadell\\Anaconda3\\lib\\site-packages\\sklearn\\neural_network\\multilayer_perceptron.py:564: ConvergenceWarning: Stochastic Optimizer: Maximum iterations (200) reached and the optimization hasn't converged yet.\n",
      "  % self.max_iter, ConvergenceWarning)\n"
     ]
    },
    {
     "name": "stdout",
     "output_type": "stream",
     "text": [
      "[CV]  activation=relu, alpha=0.01, hidden_layer_sizes=150, solver=sgd, score=0.8762886597938144, total=   0.6s\n",
      "[CV] activation=relu, alpha=0.01, hidden_layer_sizes=150, solver=sgd .\n"
     ]
    },
    {
     "name": "stderr",
     "output_type": "stream",
     "text": [
      "C:\\Users\\fadell\\Anaconda3\\lib\\site-packages\\sklearn\\neural_network\\multilayer_perceptron.py:564: ConvergenceWarning: Stochastic Optimizer: Maximum iterations (200) reached and the optimization hasn't converged yet.\n",
      "  % self.max_iter, ConvergenceWarning)\n"
     ]
    },
    {
     "name": "stdout",
     "output_type": "stream",
     "text": [
      "[CV]  activation=relu, alpha=0.01, hidden_layer_sizes=150, solver=sgd, score=0.8854166666666666, total=   1.0s\n",
      "[CV] activation=relu, alpha=0.01, hidden_layer_sizes=150, solver=sgd .\n"
     ]
    },
    {
     "name": "stderr",
     "output_type": "stream",
     "text": [
      "C:\\Users\\fadell\\Anaconda3\\lib\\site-packages\\sklearn\\neural_network\\multilayer_perceptron.py:564: ConvergenceWarning: Stochastic Optimizer: Maximum iterations (200) reached and the optimization hasn't converged yet.\n",
      "  % self.max_iter, ConvergenceWarning)\n"
     ]
    },
    {
     "name": "stdout",
     "output_type": "stream",
     "text": [
      "[CV]  activation=relu, alpha=0.01, hidden_layer_sizes=150, solver=sgd, score=0.8526315789473684, total=   0.9s\n",
      "[CV] activation=relu, alpha=0.01, hidden_layer_sizes=150, solver=sgd .\n"
     ]
    },
    {
     "name": "stderr",
     "output_type": "stream",
     "text": [
      "C:\\Users\\fadell\\Anaconda3\\lib\\site-packages\\sklearn\\neural_network\\multilayer_perceptron.py:564: ConvergenceWarning: Stochastic Optimizer: Maximum iterations (200) reached and the optimization hasn't converged yet.\n",
      "  % self.max_iter, ConvergenceWarning)\n"
     ]
    },
    {
     "name": "stdout",
     "output_type": "stream",
     "text": [
      "[CV]  activation=relu, alpha=0.01, hidden_layer_sizes=150, solver=sgd, score=0.8947368421052632, total=   0.7s\n",
      "[CV] activation=relu, alpha=0.01, hidden_layer_sizes=200, solver=lbfgs \n",
      "[CV]  activation=relu, alpha=0.01, hidden_layer_sizes=200, solver=lbfgs, score=0.8762886597938144, total=   1.0s\n",
      "[CV] activation=relu, alpha=0.01, hidden_layer_sizes=200, solver=lbfgs \n",
      "[CV]  activation=relu, alpha=0.01, hidden_layer_sizes=200, solver=lbfgs, score=0.865979381443299, total=   1.0s\n",
      "[CV] activation=relu, alpha=0.01, hidden_layer_sizes=200, solver=lbfgs \n",
      "[CV]  activation=relu, alpha=0.01, hidden_layer_sizes=200, solver=lbfgs, score=0.9166666666666666, total=   0.6s\n",
      "[CV] activation=relu, alpha=0.01, hidden_layer_sizes=200, solver=lbfgs \n",
      "[CV]  activation=relu, alpha=0.01, hidden_layer_sizes=200, solver=lbfgs, score=0.9052631578947369, total=   1.0s\n",
      "[CV] activation=relu, alpha=0.01, hidden_layer_sizes=200, solver=lbfgs \n",
      "[CV]  activation=relu, alpha=0.01, hidden_layer_sizes=200, solver=lbfgs, score=0.8736842105263158, total=   0.9s\n",
      "[CV] activation=relu, alpha=0.01, hidden_layer_sizes=200, solver=sgd .\n"
     ]
    },
    {
     "name": "stderr",
     "output_type": "stream",
     "text": [
      "C:\\Users\\fadell\\Anaconda3\\lib\\site-packages\\sklearn\\neural_network\\multilayer_perceptron.py:564: ConvergenceWarning: Stochastic Optimizer: Maximum iterations (200) reached and the optimization hasn't converged yet.\n",
      "  % self.max_iter, ConvergenceWarning)\n"
     ]
    },
    {
     "name": "stdout",
     "output_type": "stream",
     "text": [
      "[CV]  activation=relu, alpha=0.01, hidden_layer_sizes=200, solver=sgd, score=0.8144329896907216, total=   0.7s\n",
      "[CV] activation=relu, alpha=0.01, hidden_layer_sizes=200, solver=sgd .\n"
     ]
    },
    {
     "name": "stderr",
     "output_type": "stream",
     "text": [
      "C:\\Users\\fadell\\Anaconda3\\lib\\site-packages\\sklearn\\neural_network\\multilayer_perceptron.py:564: ConvergenceWarning: Stochastic Optimizer: Maximum iterations (200) reached and the optimization hasn't converged yet.\n",
      "  % self.max_iter, ConvergenceWarning)\n"
     ]
    },
    {
     "name": "stdout",
     "output_type": "stream",
     "text": [
      "[CV]  activation=relu, alpha=0.01, hidden_layer_sizes=200, solver=sgd, score=0.8762886597938144, total=   1.0s\n",
      "[CV] activation=relu, alpha=0.01, hidden_layer_sizes=200, solver=sgd .\n"
     ]
    },
    {
     "name": "stderr",
     "output_type": "stream",
     "text": [
      "C:\\Users\\fadell\\Anaconda3\\lib\\site-packages\\sklearn\\neural_network\\multilayer_perceptron.py:564: ConvergenceWarning: Stochastic Optimizer: Maximum iterations (200) reached and the optimization hasn't converged yet.\n",
      "  % self.max_iter, ConvergenceWarning)\n"
     ]
    },
    {
     "name": "stdout",
     "output_type": "stream",
     "text": [
      "[CV]  activation=relu, alpha=0.01, hidden_layer_sizes=200, solver=sgd, score=0.8854166666666666, total=   1.1s\n",
      "[CV] activation=relu, alpha=0.01, hidden_layer_sizes=200, solver=sgd .\n"
     ]
    },
    {
     "name": "stderr",
     "output_type": "stream",
     "text": [
      "C:\\Users\\fadell\\Anaconda3\\lib\\site-packages\\sklearn\\neural_network\\multilayer_perceptron.py:564: ConvergenceWarning: Stochastic Optimizer: Maximum iterations (200) reached and the optimization hasn't converged yet.\n",
      "  % self.max_iter, ConvergenceWarning)\n"
     ]
    },
    {
     "name": "stdout",
     "output_type": "stream",
     "text": [
      "[CV]  activation=relu, alpha=0.01, hidden_layer_sizes=200, solver=sgd, score=0.8421052631578947, total=   1.3s\n",
      "[CV] activation=relu, alpha=0.01, hidden_layer_sizes=200, solver=sgd .\n"
     ]
    },
    {
     "name": "stderr",
     "output_type": "stream",
     "text": [
      "C:\\Users\\fadell\\Anaconda3\\lib\\site-packages\\sklearn\\neural_network\\multilayer_perceptron.py:564: ConvergenceWarning: Stochastic Optimizer: Maximum iterations (200) reached and the optimization hasn't converged yet.\n",
      "  % self.max_iter, ConvergenceWarning)\n"
     ]
    },
    {
     "name": "stdout",
     "output_type": "stream",
     "text": [
      "[CV]  activation=relu, alpha=0.01, hidden_layer_sizes=200, solver=sgd, score=0.9052631578947369, total=   1.3s\n",
      "[CV] activation=relu, alpha=0.001, hidden_layer_sizes=100, solver=lbfgs \n",
      "[CV]  activation=relu, alpha=0.001, hidden_layer_sizes=100, solver=lbfgs, score=0.8865979381443299, total=   0.5s\n",
      "[CV] activation=relu, alpha=0.001, hidden_layer_sizes=100, solver=lbfgs \n",
      "[CV]  activation=relu, alpha=0.001, hidden_layer_sizes=100, solver=lbfgs, score=0.8762886597938144, total=   0.6s\n",
      "[CV] activation=relu, alpha=0.001, hidden_layer_sizes=100, solver=lbfgs \n",
      "[CV]  activation=relu, alpha=0.001, hidden_layer_sizes=100, solver=lbfgs, score=0.8958333333333334, total=   0.3s\n",
      "[CV] activation=relu, alpha=0.001, hidden_layer_sizes=100, solver=lbfgs \n",
      "[CV]  activation=relu, alpha=0.001, hidden_layer_sizes=100, solver=lbfgs, score=0.9157894736842105, total=   0.7s\n",
      "[CV] activation=relu, alpha=0.001, hidden_layer_sizes=100, solver=lbfgs \n",
      "[CV]  activation=relu, alpha=0.001, hidden_layer_sizes=100, solver=lbfgs, score=0.9052631578947369, total=   0.3s\n",
      "[CV] activation=relu, alpha=0.001, hidden_layer_sizes=100, solver=sgd \n"
     ]
    },
    {
     "name": "stderr",
     "output_type": "stream",
     "text": [
      "C:\\Users\\fadell\\Anaconda3\\lib\\site-packages\\sklearn\\neural_network\\multilayer_perceptron.py:564: ConvergenceWarning: Stochastic Optimizer: Maximum iterations (200) reached and the optimization hasn't converged yet.\n",
      "  % self.max_iter, ConvergenceWarning)\n"
     ]
    },
    {
     "name": "stdout",
     "output_type": "stream",
     "text": [
      "[CV]  activation=relu, alpha=0.001, hidden_layer_sizes=100, solver=sgd, score=0.8247422680412371, total=   0.8s\n",
      "[CV] activation=relu, alpha=0.001, hidden_layer_sizes=100, solver=sgd \n"
     ]
    },
    {
     "name": "stderr",
     "output_type": "stream",
     "text": [
      "C:\\Users\\fadell\\Anaconda3\\lib\\site-packages\\sklearn\\neural_network\\multilayer_perceptron.py:564: ConvergenceWarning: Stochastic Optimizer: Maximum iterations (200) reached and the optimization hasn't converged yet.\n",
      "  % self.max_iter, ConvergenceWarning)\n"
     ]
    },
    {
     "name": "stdout",
     "output_type": "stream",
     "text": [
      "[CV]  activation=relu, alpha=0.001, hidden_layer_sizes=100, solver=sgd, score=0.8350515463917526, total=   0.6s\n",
      "[CV] activation=relu, alpha=0.001, hidden_layer_sizes=100, solver=sgd \n"
     ]
    },
    {
     "name": "stderr",
     "output_type": "stream",
     "text": [
      "C:\\Users\\fadell\\Anaconda3\\lib\\site-packages\\sklearn\\neural_network\\multilayer_perceptron.py:564: ConvergenceWarning: Stochastic Optimizer: Maximum iterations (200) reached and the optimization hasn't converged yet.\n",
      "  % self.max_iter, ConvergenceWarning)\n"
     ]
    },
    {
     "name": "stdout",
     "output_type": "stream",
     "text": [
      "[CV]  activation=relu, alpha=0.001, hidden_layer_sizes=100, solver=sgd, score=0.8854166666666666, total=   0.9s\n",
      "[CV] activation=relu, alpha=0.001, hidden_layer_sizes=100, solver=sgd \n"
     ]
    },
    {
     "name": "stderr",
     "output_type": "stream",
     "text": [
      "C:\\Users\\fadell\\Anaconda3\\lib\\site-packages\\sklearn\\neural_network\\multilayer_perceptron.py:564: ConvergenceWarning: Stochastic Optimizer: Maximum iterations (200) reached and the optimization hasn't converged yet.\n",
      "  % self.max_iter, ConvergenceWarning)\n"
     ]
    },
    {
     "name": "stdout",
     "output_type": "stream",
     "text": [
      "[CV]  activation=relu, alpha=0.001, hidden_layer_sizes=100, solver=sgd, score=0.8421052631578947, total=   0.5s\n",
      "[CV] activation=relu, alpha=0.001, hidden_layer_sizes=100, solver=sgd \n"
     ]
    },
    {
     "name": "stderr",
     "output_type": "stream",
     "text": [
      "C:\\Users\\fadell\\Anaconda3\\lib\\site-packages\\sklearn\\neural_network\\multilayer_perceptron.py:564: ConvergenceWarning: Stochastic Optimizer: Maximum iterations (200) reached and the optimization hasn't converged yet.\n",
      "  % self.max_iter, ConvergenceWarning)\n"
     ]
    },
    {
     "name": "stdout",
     "output_type": "stream",
     "text": [
      "[CV]  activation=relu, alpha=0.001, hidden_layer_sizes=100, solver=sgd, score=0.8842105263157894, total=   0.9s\n",
      "[CV] activation=relu, alpha=0.001, hidden_layer_sizes=150, solver=lbfgs \n",
      "[CV]  activation=relu, alpha=0.001, hidden_layer_sizes=150, solver=lbfgs, score=0.9175257731958762, total=   1.0s\n",
      "[CV] activation=relu, alpha=0.001, hidden_layer_sizes=150, solver=lbfgs \n",
      "[CV]  activation=relu, alpha=0.001, hidden_layer_sizes=150, solver=lbfgs, score=0.8247422680412371, total=   1.1s\n",
      "[CV] activation=relu, alpha=0.001, hidden_layer_sizes=150, solver=lbfgs \n",
      "[CV]  activation=relu, alpha=0.001, hidden_layer_sizes=150, solver=lbfgs, score=0.9583333333333334, total=   0.6s\n",
      "[CV] activation=relu, alpha=0.001, hidden_layer_sizes=150, solver=lbfgs \n",
      "[CV]  activation=relu, alpha=0.001, hidden_layer_sizes=150, solver=lbfgs, score=0.9052631578947369, total=   1.0s\n",
      "[CV] activation=relu, alpha=0.001, hidden_layer_sizes=150, solver=lbfgs \n",
      "[CV]  activation=relu, alpha=0.001, hidden_layer_sizes=150, solver=lbfgs, score=0.8947368421052632, total=   1.1s\n",
      "[CV] activation=relu, alpha=0.001, hidden_layer_sizes=150, solver=sgd \n"
     ]
    },
    {
     "name": "stderr",
     "output_type": "stream",
     "text": [
      "C:\\Users\\fadell\\Anaconda3\\lib\\site-packages\\sklearn\\neural_network\\multilayer_perceptron.py:564: ConvergenceWarning: Stochastic Optimizer: Maximum iterations (200) reached and the optimization hasn't converged yet.\n",
      "  % self.max_iter, ConvergenceWarning)\n"
     ]
    },
    {
     "name": "stdout",
     "output_type": "stream",
     "text": [
      "[CV]  activation=relu, alpha=0.001, hidden_layer_sizes=150, solver=sgd, score=0.8247422680412371, total=   1.2s\n",
      "[CV] activation=relu, alpha=0.001, hidden_layer_sizes=150, solver=sgd \n"
     ]
    },
    {
     "name": "stderr",
     "output_type": "stream",
     "text": [
      "C:\\Users\\fadell\\Anaconda3\\lib\\site-packages\\sklearn\\neural_network\\multilayer_perceptron.py:564: ConvergenceWarning: Stochastic Optimizer: Maximum iterations (200) reached and the optimization hasn't converged yet.\n",
      "  % self.max_iter, ConvergenceWarning)\n"
     ]
    },
    {
     "name": "stdout",
     "output_type": "stream",
     "text": [
      "[CV]  activation=relu, alpha=0.001, hidden_layer_sizes=150, solver=sgd, score=0.8762886597938144, total=   1.2s\n",
      "[CV] activation=relu, alpha=0.001, hidden_layer_sizes=150, solver=sgd \n"
     ]
    },
    {
     "name": "stderr",
     "output_type": "stream",
     "text": [
      "C:\\Users\\fadell\\Anaconda3\\lib\\site-packages\\sklearn\\neural_network\\multilayer_perceptron.py:564: ConvergenceWarning: Stochastic Optimizer: Maximum iterations (200) reached and the optimization hasn't converged yet.\n",
      "  % self.max_iter, ConvergenceWarning)\n"
     ]
    },
    {
     "name": "stdout",
     "output_type": "stream",
     "text": [
      "[CV]  activation=relu, alpha=0.001, hidden_layer_sizes=150, solver=sgd, score=0.8854166666666666, total=   0.6s\n",
      "[CV] activation=relu, alpha=0.001, hidden_layer_sizes=150, solver=sgd \n"
     ]
    },
    {
     "name": "stderr",
     "output_type": "stream",
     "text": [
      "C:\\Users\\fadell\\Anaconda3\\lib\\site-packages\\sklearn\\neural_network\\multilayer_perceptron.py:564: ConvergenceWarning: Stochastic Optimizer: Maximum iterations (200) reached and the optimization hasn't converged yet.\n",
      "  % self.max_iter, ConvergenceWarning)\n"
     ]
    },
    {
     "name": "stdout",
     "output_type": "stream",
     "text": [
      "[CV]  activation=relu, alpha=0.001, hidden_layer_sizes=150, solver=sgd, score=0.8526315789473684, total=   0.9s\n",
      "[CV] activation=relu, alpha=0.001, hidden_layer_sizes=150, solver=sgd \n"
     ]
    },
    {
     "name": "stderr",
     "output_type": "stream",
     "text": [
      "C:\\Users\\fadell\\Anaconda3\\lib\\site-packages\\sklearn\\neural_network\\multilayer_perceptron.py:564: ConvergenceWarning: Stochastic Optimizer: Maximum iterations (200) reached and the optimization hasn't converged yet.\n",
      "  % self.max_iter, ConvergenceWarning)\n"
     ]
    },
    {
     "name": "stdout",
     "output_type": "stream",
     "text": [
      "[CV]  activation=relu, alpha=0.001, hidden_layer_sizes=150, solver=sgd, score=0.8947368421052632, total=   0.5s\n",
      "[CV] activation=relu, alpha=0.001, hidden_layer_sizes=200, solver=lbfgs \n",
      "[CV]  activation=relu, alpha=0.001, hidden_layer_sizes=200, solver=lbfgs, score=0.8969072164948454, total=   1.0s\n",
      "[CV] activation=relu, alpha=0.001, hidden_layer_sizes=200, solver=lbfgs \n",
      "[CV]  activation=relu, alpha=0.001, hidden_layer_sizes=200, solver=lbfgs, score=0.845360824742268, total=   1.1s\n",
      "[CV] activation=relu, alpha=0.001, hidden_layer_sizes=200, solver=lbfgs \n",
      "[CV]  activation=relu, alpha=0.001, hidden_layer_sizes=200, solver=lbfgs, score=0.9270833333333334, total=   1.0s\n",
      "[CV] activation=relu, alpha=0.001, hidden_layer_sizes=200, solver=lbfgs \n",
      "[CV]  activation=relu, alpha=0.001, hidden_layer_sizes=200, solver=lbfgs, score=0.9157894736842105, total=   0.7s\n",
      "[CV] activation=relu, alpha=0.001, hidden_layer_sizes=200, solver=lbfgs \n",
      "[CV]  activation=relu, alpha=0.001, hidden_layer_sizes=200, solver=lbfgs, score=0.8947368421052632, total=   1.1s\n",
      "[CV] activation=relu, alpha=0.001, hidden_layer_sizes=200, solver=sgd \n"
     ]
    },
    {
     "name": "stderr",
     "output_type": "stream",
     "text": [
      "C:\\Users\\fadell\\Anaconda3\\lib\\site-packages\\sklearn\\neural_network\\multilayer_perceptron.py:564: ConvergenceWarning: Stochastic Optimizer: Maximum iterations (200) reached and the optimization hasn't converged yet.\n",
      "  % self.max_iter, ConvergenceWarning)\n"
     ]
    },
    {
     "name": "stdout",
     "output_type": "stream",
     "text": [
      "[CV]  activation=relu, alpha=0.001, hidden_layer_sizes=200, solver=sgd, score=0.8144329896907216, total=   1.3s\n",
      "[CV] activation=relu, alpha=0.001, hidden_layer_sizes=200, solver=sgd \n"
     ]
    },
    {
     "name": "stderr",
     "output_type": "stream",
     "text": [
      "C:\\Users\\fadell\\Anaconda3\\lib\\site-packages\\sklearn\\neural_network\\multilayer_perceptron.py:564: ConvergenceWarning: Stochastic Optimizer: Maximum iterations (200) reached and the optimization hasn't converged yet.\n",
      "  % self.max_iter, ConvergenceWarning)\n"
     ]
    },
    {
     "name": "stdout",
     "output_type": "stream",
     "text": [
      "[CV]  activation=relu, alpha=0.001, hidden_layer_sizes=200, solver=sgd, score=0.8762886597938144, total=   1.3s\n",
      "[CV] activation=relu, alpha=0.001, hidden_layer_sizes=200, solver=sgd \n"
     ]
    },
    {
     "name": "stderr",
     "output_type": "stream",
     "text": [
      "C:\\Users\\fadell\\Anaconda3\\lib\\site-packages\\sklearn\\neural_network\\multilayer_perceptron.py:564: ConvergenceWarning: Stochastic Optimizer: Maximum iterations (200) reached and the optimization hasn't converged yet.\n",
      "  % self.max_iter, ConvergenceWarning)\n"
     ]
    },
    {
     "name": "stdout",
     "output_type": "stream",
     "text": [
      "[CV]  activation=relu, alpha=0.001, hidden_layer_sizes=200, solver=sgd, score=0.8854166666666666, total=   1.1s\n",
      "[CV] activation=relu, alpha=0.001, hidden_layer_sizes=200, solver=sgd \n"
     ]
    },
    {
     "name": "stderr",
     "output_type": "stream",
     "text": [
      "C:\\Users\\fadell\\Anaconda3\\lib\\site-packages\\sklearn\\neural_network\\multilayer_perceptron.py:564: ConvergenceWarning: Stochastic Optimizer: Maximum iterations (200) reached and the optimization hasn't converged yet.\n",
      "  % self.max_iter, ConvergenceWarning)\n"
     ]
    },
    {
     "name": "stdout",
     "output_type": "stream",
     "text": [
      "[CV]  activation=relu, alpha=0.001, hidden_layer_sizes=200, solver=sgd, score=0.8421052631578947, total=   1.1s\n",
      "[CV] activation=relu, alpha=0.001, hidden_layer_sizes=200, solver=sgd \n"
     ]
    },
    {
     "name": "stderr",
     "output_type": "stream",
     "text": [
      "C:\\Users\\fadell\\Anaconda3\\lib\\site-packages\\sklearn\\neural_network\\multilayer_perceptron.py:564: ConvergenceWarning: Stochastic Optimizer: Maximum iterations (200) reached and the optimization hasn't converged yet.\n",
      "  % self.max_iter, ConvergenceWarning)\n",
      "[Parallel(n_jobs=1)]: Done  90 out of  90 | elapsed:  1.4min finished\n"
     ]
    },
    {
     "name": "stdout",
     "output_type": "stream",
     "text": [
      "[CV]  activation=relu, alpha=0.001, hidden_layer_sizes=200, solver=sgd, score=0.9052631578947369, total=   1.0s\n",
      "[[17  6]\n",
      " [ 7 90]]\n",
      "Rodada: # 0\n",
      "Activation: relu | Alpha: 0.01 | Solver: lbfgs | hidden_layer_sizes: 100\n",
      "Accuracy: 0.8916666666666667\n",
      "Precision: 0.9375\n",
      "Recall: 0.9278350515463918\n",
      "F1-Score: 0.9326424870466321\n",
      "\n",
      "\n",
      "Fitting 5 folds for each of 18 candidates, totalling 90 fits\n",
      "[CV] activation=relu, alpha=0.1, hidden_layer_sizes=100, solver=lbfgs \n",
      "[CV]  activation=relu, alpha=0.1, hidden_layer_sizes=100, solver=lbfgs, score=0.8969072164948454, total=   0.3s\n",
      "[CV] activation=relu, alpha=0.1, hidden_layer_sizes=100, solver=lbfgs \n"
     ]
    },
    {
     "name": "stderr",
     "output_type": "stream",
     "text": [
      "[Parallel(n_jobs=1)]: Done   1 out of   1 | elapsed:    0.3s remaining:    0.0s\n"
     ]
    },
    {
     "name": "stdout",
     "output_type": "stream",
     "text": [
      "[CV]  activation=relu, alpha=0.1, hidden_layer_sizes=100, solver=lbfgs, score=0.9381443298969072, total=   0.3s\n",
      "[CV] activation=relu, alpha=0.1, hidden_layer_sizes=100, solver=lbfgs \n"
     ]
    },
    {
     "name": "stderr",
     "output_type": "stream",
     "text": [
      "[Parallel(n_jobs=1)]: Done   2 out of   2 | elapsed:    0.7s remaining:    0.0s\n"
     ]
    },
    {
     "name": "stdout",
     "output_type": "stream",
     "text": [
      "[CV]  activation=relu, alpha=0.1, hidden_layer_sizes=100, solver=lbfgs, score=0.875, total=   0.6s\n",
      "[CV] activation=relu, alpha=0.1, hidden_layer_sizes=100, solver=lbfgs \n"
     ]
    },
    {
     "name": "stderr",
     "output_type": "stream",
     "text": [
      "[Parallel(n_jobs=1)]: Done   3 out of   3 | elapsed:    1.4s remaining:    0.0s\n"
     ]
    },
    {
     "name": "stdout",
     "output_type": "stream",
     "text": [
      "[CV]  activation=relu, alpha=0.1, hidden_layer_sizes=100, solver=lbfgs, score=0.9263157894736842, total=   0.3s\n",
      "[CV] activation=relu, alpha=0.1, hidden_layer_sizes=100, solver=lbfgs \n"
     ]
    },
    {
     "name": "stderr",
     "output_type": "stream",
     "text": [
      "[Parallel(n_jobs=1)]: Done   4 out of   4 | elapsed:    1.8s remaining:    0.0s\n"
     ]
    },
    {
     "name": "stdout",
     "output_type": "stream",
     "text": [
      "[CV]  activation=relu, alpha=0.1, hidden_layer_sizes=100, solver=lbfgs, score=0.8631578947368421, total=   0.6s\n",
      "[CV] activation=relu, alpha=0.1, hidden_layer_sizes=100, solver=sgd ..\n"
     ]
    },
    {
     "name": "stderr",
     "output_type": "stream",
     "text": [
      "[Parallel(n_jobs=1)]: Done   5 out of   5 | elapsed:    2.6s remaining:    0.0s\n",
      "C:\\Users\\fadell\\Anaconda3\\lib\\site-packages\\sklearn\\neural_network\\multilayer_perceptron.py:564: ConvergenceWarning: Stochastic Optimizer: Maximum iterations (200) reached and the optimization hasn't converged yet.\n",
      "  % self.max_iter, ConvergenceWarning)\n",
      "[Parallel(n_jobs=1)]: Done   6 out of   6 | elapsed:    3.3s remaining:    0.0s\n"
     ]
    },
    {
     "name": "stdout",
     "output_type": "stream",
     "text": [
      "[CV]  activation=relu, alpha=0.1, hidden_layer_sizes=100, solver=sgd, score=0.8969072164948454, total=   0.6s\n",
      "[CV] activation=relu, alpha=0.1, hidden_layer_sizes=100, solver=sgd ..\n"
     ]
    },
    {
     "name": "stderr",
     "output_type": "stream",
     "text": [
      "C:\\Users\\fadell\\Anaconda3\\lib\\site-packages\\sklearn\\neural_network\\multilayer_perceptron.py:564: ConvergenceWarning: Stochastic Optimizer: Maximum iterations (200) reached and the optimization hasn't converged yet.\n",
      "  % self.max_iter, ConvergenceWarning)\n",
      "[Parallel(n_jobs=1)]: Done   7 out of   7 | elapsed:    4.3s remaining:    0.0s\n"
     ]
    },
    {
     "name": "stdout",
     "output_type": "stream",
     "text": [
      "[CV]  activation=relu, alpha=0.1, hidden_layer_sizes=100, solver=sgd, score=0.8865979381443299, total=   0.9s\n",
      "[CV] activation=relu, alpha=0.1, hidden_layer_sizes=100, solver=sgd ..\n"
     ]
    },
    {
     "name": "stderr",
     "output_type": "stream",
     "text": [
      "C:\\Users\\fadell\\Anaconda3\\lib\\site-packages\\sklearn\\neural_network\\multilayer_perceptron.py:564: ConvergenceWarning: Stochastic Optimizer: Maximum iterations (200) reached and the optimization hasn't converged yet.\n",
      "  % self.max_iter, ConvergenceWarning)\n",
      "[Parallel(n_jobs=1)]: Done   8 out of   8 | elapsed:    4.9s remaining:    0.0s\n"
     ]
    },
    {
     "name": "stdout",
     "output_type": "stream",
     "text": [
      "[CV]  activation=relu, alpha=0.1, hidden_layer_sizes=100, solver=sgd, score=0.78125, total=   0.4s\n",
      "[CV] activation=relu, alpha=0.1, hidden_layer_sizes=100, solver=sgd ..\n"
     ]
    },
    {
     "name": "stderr",
     "output_type": "stream",
     "text": [
      "C:\\Users\\fadell\\Anaconda3\\lib\\site-packages\\sklearn\\neural_network\\multilayer_perceptron.py:564: ConvergenceWarning: Stochastic Optimizer: Maximum iterations (200) reached and the optimization hasn't converged yet.\n",
      "  % self.max_iter, ConvergenceWarning)\n",
      "[Parallel(n_jobs=1)]: Done   9 out of   9 | elapsed:    6.1s remaining:    0.0s\n"
     ]
    },
    {
     "name": "stdout",
     "output_type": "stream",
     "text": [
      "[CV]  activation=relu, alpha=0.1, hidden_layer_sizes=100, solver=sgd, score=0.9052631578947369, total=   1.1s\n",
      "[CV] activation=relu, alpha=0.1, hidden_layer_sizes=100, solver=sgd ..\n"
     ]
    },
    {
     "name": "stderr",
     "output_type": "stream",
     "text": [
      "C:\\Users\\fadell\\Anaconda3\\lib\\site-packages\\sklearn\\neural_network\\multilayer_perceptron.py:564: ConvergenceWarning: Stochastic Optimizer: Maximum iterations (200) reached and the optimization hasn't converged yet.\n",
      "  % self.max_iter, ConvergenceWarning)\n"
     ]
    },
    {
     "name": "stdout",
     "output_type": "stream",
     "text": [
      "[CV]  activation=relu, alpha=0.1, hidden_layer_sizes=100, solver=sgd, score=0.8631578947368421, total=   1.0s\n",
      "[CV] activation=relu, alpha=0.1, hidden_layer_sizes=150, solver=lbfgs \n",
      "[CV]  activation=relu, alpha=0.1, hidden_layer_sizes=150, solver=lbfgs, score=0.9072164948453608, total=   0.5s\n",
      "[CV] activation=relu, alpha=0.1, hidden_layer_sizes=150, solver=lbfgs \n",
      "[CV]  activation=relu, alpha=0.1, hidden_layer_sizes=150, solver=lbfgs, score=0.9484536082474226, total=   0.9s\n",
      "[CV] activation=relu, alpha=0.1, hidden_layer_sizes=150, solver=lbfgs \n",
      "[CV]  activation=relu, alpha=0.1, hidden_layer_sizes=150, solver=lbfgs, score=0.875, total=   0.9s\n",
      "[CV] activation=relu, alpha=0.1, hidden_layer_sizes=150, solver=lbfgs \n",
      "[CV]  activation=relu, alpha=0.1, hidden_layer_sizes=150, solver=lbfgs, score=0.9263157894736842, total=   0.4s\n",
      "[CV] activation=relu, alpha=0.1, hidden_layer_sizes=150, solver=lbfgs \n",
      "[CV]  activation=relu, alpha=0.1, hidden_layer_sizes=150, solver=lbfgs, score=0.8421052631578947, total=   0.8s\n",
      "[CV] activation=relu, alpha=0.1, hidden_layer_sizes=150, solver=sgd ..\n"
     ]
    },
    {
     "name": "stderr",
     "output_type": "stream",
     "text": [
      "C:\\Users\\fadell\\Anaconda3\\lib\\site-packages\\sklearn\\neural_network\\multilayer_perceptron.py:564: ConvergenceWarning: Stochastic Optimizer: Maximum iterations (200) reached and the optimization hasn't converged yet.\n",
      "  % self.max_iter, ConvergenceWarning)\n"
     ]
    },
    {
     "name": "stdout",
     "output_type": "stream",
     "text": [
      "[CV]  activation=relu, alpha=0.1, hidden_layer_sizes=150, solver=sgd, score=0.9072164948453608, total=   0.6s\n",
      "[CV] activation=relu, alpha=0.1, hidden_layer_sizes=150, solver=sgd ..\n"
     ]
    },
    {
     "name": "stderr",
     "output_type": "stream",
     "text": [
      "C:\\Users\\fadell\\Anaconda3\\lib\\site-packages\\sklearn\\neural_network\\multilayer_perceptron.py:564: ConvergenceWarning: Stochastic Optimizer: Maximum iterations (200) reached and the optimization hasn't converged yet.\n",
      "  % self.max_iter, ConvergenceWarning)\n"
     ]
    },
    {
     "name": "stdout",
     "output_type": "stream",
     "text": [
      "[CV]  activation=relu, alpha=0.1, hidden_layer_sizes=150, solver=sgd, score=0.8865979381443299, total=   1.1s\n",
      "[CV] activation=relu, alpha=0.1, hidden_layer_sizes=150, solver=sgd ..\n"
     ]
    },
    {
     "name": "stderr",
     "output_type": "stream",
     "text": [
      "C:\\Users\\fadell\\Anaconda3\\lib\\site-packages\\sklearn\\neural_network\\multilayer_perceptron.py:564: ConvergenceWarning: Stochastic Optimizer: Maximum iterations (200) reached and the optimization hasn't converged yet.\n",
      "  % self.max_iter, ConvergenceWarning)\n"
     ]
    },
    {
     "name": "stdout",
     "output_type": "stream",
     "text": [
      "[CV]  activation=relu, alpha=0.1, hidden_layer_sizes=150, solver=sgd, score=0.7708333333333334, total=   1.1s\n",
      "[CV] activation=relu, alpha=0.1, hidden_layer_sizes=150, solver=sgd ..\n"
     ]
    },
    {
     "name": "stderr",
     "output_type": "stream",
     "text": [
      "C:\\Users\\fadell\\Anaconda3\\lib\\site-packages\\sklearn\\neural_network\\multilayer_perceptron.py:564: ConvergenceWarning: Stochastic Optimizer: Maximum iterations (200) reached and the optimization hasn't converged yet.\n",
      "  % self.max_iter, ConvergenceWarning)\n"
     ]
    },
    {
     "name": "stdout",
     "output_type": "stream",
     "text": [
      "[CV]  activation=relu, alpha=0.1, hidden_layer_sizes=150, solver=sgd, score=0.9157894736842105, total=   1.1s\n",
      "[CV] activation=relu, alpha=0.1, hidden_layer_sizes=150, solver=sgd ..\n"
     ]
    },
    {
     "name": "stderr",
     "output_type": "stream",
     "text": [
      "C:\\Users\\fadell\\Anaconda3\\lib\\site-packages\\sklearn\\neural_network\\multilayer_perceptron.py:564: ConvergenceWarning: Stochastic Optimizer: Maximum iterations (200) reached and the optimization hasn't converged yet.\n",
      "  % self.max_iter, ConvergenceWarning)\n"
     ]
    },
    {
     "name": "stdout",
     "output_type": "stream",
     "text": [
      "[CV]  activation=relu, alpha=0.1, hidden_layer_sizes=150, solver=sgd, score=0.8631578947368421, total=   0.7s\n",
      "[CV] activation=relu, alpha=0.1, hidden_layer_sizes=200, solver=lbfgs \n",
      "[CV]  activation=relu, alpha=0.1, hidden_layer_sizes=200, solver=lbfgs, score=0.8969072164948454, total=   1.0s\n",
      "[CV] activation=relu, alpha=0.1, hidden_layer_sizes=200, solver=lbfgs \n",
      "[CV]  activation=relu, alpha=0.1, hidden_layer_sizes=200, solver=lbfgs, score=0.9484536082474226, total=   0.9s\n",
      "[CV] activation=relu, alpha=0.1, hidden_layer_sizes=200, solver=lbfgs \n",
      "[CV]  activation=relu, alpha=0.1, hidden_layer_sizes=200, solver=lbfgs, score=0.875, total=   0.6s\n",
      "[CV] activation=relu, alpha=0.1, hidden_layer_sizes=200, solver=lbfgs \n",
      "[CV]  activation=relu, alpha=0.1, hidden_layer_sizes=200, solver=lbfgs, score=0.9473684210526315, total=   0.9s\n",
      "[CV] activation=relu, alpha=0.1, hidden_layer_sizes=200, solver=lbfgs \n",
      "[CV]  activation=relu, alpha=0.1, hidden_layer_sizes=200, solver=lbfgs, score=0.8736842105263158, total=   0.9s\n",
      "[CV] activation=relu, alpha=0.1, hidden_layer_sizes=200, solver=sgd ..\n"
     ]
    },
    {
     "name": "stderr",
     "output_type": "stream",
     "text": [
      "C:\\Users\\fadell\\Anaconda3\\lib\\site-packages\\sklearn\\neural_network\\multilayer_perceptron.py:564: ConvergenceWarning: Stochastic Optimizer: Maximum iterations (200) reached and the optimization hasn't converged yet.\n",
      "  % self.max_iter, ConvergenceWarning)\n"
     ]
    },
    {
     "name": "stdout",
     "output_type": "stream",
     "text": [
      "[CV]  activation=relu, alpha=0.1, hidden_layer_sizes=200, solver=sgd, score=0.8969072164948454, total=   0.7s\n",
      "[CV] activation=relu, alpha=0.1, hidden_layer_sizes=200, solver=sgd ..\n"
     ]
    },
    {
     "name": "stderr",
     "output_type": "stream",
     "text": [
      "C:\\Users\\fadell\\Anaconda3\\lib\\site-packages\\sklearn\\neural_network\\multilayer_perceptron.py:564: ConvergenceWarning: Stochastic Optimizer: Maximum iterations (200) reached and the optimization hasn't converged yet.\n",
      "  % self.max_iter, ConvergenceWarning)\n"
     ]
    },
    {
     "name": "stdout",
     "output_type": "stream",
     "text": [
      "[CV]  activation=relu, alpha=0.1, hidden_layer_sizes=200, solver=sgd, score=0.9072164948453608, total=   1.0s\n",
      "[CV] activation=relu, alpha=0.1, hidden_layer_sizes=200, solver=sgd ..\n"
     ]
    },
    {
     "name": "stderr",
     "output_type": "stream",
     "text": [
      "C:\\Users\\fadell\\Anaconda3\\lib\\site-packages\\sklearn\\neural_network\\multilayer_perceptron.py:564: ConvergenceWarning: Stochastic Optimizer: Maximum iterations (200) reached and the optimization hasn't converged yet.\n",
      "  % self.max_iter, ConvergenceWarning)\n"
     ]
    },
    {
     "name": "stdout",
     "output_type": "stream",
     "text": [
      "[CV]  activation=relu, alpha=0.1, hidden_layer_sizes=200, solver=sgd, score=0.7708333333333334, total=   1.3s\n",
      "[CV] activation=relu, alpha=0.1, hidden_layer_sizes=200, solver=sgd ..\n"
     ]
    },
    {
     "name": "stderr",
     "output_type": "stream",
     "text": [
      "C:\\Users\\fadell\\Anaconda3\\lib\\site-packages\\sklearn\\neural_network\\multilayer_perceptron.py:564: ConvergenceWarning: Stochastic Optimizer: Maximum iterations (200) reached and the optimization hasn't converged yet.\n",
      "  % self.max_iter, ConvergenceWarning)\n"
     ]
    },
    {
     "name": "stdout",
     "output_type": "stream",
     "text": [
      "[CV]  activation=relu, alpha=0.1, hidden_layer_sizes=200, solver=sgd, score=0.9157894736842105, total=   1.1s\n",
      "[CV] activation=relu, alpha=0.1, hidden_layer_sizes=200, solver=sgd ..\n"
     ]
    },
    {
     "name": "stderr",
     "output_type": "stream",
     "text": [
      "C:\\Users\\fadell\\Anaconda3\\lib\\site-packages\\sklearn\\neural_network\\multilayer_perceptron.py:564: ConvergenceWarning: Stochastic Optimizer: Maximum iterations (200) reached and the optimization hasn't converged yet.\n",
      "  % self.max_iter, ConvergenceWarning)\n"
     ]
    },
    {
     "name": "stdout",
     "output_type": "stream",
     "text": [
      "[CV]  activation=relu, alpha=0.1, hidden_layer_sizes=200, solver=sgd, score=0.8842105263157894, total=   1.2s\n",
      "[CV] activation=relu, alpha=0.01, hidden_layer_sizes=100, solver=lbfgs \n",
      "[CV]  activation=relu, alpha=0.01, hidden_layer_sizes=100, solver=lbfgs, score=0.8865979381443299, total=   0.3s\n",
      "[CV] activation=relu, alpha=0.01, hidden_layer_sizes=100, solver=lbfgs \n",
      "[CV]  activation=relu, alpha=0.01, hidden_layer_sizes=100, solver=lbfgs, score=0.9381443298969072, total=   0.8s\n",
      "[CV] activation=relu, alpha=0.01, hidden_layer_sizes=100, solver=lbfgs \n",
      "[CV]  activation=relu, alpha=0.01, hidden_layer_sizes=100, solver=lbfgs, score=0.8854166666666666, total=   0.6s\n",
      "[CV] activation=relu, alpha=0.01, hidden_layer_sizes=100, solver=lbfgs \n",
      "[CV]  activation=relu, alpha=0.01, hidden_layer_sizes=100, solver=lbfgs, score=0.8947368421052632, total=   0.5s\n",
      "[CV] activation=relu, alpha=0.01, hidden_layer_sizes=100, solver=lbfgs \n",
      "[CV]  activation=relu, alpha=0.01, hidden_layer_sizes=100, solver=lbfgs, score=0.8631578947368421, total=   0.4s\n",
      "[CV] activation=relu, alpha=0.01, hidden_layer_sizes=100, solver=sgd .\n"
     ]
    },
    {
     "name": "stderr",
     "output_type": "stream",
     "text": [
      "C:\\Users\\fadell\\Anaconda3\\lib\\site-packages\\sklearn\\neural_network\\multilayer_perceptron.py:564: ConvergenceWarning: Stochastic Optimizer: Maximum iterations (200) reached and the optimization hasn't converged yet.\n",
      "  % self.max_iter, ConvergenceWarning)\n"
     ]
    },
    {
     "name": "stdout",
     "output_type": "stream",
     "text": [
      "[CV]  activation=relu, alpha=0.01, hidden_layer_sizes=100, solver=sgd, score=0.8969072164948454, total=   0.7s\n",
      "[CV] activation=relu, alpha=0.01, hidden_layer_sizes=100, solver=sgd .\n"
     ]
    },
    {
     "name": "stderr",
     "output_type": "stream",
     "text": [
      "C:\\Users\\fadell\\Anaconda3\\lib\\site-packages\\sklearn\\neural_network\\multilayer_perceptron.py:564: ConvergenceWarning: Stochastic Optimizer: Maximum iterations (200) reached and the optimization hasn't converged yet.\n",
      "  % self.max_iter, ConvergenceWarning)\n"
     ]
    },
    {
     "name": "stdout",
     "output_type": "stream",
     "text": [
      "[CV]  activation=relu, alpha=0.01, hidden_layer_sizes=100, solver=sgd, score=0.8865979381443299, total=   0.4s\n",
      "[CV] activation=relu, alpha=0.01, hidden_layer_sizes=100, solver=sgd .\n"
     ]
    },
    {
     "name": "stderr",
     "output_type": "stream",
     "text": [
      "C:\\Users\\fadell\\Anaconda3\\lib\\site-packages\\sklearn\\neural_network\\multilayer_perceptron.py:564: ConvergenceWarning: Stochastic Optimizer: Maximum iterations (200) reached and the optimization hasn't converged yet.\n",
      "  % self.max_iter, ConvergenceWarning)\n"
     ]
    },
    {
     "name": "stdout",
     "output_type": "stream",
     "text": [
      "[CV]  activation=relu, alpha=0.01, hidden_layer_sizes=100, solver=sgd, score=0.78125, total=   0.8s\n",
      "[CV] activation=relu, alpha=0.01, hidden_layer_sizes=100, solver=sgd .\n"
     ]
    },
    {
     "name": "stderr",
     "output_type": "stream",
     "text": [
      "C:\\Users\\fadell\\Anaconda3\\lib\\site-packages\\sklearn\\neural_network\\multilayer_perceptron.py:564: ConvergenceWarning: Stochastic Optimizer: Maximum iterations (200) reached and the optimization hasn't converged yet.\n",
      "  % self.max_iter, ConvergenceWarning)\n"
     ]
    },
    {
     "name": "stdout",
     "output_type": "stream",
     "text": [
      "[CV]  activation=relu, alpha=0.01, hidden_layer_sizes=100, solver=sgd, score=0.9052631578947369, total=   0.4s\n",
      "[CV] activation=relu, alpha=0.01, hidden_layer_sizes=100, solver=sgd .\n"
     ]
    },
    {
     "name": "stderr",
     "output_type": "stream",
     "text": [
      "C:\\Users\\fadell\\Anaconda3\\lib\\site-packages\\sklearn\\neural_network\\multilayer_perceptron.py:564: ConvergenceWarning: Stochastic Optimizer: Maximum iterations (200) reached and the optimization hasn't converged yet.\n",
      "  % self.max_iter, ConvergenceWarning)\n"
     ]
    },
    {
     "name": "stdout",
     "output_type": "stream",
     "text": [
      "[CV]  activation=relu, alpha=0.01, hidden_layer_sizes=100, solver=sgd, score=0.8631578947368421, total=   0.9s\n",
      "[CV] activation=relu, alpha=0.01, hidden_layer_sizes=150, solver=lbfgs \n",
      "[CV]  activation=relu, alpha=0.01, hidden_layer_sizes=150, solver=lbfgs, score=0.8762886597938144, total=   0.9s\n",
      "[CV] activation=relu, alpha=0.01, hidden_layer_sizes=150, solver=lbfgs \n",
      "[CV]  activation=relu, alpha=0.01, hidden_layer_sizes=150, solver=lbfgs, score=0.9484536082474226, total=   0.4s\n",
      "[CV] activation=relu, alpha=0.01, hidden_layer_sizes=150, solver=lbfgs \n",
      "[CV]  activation=relu, alpha=0.01, hidden_layer_sizes=150, solver=lbfgs, score=0.875, total=   0.8s\n",
      "[CV] activation=relu, alpha=0.01, hidden_layer_sizes=150, solver=lbfgs \n",
      "[CV]  activation=relu, alpha=0.01, hidden_layer_sizes=150, solver=lbfgs, score=0.9157894736842105, total=   0.5s\n",
      "[CV] activation=relu, alpha=0.01, hidden_layer_sizes=150, solver=lbfgs \n",
      "[CV]  activation=relu, alpha=0.01, hidden_layer_sizes=150, solver=lbfgs, score=0.8526315789473684, total=   0.7s\n",
      "[CV] activation=relu, alpha=0.01, hidden_layer_sizes=150, solver=sgd .\n"
     ]
    },
    {
     "name": "stderr",
     "output_type": "stream",
     "text": [
      "C:\\Users\\fadell\\Anaconda3\\lib\\site-packages\\sklearn\\neural_network\\multilayer_perceptron.py:564: ConvergenceWarning: Stochastic Optimizer: Maximum iterations (200) reached and the optimization hasn't converged yet.\n",
      "  % self.max_iter, ConvergenceWarning)\n"
     ]
    },
    {
     "name": "stdout",
     "output_type": "stream",
     "text": [
      "[CV]  activation=relu, alpha=0.01, hidden_layer_sizes=150, solver=sgd, score=0.9072164948453608, total=   0.6s\n",
      "[CV] activation=relu, alpha=0.01, hidden_layer_sizes=150, solver=sgd .\n"
     ]
    },
    {
     "name": "stderr",
     "output_type": "stream",
     "text": [
      "C:\\Users\\fadell\\Anaconda3\\lib\\site-packages\\sklearn\\neural_network\\multilayer_perceptron.py:564: ConvergenceWarning: Stochastic Optimizer: Maximum iterations (200) reached and the optimization hasn't converged yet.\n",
      "  % self.max_iter, ConvergenceWarning)\n"
     ]
    },
    {
     "name": "stdout",
     "output_type": "stream",
     "text": [
      "[CV]  activation=relu, alpha=0.01, hidden_layer_sizes=150, solver=sgd, score=0.8865979381443299, total=   1.0s\n",
      "[CV] activation=relu, alpha=0.01, hidden_layer_sizes=150, solver=sgd .\n"
     ]
    },
    {
     "name": "stderr",
     "output_type": "stream",
     "text": [
      "C:\\Users\\fadell\\Anaconda3\\lib\\site-packages\\sklearn\\neural_network\\multilayer_perceptron.py:564: ConvergenceWarning: Stochastic Optimizer: Maximum iterations (200) reached and the optimization hasn't converged yet.\n",
      "  % self.max_iter, ConvergenceWarning)\n"
     ]
    },
    {
     "name": "stdout",
     "output_type": "stream",
     "text": [
      "[CV]  activation=relu, alpha=0.01, hidden_layer_sizes=150, solver=sgd, score=0.7708333333333334, total=   1.1s\n",
      "[CV] activation=relu, alpha=0.01, hidden_layer_sizes=150, solver=sgd .\n"
     ]
    },
    {
     "name": "stderr",
     "output_type": "stream",
     "text": [
      "C:\\Users\\fadell\\Anaconda3\\lib\\site-packages\\sklearn\\neural_network\\multilayer_perceptron.py:564: ConvergenceWarning: Stochastic Optimizer: Maximum iterations (200) reached and the optimization hasn't converged yet.\n",
      "  % self.max_iter, ConvergenceWarning)\n"
     ]
    },
    {
     "name": "stdout",
     "output_type": "stream",
     "text": [
      "[CV]  activation=relu, alpha=0.01, hidden_layer_sizes=150, solver=sgd, score=0.9157894736842105, total=   1.0s\n",
      "[CV] activation=relu, alpha=0.01, hidden_layer_sizes=150, solver=sgd .\n"
     ]
    },
    {
     "name": "stderr",
     "output_type": "stream",
     "text": [
      "C:\\Users\\fadell\\Anaconda3\\lib\\site-packages\\sklearn\\neural_network\\multilayer_perceptron.py:564: ConvergenceWarning: Stochastic Optimizer: Maximum iterations (200) reached and the optimization hasn't converged yet.\n",
      "  % self.max_iter, ConvergenceWarning)\n"
     ]
    },
    {
     "name": "stdout",
     "output_type": "stream",
     "text": [
      "[CV]  activation=relu, alpha=0.01, hidden_layer_sizes=150, solver=sgd, score=0.8631578947368421, total=   0.6s\n",
      "[CV] activation=relu, alpha=0.01, hidden_layer_sizes=200, solver=lbfgs \n",
      "[CV]  activation=relu, alpha=0.01, hidden_layer_sizes=200, solver=lbfgs, score=0.8762886597938144, total=   1.2s\n",
      "[CV] activation=relu, alpha=0.01, hidden_layer_sizes=200, solver=lbfgs \n",
      "[CV]  activation=relu, alpha=0.01, hidden_layer_sizes=200, solver=lbfgs, score=0.9381443298969072, total=   1.1s\n",
      "[CV] activation=relu, alpha=0.01, hidden_layer_sizes=200, solver=lbfgs \n",
      "[CV]  activation=relu, alpha=0.01, hidden_layer_sizes=200, solver=lbfgs, score=0.8645833333333334, total=   1.1s\n",
      "[CV] activation=relu, alpha=0.01, hidden_layer_sizes=200, solver=lbfgs \n",
      "[CV]  activation=relu, alpha=0.01, hidden_layer_sizes=200, solver=lbfgs, score=0.9368421052631579, total=   1.0s\n",
      "[CV] activation=relu, alpha=0.01, hidden_layer_sizes=200, solver=lbfgs \n",
      "[CV]  activation=relu, alpha=0.01, hidden_layer_sizes=200, solver=lbfgs, score=0.8631578947368421, total=   1.2s\n",
      "[CV] activation=relu, alpha=0.01, hidden_layer_sizes=200, solver=sgd .\n"
     ]
    },
    {
     "name": "stderr",
     "output_type": "stream",
     "text": [
      "C:\\Users\\fadell\\Anaconda3\\lib\\site-packages\\sklearn\\neural_network\\multilayer_perceptron.py:564: ConvergenceWarning: Stochastic Optimizer: Maximum iterations (200) reached and the optimization hasn't converged yet.\n",
      "  % self.max_iter, ConvergenceWarning)\n"
     ]
    },
    {
     "name": "stdout",
     "output_type": "stream",
     "text": [
      "[CV]  activation=relu, alpha=0.01, hidden_layer_sizes=200, solver=sgd, score=0.8969072164948454, total=   1.2s\n",
      "[CV] activation=relu, alpha=0.01, hidden_layer_sizes=200, solver=sgd .\n"
     ]
    },
    {
     "name": "stderr",
     "output_type": "stream",
     "text": [
      "C:\\Users\\fadell\\Anaconda3\\lib\\site-packages\\sklearn\\neural_network\\multilayer_perceptron.py:564: ConvergenceWarning: Stochastic Optimizer: Maximum iterations (200) reached and the optimization hasn't converged yet.\n",
      "  % self.max_iter, ConvergenceWarning)\n"
     ]
    },
    {
     "name": "stdout",
     "output_type": "stream",
     "text": [
      "[CV]  activation=relu, alpha=0.01, hidden_layer_sizes=200, solver=sgd, score=0.9072164948453608, total=   0.9s\n",
      "[CV] activation=relu, alpha=0.01, hidden_layer_sizes=200, solver=sgd .\n"
     ]
    },
    {
     "name": "stderr",
     "output_type": "stream",
     "text": [
      "C:\\Users\\fadell\\Anaconda3\\lib\\site-packages\\sklearn\\neural_network\\multilayer_perceptron.py:564: ConvergenceWarning: Stochastic Optimizer: Maximum iterations (200) reached and the optimization hasn't converged yet.\n",
      "  % self.max_iter, ConvergenceWarning)\n"
     ]
    },
    {
     "name": "stdout",
     "output_type": "stream",
     "text": [
      "[CV]  activation=relu, alpha=0.01, hidden_layer_sizes=200, solver=sgd, score=0.7708333333333334, total=   0.8s\n",
      "[CV] activation=relu, alpha=0.01, hidden_layer_sizes=200, solver=sgd .\n"
     ]
    },
    {
     "name": "stderr",
     "output_type": "stream",
     "text": [
      "C:\\Users\\fadell\\Anaconda3\\lib\\site-packages\\sklearn\\neural_network\\multilayer_perceptron.py:564: ConvergenceWarning: Stochastic Optimizer: Maximum iterations (200) reached and the optimization hasn't converged yet.\n",
      "  % self.max_iter, ConvergenceWarning)\n"
     ]
    },
    {
     "name": "stdout",
     "output_type": "stream",
     "text": [
      "[CV]  activation=relu, alpha=0.01, hidden_layer_sizes=200, solver=sgd, score=0.9157894736842105, total=   1.0s\n",
      "[CV] activation=relu, alpha=0.01, hidden_layer_sizes=200, solver=sgd .\n"
     ]
    },
    {
     "name": "stderr",
     "output_type": "stream",
     "text": [
      "C:\\Users\\fadell\\Anaconda3\\lib\\site-packages\\sklearn\\neural_network\\multilayer_perceptron.py:564: ConvergenceWarning: Stochastic Optimizer: Maximum iterations (200) reached and the optimization hasn't converged yet.\n",
      "  % self.max_iter, ConvergenceWarning)\n"
     ]
    },
    {
     "name": "stdout",
     "output_type": "stream",
     "text": [
      "[CV]  activation=relu, alpha=0.01, hidden_layer_sizes=200, solver=sgd, score=0.8842105263157894, total=   1.0s\n",
      "[CV] activation=relu, alpha=0.001, hidden_layer_sizes=100, solver=lbfgs \n",
      "[CV]  activation=relu, alpha=0.001, hidden_layer_sizes=100, solver=lbfgs, score=0.8865979381443299, total=   0.3s\n",
      "[CV] activation=relu, alpha=0.001, hidden_layer_sizes=100, solver=lbfgs \n",
      "[CV]  activation=relu, alpha=0.001, hidden_layer_sizes=100, solver=lbfgs, score=0.9175257731958762, total=   0.7s\n",
      "[CV] activation=relu, alpha=0.001, hidden_layer_sizes=100, solver=lbfgs \n",
      "[CV]  activation=relu, alpha=0.001, hidden_layer_sizes=100, solver=lbfgs, score=0.875, total=   0.4s\n",
      "[CV] activation=relu, alpha=0.001, hidden_layer_sizes=100, solver=lbfgs \n",
      "[CV]  activation=relu, alpha=0.001, hidden_layer_sizes=100, solver=lbfgs, score=0.8631578947368421, total=   0.6s\n",
      "[CV] activation=relu, alpha=0.001, hidden_layer_sizes=100, solver=lbfgs \n",
      "[CV]  activation=relu, alpha=0.001, hidden_layer_sizes=100, solver=lbfgs, score=0.8631578947368421, total=   0.4s\n",
      "[CV] activation=relu, alpha=0.001, hidden_layer_sizes=100, solver=sgd \n"
     ]
    },
    {
     "name": "stderr",
     "output_type": "stream",
     "text": [
      "C:\\Users\\fadell\\Anaconda3\\lib\\site-packages\\sklearn\\neural_network\\multilayer_perceptron.py:564: ConvergenceWarning: Stochastic Optimizer: Maximum iterations (200) reached and the optimization hasn't converged yet.\n",
      "  % self.max_iter, ConvergenceWarning)\n"
     ]
    },
    {
     "name": "stdout",
     "output_type": "stream",
     "text": [
      "[CV]  activation=relu, alpha=0.001, hidden_layer_sizes=100, solver=sgd, score=0.8969072164948454, total=   0.4s\n",
      "[CV] activation=relu, alpha=0.001, hidden_layer_sizes=100, solver=sgd \n"
     ]
    },
    {
     "name": "stderr",
     "output_type": "stream",
     "text": [
      "C:\\Users\\fadell\\Anaconda3\\lib\\site-packages\\sklearn\\neural_network\\multilayer_perceptron.py:564: ConvergenceWarning: Stochastic Optimizer: Maximum iterations (200) reached and the optimization hasn't converged yet.\n",
      "  % self.max_iter, ConvergenceWarning)\n"
     ]
    },
    {
     "name": "stdout",
     "output_type": "stream",
     "text": [
      "[CV]  activation=relu, alpha=0.001, hidden_layer_sizes=100, solver=sgd, score=0.8865979381443299, total=   0.7s\n",
      "[CV] activation=relu, alpha=0.001, hidden_layer_sizes=100, solver=sgd \n"
     ]
    },
    {
     "name": "stderr",
     "output_type": "stream",
     "text": [
      "C:\\Users\\fadell\\Anaconda3\\lib\\site-packages\\sklearn\\neural_network\\multilayer_perceptron.py:564: ConvergenceWarning: Stochastic Optimizer: Maximum iterations (200) reached and the optimization hasn't converged yet.\n",
      "  % self.max_iter, ConvergenceWarning)\n"
     ]
    },
    {
     "name": "stdout",
     "output_type": "stream",
     "text": [
      "[CV]  activation=relu, alpha=0.001, hidden_layer_sizes=100, solver=sgd, score=0.78125, total=   0.4s\n",
      "[CV] activation=relu, alpha=0.001, hidden_layer_sizes=100, solver=sgd \n"
     ]
    },
    {
     "name": "stderr",
     "output_type": "stream",
     "text": [
      "C:\\Users\\fadell\\Anaconda3\\lib\\site-packages\\sklearn\\neural_network\\multilayer_perceptron.py:564: ConvergenceWarning: Stochastic Optimizer: Maximum iterations (200) reached and the optimization hasn't converged yet.\n",
      "  % self.max_iter, ConvergenceWarning)\n"
     ]
    },
    {
     "name": "stdout",
     "output_type": "stream",
     "text": [
      "[CV]  activation=relu, alpha=0.001, hidden_layer_sizes=100, solver=sgd, score=0.9052631578947369, total=   0.7s\n",
      "[CV] activation=relu, alpha=0.001, hidden_layer_sizes=100, solver=sgd \n"
     ]
    },
    {
     "name": "stderr",
     "output_type": "stream",
     "text": [
      "C:\\Users\\fadell\\Anaconda3\\lib\\site-packages\\sklearn\\neural_network\\multilayer_perceptron.py:564: ConvergenceWarning: Stochastic Optimizer: Maximum iterations (200) reached and the optimization hasn't converged yet.\n",
      "  % self.max_iter, ConvergenceWarning)\n"
     ]
    },
    {
     "name": "stdout",
     "output_type": "stream",
     "text": [
      "[CV]  activation=relu, alpha=0.001, hidden_layer_sizes=100, solver=sgd, score=0.8631578947368421, total=   0.4s\n",
      "[CV] activation=relu, alpha=0.001, hidden_layer_sizes=150, solver=lbfgs \n",
      "[CV]  activation=relu, alpha=0.001, hidden_layer_sizes=150, solver=lbfgs, score=0.8556701030927835, total=   0.7s\n",
      "[CV] activation=relu, alpha=0.001, hidden_layer_sizes=150, solver=lbfgs \n",
      "[CV]  activation=relu, alpha=0.001, hidden_layer_sizes=150, solver=lbfgs, score=0.9381443298969072, total=   0.5s\n",
      "[CV] activation=relu, alpha=0.001, hidden_layer_sizes=150, solver=lbfgs \n",
      "[CV]  activation=relu, alpha=0.001, hidden_layer_sizes=150, solver=lbfgs, score=0.8854166666666666, total=   0.8s\n",
      "[CV] activation=relu, alpha=0.001, hidden_layer_sizes=150, solver=lbfgs \n",
      "[CV]  activation=relu, alpha=0.001, hidden_layer_sizes=150, solver=lbfgs, score=0.8947368421052632, total=   0.7s\n",
      "[CV] activation=relu, alpha=0.001, hidden_layer_sizes=150, solver=lbfgs \n",
      "[CV]  activation=relu, alpha=0.001, hidden_layer_sizes=150, solver=lbfgs, score=0.8631578947368421, total=   0.4s\n",
      "[CV] activation=relu, alpha=0.001, hidden_layer_sizes=150, solver=sgd \n"
     ]
    },
    {
     "name": "stderr",
     "output_type": "stream",
     "text": [
      "C:\\Users\\fadell\\Anaconda3\\lib\\site-packages\\sklearn\\neural_network\\multilayer_perceptron.py:564: ConvergenceWarning: Stochastic Optimizer: Maximum iterations (200) reached and the optimization hasn't converged yet.\n",
      "  % self.max_iter, ConvergenceWarning)\n"
     ]
    },
    {
     "name": "stdout",
     "output_type": "stream",
     "text": [
      "[CV]  activation=relu, alpha=0.001, hidden_layer_sizes=150, solver=sgd, score=0.9072164948453608, total=   0.9s\n",
      "[CV] activation=relu, alpha=0.001, hidden_layer_sizes=150, solver=sgd \n"
     ]
    },
    {
     "name": "stderr",
     "output_type": "stream",
     "text": [
      "C:\\Users\\fadell\\Anaconda3\\lib\\site-packages\\sklearn\\neural_network\\multilayer_perceptron.py:564: ConvergenceWarning: Stochastic Optimizer: Maximum iterations (200) reached and the optimization hasn't converged yet.\n",
      "  % self.max_iter, ConvergenceWarning)\n"
     ]
    },
    {
     "name": "stdout",
     "output_type": "stream",
     "text": [
      "[CV]  activation=relu, alpha=0.001, hidden_layer_sizes=150, solver=sgd, score=0.8865979381443299, total=   0.6s\n",
      "[CV] activation=relu, alpha=0.001, hidden_layer_sizes=150, solver=sgd \n"
     ]
    },
    {
     "name": "stderr",
     "output_type": "stream",
     "text": [
      "C:\\Users\\fadell\\Anaconda3\\lib\\site-packages\\sklearn\\neural_network\\multilayer_perceptron.py:564: ConvergenceWarning: Stochastic Optimizer: Maximum iterations (200) reached and the optimization hasn't converged yet.\n",
      "  % self.max_iter, ConvergenceWarning)\n"
     ]
    },
    {
     "name": "stdout",
     "output_type": "stream",
     "text": [
      "[CV]  activation=relu, alpha=0.001, hidden_layer_sizes=150, solver=sgd, score=0.7708333333333334, total=   0.9s\n",
      "[CV] activation=relu, alpha=0.001, hidden_layer_sizes=150, solver=sgd \n"
     ]
    },
    {
     "name": "stderr",
     "output_type": "stream",
     "text": [
      "C:\\Users\\fadell\\Anaconda3\\lib\\site-packages\\sklearn\\neural_network\\multilayer_perceptron.py:564: ConvergenceWarning: Stochastic Optimizer: Maximum iterations (200) reached and the optimization hasn't converged yet.\n",
      "  % self.max_iter, ConvergenceWarning)\n"
     ]
    },
    {
     "name": "stdout",
     "output_type": "stream",
     "text": [
      "[CV]  activation=relu, alpha=0.001, hidden_layer_sizes=150, solver=sgd, score=0.9157894736842105, total=   0.9s\n",
      "[CV] activation=relu, alpha=0.001, hidden_layer_sizes=150, solver=sgd \n"
     ]
    },
    {
     "name": "stderr",
     "output_type": "stream",
     "text": [
      "C:\\Users\\fadell\\Anaconda3\\lib\\site-packages\\sklearn\\neural_network\\multilayer_perceptron.py:564: ConvergenceWarning: Stochastic Optimizer: Maximum iterations (200) reached and the optimization hasn't converged yet.\n",
      "  % self.max_iter, ConvergenceWarning)\n"
     ]
    },
    {
     "name": "stdout",
     "output_type": "stream",
     "text": [
      "[CV]  activation=relu, alpha=0.001, hidden_layer_sizes=150, solver=sgd, score=0.8631578947368421, total=   0.6s\n",
      "[CV] activation=relu, alpha=0.001, hidden_layer_sizes=200, solver=lbfgs \n",
      "[CV]  activation=relu, alpha=0.001, hidden_layer_sizes=200, solver=lbfgs, score=0.8865979381443299, total=   0.9s\n",
      "[CV] activation=relu, alpha=0.001, hidden_layer_sizes=200, solver=lbfgs \n",
      "[CV]  activation=relu, alpha=0.001, hidden_layer_sizes=200, solver=lbfgs, score=0.9381443298969072, total=   1.1s\n",
      "[CV] activation=relu, alpha=0.001, hidden_layer_sizes=200, solver=lbfgs \n",
      "[CV]  activation=relu, alpha=0.001, hidden_layer_sizes=200, solver=lbfgs, score=0.8958333333333334, total=   0.7s\n",
      "[CV] activation=relu, alpha=0.001, hidden_layer_sizes=200, solver=lbfgs \n",
      "[CV]  activation=relu, alpha=0.001, hidden_layer_sizes=200, solver=lbfgs, score=0.8947368421052632, total=   1.6s\n",
      "[CV] activation=relu, alpha=0.001, hidden_layer_sizes=200, solver=lbfgs \n",
      "[CV]  activation=relu, alpha=0.001, hidden_layer_sizes=200, solver=lbfgs, score=0.8842105263157894, total=   1.3s\n",
      "[CV] activation=relu, alpha=0.001, hidden_layer_sizes=200, solver=sgd \n"
     ]
    },
    {
     "name": "stderr",
     "output_type": "stream",
     "text": [
      "C:\\Users\\fadell\\Anaconda3\\lib\\site-packages\\sklearn\\neural_network\\multilayer_perceptron.py:564: ConvergenceWarning: Stochastic Optimizer: Maximum iterations (200) reached and the optimization hasn't converged yet.\n",
      "  % self.max_iter, ConvergenceWarning)\n"
     ]
    },
    {
     "name": "stdout",
     "output_type": "stream",
     "text": [
      "[CV]  activation=relu, alpha=0.001, hidden_layer_sizes=200, solver=sgd, score=0.8969072164948454, total=   1.4s\n",
      "[CV] activation=relu, alpha=0.001, hidden_layer_sizes=200, solver=sgd \n"
     ]
    },
    {
     "name": "stderr",
     "output_type": "stream",
     "text": [
      "C:\\Users\\fadell\\Anaconda3\\lib\\site-packages\\sklearn\\neural_network\\multilayer_perceptron.py:564: ConvergenceWarning: Stochastic Optimizer: Maximum iterations (200) reached and the optimization hasn't converged yet.\n",
      "  % self.max_iter, ConvergenceWarning)\n"
     ]
    },
    {
     "name": "stdout",
     "output_type": "stream",
     "text": [
      "[CV]  activation=relu, alpha=0.001, hidden_layer_sizes=200, solver=sgd, score=0.9072164948453608, total=   1.3s\n",
      "[CV] activation=relu, alpha=0.001, hidden_layer_sizes=200, solver=sgd \n"
     ]
    },
    {
     "name": "stderr",
     "output_type": "stream",
     "text": [
      "C:\\Users\\fadell\\Anaconda3\\lib\\site-packages\\sklearn\\neural_network\\multilayer_perceptron.py:564: ConvergenceWarning: Stochastic Optimizer: Maximum iterations (200) reached and the optimization hasn't converged yet.\n",
      "  % self.max_iter, ConvergenceWarning)\n"
     ]
    },
    {
     "name": "stdout",
     "output_type": "stream",
     "text": [
      "[CV]  activation=relu, alpha=0.001, hidden_layer_sizes=200, solver=sgd, score=0.7708333333333334, total=   1.2s\n",
      "[CV] activation=relu, alpha=0.001, hidden_layer_sizes=200, solver=sgd \n"
     ]
    },
    {
     "name": "stderr",
     "output_type": "stream",
     "text": [
      "C:\\Users\\fadell\\Anaconda3\\lib\\site-packages\\sklearn\\neural_network\\multilayer_perceptron.py:564: ConvergenceWarning: Stochastic Optimizer: Maximum iterations (200) reached and the optimization hasn't converged yet.\n",
      "  % self.max_iter, ConvergenceWarning)\n"
     ]
    },
    {
     "name": "stdout",
     "output_type": "stream",
     "text": [
      "[CV]  activation=relu, alpha=0.001, hidden_layer_sizes=200, solver=sgd, score=0.9157894736842105, total=   1.1s\n",
      "[CV] activation=relu, alpha=0.001, hidden_layer_sizes=200, solver=sgd \n"
     ]
    },
    {
     "name": "stderr",
     "output_type": "stream",
     "text": [
      "C:\\Users\\fadell\\Anaconda3\\lib\\site-packages\\sklearn\\neural_network\\multilayer_perceptron.py:564: ConvergenceWarning: Stochastic Optimizer: Maximum iterations (200) reached and the optimization hasn't converged yet.\n",
      "  % self.max_iter, ConvergenceWarning)\n",
      "[Parallel(n_jobs=1)]: Done  90 out of  90 | elapsed:  1.4min finished\n"
     ]
    },
    {
     "name": "stdout",
     "output_type": "stream",
     "text": [
      "[CV]  activation=relu, alpha=0.001, hidden_layer_sizes=200, solver=sgd, score=0.8842105263157894, total=   1.2s\n",
      "[[16 11]\n",
      " [ 2 91]]\n",
      "Rodada: # 1\n",
      "Activation: relu | Alpha: 0.1 | Solver: lbfgs | hidden_layer_sizes: 200\n",
      "Accuracy: 0.8916666666666667\n",
      "Precision: 0.8921568627450981\n",
      "Recall: 0.978494623655914\n",
      "F1-Score: 0.9333333333333333\n",
      "\n",
      "\n",
      "============================================== MLP =================================================\n",
      "=================================== TABELA DE MÉTRICAS DO MODELO ===================================\n",
      "\t Accuracy \t|\t Precision \t|\t Recall \t|\t F1-Score\n",
      "      0.89 +- 0.00             0.91 +- 0.02          0.95 +- 0.03             0.93 +- 0.00\n",
      "====================================================================================================\n"
     ]
    }
   ],
   "source": [
    "# treinando o modelo\n",
    "dict_metricas = treinamento_teste(epocas, k_folds, exibir_matriz_confusao, exibir_metricas)\n",
    "tabelaMetricas('MLP',dict_metricas)"
   ]
  },
  {
   "cell_type": "code",
   "execution_count": null,
   "metadata": {},
   "outputs": [],
   "source": []
  },
  {
   "cell_type": "code",
   "execution_count": null,
   "metadata": {},
   "outputs": [],
   "source": []
  },
  {
   "cell_type": "code",
   "execution_count": null,
   "metadata": {},
   "outputs": [],
   "source": []
  }
 ],
 "metadata": {
  "kernelspec": {
   "display_name": "Python 3",
   "language": "python",
   "name": "python3"
  },
  "language_info": {
   "codemirror_mode": {
    "name": "ipython",
    "version": 3
   },
   "file_extension": ".py",
   "mimetype": "text/x-python",
   "name": "python",
   "nbconvert_exporter": "python",
   "pygments_lexer": "ipython3",
   "version": "3.6.4"
  }
 },
 "nbformat": 4,
 "nbformat_minor": 2
}
